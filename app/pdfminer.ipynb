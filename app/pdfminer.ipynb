{
 "cells": [
  {
   "cell_type": "code",
   "execution_count": 1,
   "metadata": {},
   "outputs": [],
   "source": [
    "from pdfminer.pdfinterp import PDFResourceManager,PDFPageInterpreter\n",
    "from pdfminer.converter import TextConverter\n",
    "from pdfminer.layout import LAParams\n",
    "from pdfminer.pdfpage import PDFPage\n",
    "from io import BytesIO"
   ]
  },
  {
   "cell_type": "code",
   "execution_count": 2,
   "metadata": {},
   "outputs": [],
   "source": [
    "manager = PDFResourceManager()"
   ]
  },
  {
   "cell_type": "code",
   "execution_count": 3,
   "metadata": {},
   "outputs": [],
   "source": [
    "retstr = BytesIO()"
   ]
  },
  {
   "cell_type": "code",
   "execution_count": 4,
   "metadata": {},
   "outputs": [],
   "source": [
    "layout = LAParams(all_texts=True)"
   ]
  },
  {
   "cell_type": "code",
   "execution_count": 5,
   "metadata": {},
   "outputs": [],
   "source": [
    "device = TextConverter(manager, retstr, laparams=layout)"
   ]
  },
  {
   "cell_type": "code",
   "execution_count": 6,
   "metadata": {},
   "outputs": [],
   "source": [
    "filepath = open('letter_of_authorization.pdf', 'rb')"
   ]
  },
  {
   "cell_type": "code",
   "execution_count": 7,
   "metadata": {},
   "outputs": [],
   "source": [
    "interpreter = PDFPageInterpreter(manager, device)"
   ]
  },
  {
   "cell_type": "code",
   "execution_count": 8,
   "metadata": {},
   "outputs": [],
   "source": [
    "for page in PDFPage.get_pages(filepath, check_extractable=True):\n",
    "    interpreter.process_page(page)\n",
    "    text = retstr.getvalue()"
   ]
  },
  {
   "cell_type": "code",
   "execution_count": 9,
   "metadata": {},
   "outputs": [],
   "source": [
    "filepath.close()\n",
    "device.close()\n",
    "retstr.close()"
   ]
  },
  {
   "cell_type": "code",
   "execution_count": 10,
   "metadata": {},
   "outputs": [
    {
     "name": "stdout",
     "output_type": "stream",
     "text": [
      "b'Letter of Authorization (LOA) \\n\\n(Office Use Only) \\n \\n \\nSub Firm # \\n \\n205 \\n \\n\\n \\n\\n \\nAccount Number \\n\\n \\n \\n \\n \\n \\n\\n \\n\\n \\nComplete all\\nfields, including \\nyour 8-digit \\n \\naccount number. \\n\\n \\n\\n \\n\\n \\n\\nSection 1  Tell Us About Your Wells Fargo Advisors Brokerage Account \\n\\n \\n \\nWells Fargo 8-Digit Brokerage Account Number \\n\\n \\n\\n \\n\\n \\n\\n \\n\\n      \\n\\n \\nAccount Type (e.g., Individual, Joint, Trust, etc.) \\n\\n \\nAccount Name(s) (e.g., John Doe, John and Mary Doe, the Doe Family Trust, etc.) \\n\\n \\n\\n \\n\\n \\nPurpose for Transfer \\xe2\\x80\\x93 required for UTMA/UGMA: \\n\\n \\n\\nSection 2  Tell Us About Your Transfer Request \\n\\n \\n\\n \\n\\n                     \\n\\n \\n\\n  \\n\\nOne-Time Disbursement (Any future requests will require a new form) \\n \\n\\n \\n\\n \\n\\n \\n\\n \\n\\nStanding Instructions (Requests for transfers at your discretion with amount not to exceed your specified threshold. You must \\ninitiate each request.) \\n\\n                           \\n\\n               Not to exceed amount: \\n\\n$\\n               \\n\\n______________________ \\n\\n \\n\\n \\nIf no selection is \\n \\nmade, one-time \\n \\n \\ndisbursement is \\n \\nthe default. \\n\\n  \\n\\nRecurring* (only available for cash) \\n \\n*Automated transfer of a specific dollar amount or type \\n\\nAmount $:  _______________________________  AND/OR Types(s) (dividends, interest, etc.): \\n \\n\\n \\n\\n \\n\\n_________________________ \\n \\n\\nStart Date:  _______________________________  Frequency (monthly, quarterly, etc.):  __________________________________ \\n \\n\\n \\n\\n \\n\\n \\n\\nExpiration Date or transfers will continue until you revoke: \\n \\n\\n \\n\\n \\n\\n \\n\\n \\n\\n \\n\\n \\n\\nSection 3  Tell Us How You Want To Move Assets \\n \\nTime of \\ncompletion \\nvaries based on \\n \\naccount activity\\n \\nand method of \\ndistribution. \\n \\n\\nSend shares to another Financial Firm \\n \\nReceiving Account Number \\n \\n\\n \\n\\n \\n\\n \\n\\nMove via Journal to another Wells Fargo Advisors Account \\n \\n8-Digit Account Number \\n\\n \\n\\nAccount Title \\n \\n\\nReceiving Account Name \\n\\n \\n\\n \\n\\n \\n\\n \\n\\nChecks cannot \\nbe mailed \\ndirectly to the \\nIRS or other \\ntaxing\\n \\nauthorities. \\n \\n \\nCheck cannot \\nbe overnighted\\n \\nto a P.O. Box. \\n \\n\\nReceiving Firm Name \\n\\n \\nDelivery Instructions \\n\\nFirm or DTC Number \\n\\n \\n\\n \\n\\nCheck \\n \\nPayee Information \\xe2\\x80\\x93 Make Check Payable To: \\n \\n \\n \\nPayee Name:  _______________________________________________________________________________ \\n \\nDelivery Instructions \\xe2\\x80\\x93 Mail to Address: \\n\\n \\n\\n \\n\\nStreet Address \\n\\n \\nCity \\n\\n \\nState \\n\\n \\nZip Code \\n\\n \\nCountry (if outside of US)\\n\\n \\n  Optional Memo Note: \\n\\n________________________________________________________________________________ \\n\\nDelivery Method\\n \\n\\n  Regular Mail (default)\\n\\n \\n\\n  Overnight Delivery (Fee will apply, overnight is not an option for recurring instructions) \\n \\n\\n \\n\\nInvestment and Insurance Products: \\n \\nNot Insured by FDIC or any Federal Government Agency  May Lose Value \\n \\nWells Fargo Advisors is a trade name used by Wells Fargo Clearing Services, LLC, a registered broker-dealer and non-bank affiliate of Wells Fargo  \\n \\n& Company. \\n\\nNot a Deposit of or Guaranteed by a Bank or any Bank Affiliate \\n \\n\\n \\n\\n \\n\\n \\n\\n \\n\\n \\n\\n \\n\\n \\n\\n \\n\\n \\n588287 (Rev 13 \\xe2\\x80\\x93 06/19) Page 1 of 2 \\n\\nSR # \\n \\n\\n\\x0c \\n\\n \\n\\n \\n\\n \\nSection 4  Tell Us What You Want To Transfer\\nYou may elect \\nto distribute \\ncash only,\\nsecurities only,\\nor both cash \\nand securities. \\n \\n\\n  \\n\\n  \\n\\n \\n\\n \\n\\n  \\n\\nCash $: \\n \\n\\n \\n\\n                \\n\\nAll Cash and Securities \\xe2\\x80\\x93 does not include residuals \\n\\n \\n\\nAll Cash and Securities \\xe2\\x80\\x93 including 90 day cash residual transfer \\n \\n\\n \\n\\nor write in ALL \\n \\n\\n  \\n\\nAll Securities \\n \\n\\n  \\n\\nOnly the securities listed below \\n \\n\\n \\n\\nNeed more space? Attach separate pages including Tax Lot Selections if applicable; any attachments must also be signed. \\n\\nNumber of Shares/Contracts \\n(or for standing instructions, \\nlist not to exceed quantity) \\n \\n\\nSecurity Description \\n \\n\\nSymbol or CUSIP \\n \\n\\nFor standing instructions, provide \\nmaximum market value based on \\n \\nprior business day\\'s closing value \\n\\n \\n\\n \\n\\n \\n\\n \\n\\n \\n\\n \\n\\n \\n\\n \\n\\n \\n\\n \\n\\n \\n\\n \\n\\n \\n\\n \\n\\n \\n\\n \\n\\n \\n\\n \\n\\n \\n\\n \\n\\n \\n\\n \\n\\n \\n\\n \\n\\n \\n\\n \\n\\n \\n\\n \\n\\n \\n\\n \\n\\n \\n\\n \\n\\n \\n\\n \\n\\n \\n\\n \\n\\n \\n\\n \\n\\n \\n\\n \\n\\n \\n\\n \\n\\n \\n\\n \\n\\n \\n\\n \\nDate \\n\\nDate \\n \\n\\n \\nPrint Name \\n \\n\\nPrint Name \\n \\n \\n\\nMail \\nWells Fargo Advisors \\xe2\\x80\\x93 Attention: MAC N9160-01P  \\nPO Box 77046, \\nMinneapolis, MN 55480-9902 \\n \\n\\nSection 5  Provide Signature(s) and Date \\nThe undersigned acknowledges that I/we have read this form in its entirety and understand and agree to be bound by this Letter of Authorization and the Terms and Conditions \\n \\n \\nlocated on page 2. \\n \\nAccount Owner/Trustee Signature \\n \\nX \\n \\nAccount Owner/Trustee Signature \\nX \\nSection 6  Next Steps \\n \\nFax \\n844-879-1439 \\n \\nQuestions: 1-800-TRADERS (872-3377) \\n \\nWe\\xe2\\x80\\x99re here for you 24/7 \\nTerms and Conditions \\n  \\n \\n \\nWELLS FARGO CLEARING SERVICES, LLC, (\"WFA\"), and Wells Fargo Bank, N.A., are separate affiliates of Wells Fargo & Company. As separate legal entities, none are \\nresponsible for the obligations of the others. Stocks, bonds, mutual funds, and other securities bought and sold through WFA are not bank deposits of any bank and are not \\n \\ninsured or otherwise protected by the Federal Deposit Insurance Corporation or any other government agency; are not an obligation of any bank or any affiliate of WFA; are not \\n \\nendorsed or guaranteed by Wells Fargo & Company, WFA, or any bank or any affiliate of WFA; and involve investment risk including possible loss of principal. Accounts are \\ncarried by Wells Fargo Clearing Services, LLC, member NYSE/SIPC. \\n \\n \\n \\nIn consideration of WFA accepting the instructions on this document, I release and discharge WFA and its affiliates from any liability or claims in connection with these instructions \\nand agree to indemnify and hold WFA harmless against any losses from any action, claim, or demand of any person based upon WFA acting under these instructions.  \\n \\nFor transfers to third party accounts in which you have no ownership interest, you agree that by signing this document that you are irrevocably relinquishing all rights, title, and \\n \\ninterest to the asset(s) listed on this document. \\n \\n \\nI acknowledge that I have read and understand the terms of this request to transfer assets and further acknowledge that the terms of this request are binding regardless of any \\nother agreement(s) between me and the recipient(s) of these assets. \\n \\nOFFICE USE ONLY: Associate and Supervisory Signatures \\nThe undersigned certifies that the account holder(s) authorized the terms of the transfer of funds and/or securities as described in this form. \\nAssociate\\xe2\\x80\\x99s Signature \\nX \\n \\nQualified Supervisor\\'s Signature \\nX \\n\\nQualified Supervisor\\'s Name \\n \\n \\n\\n \\nAssociate\\xe2\\x80\\x99s Name \\n \\n\\nDate \\n \\n\\n \\nDate \\n\\n \\n\\n \\n\\n \\n\\n \\n\\n \\n\\n \\n\\n \\n\\n \\n\\n \\n\\n \\n\\n \\n\\n \\n\\n \\n\\n \\n\\n \\n\\n \\n\\n \\n\\n \\n\\n \\n\\n \\n\\n \\n\\n \\n\\n \\n\\n \\n\\n \\n\\n \\n\\n \\n\\n \\n\\n \\n\\n \\n\\n \\n\\n \\n\\n \\n\\n \\n\\n \\n\\n \\n\\nInvestment and Insurance Products: \\n \\nNot Insured by FDIC or any Federal Government Agency  May Lose Value \\n \\nWells Fargo Advisors is a trade name used by Wells Fargo Clearing Services, LLC, a registered broker-dealer and non-bank affiliate of Wells Fargo  \\n \\n& Company. \\n588287 (Rev 13 \\xe2\\x80\\x93 06/19) Page 2 of 2 \\n \\n\\nNot a Deposit of or Guaranteed by a Bank or any Bank Affiliate \\n \\n\\n \\n\\n \\n\\n \\n\\n \\n\\n \\n\\n \\n\\n \\n\\n\\x0c'\n"
     ]
    }
   ],
   "source": [
    "print(text)"
   ]
  },
  {
   "cell_type": "code",
   "execution_count": 11,
   "metadata": {},
   "outputs": [],
   "source": [
    "from PyPDF2 import PdfFileReader"
   ]
  },
  {
   "cell_type": "code",
   "execution_count": 12,
   "metadata": {},
   "outputs": [
    {
     "name": "stdout",
     "output_type": "stream",
     "text": [
      "{'/Author': 'Wells Fargo', '/CreationDate': \"D:20060203125253-07'00'\", '/Creator': 'PScript5.dll Version 5.2', '/Keywords': 'Letter, Authorization, (LOA)', '/ModDate': \"D:20191125111515-06'00'\", '/Producer': 'Acrobat Distiller 6.0.1 (Windows)', '/Subject': 'Letter of Authorization (LOA)', '/Title': 'Letter of Authorization (LOA)'}\n"
     ]
    }
   ],
   "source": [
    "with open('letter_of_authorization.pdf', 'rb') as f:\n",
    "    pdf = PdfFileReader(f)\n",
    "    info = pdf.getDocumentInfo()\n",
    "    number_of_pages = pdf.getNumPages()\n",
    "    forms = pdf.getFields()\n",
    "print(info)"
   ]
  },
  {
   "cell_type": "code",
   "execution_count": 13,
   "metadata": {},
   "outputs": [
    {
     "name": "stdout",
     "output_type": "stream",
     "text": [
      "{'CustomJSActions': {'/FT': '/Tx', '/T': 'CustomJSActions', '/TU': '     ', '/Ff': 1, '/AA': {'/C': IndirectObject(777, 0)}}, 'Transaction_Type': {'/FT': '/Tx', '/Parent': {'/Kids': [IndirectObject(669, 0), IndirectObject(708, 0), IndirectObject(746, 0), IndirectObject(716, 0), IndirectObject(159, 0), IndirectObject(157, 0), IndirectObject(135, 0), IndirectObject(146, 0), IndirectObject(667, 0), IndirectObject(671, 0), IndirectObject(691, 0), IndirectObject(697, 0), IndirectObject(693, 0), IndirectObject(715, 0), IndirectObject(706, 0), IndirectObject(714, 0), IndirectObject(717, 0), IndirectObject(718, 0), IndirectObject(724, 0), IndirectObject(725, 0), IndirectObject(726, 0), IndirectObject(729, 0), IndirectObject(730, 0), IndirectObject(695, 0), IndirectObject(83, 0), IndirectObject(699, 0), IndirectObject(120, 0), IndirectObject(152, 0), IndirectObject(156, 0), IndirectObject(148, 0), IndirectObject(727, 0), IndirectObject(728, 0), IndirectObject(82, 0), IndirectObject(665, 0), IndirectObject(674, 0), IndirectObject(701, 0), IndirectObject(709, 0), IndirectObject(719, 0), IndirectObject(735, 0), IndirectObject(736, 0), IndirectObject(741, 0), IndirectObject(679, 0), IndirectObject(686, 0), IndirectObject(92, 0), IndirectObject(85, 0), IndirectObject(87, 0), IndirectObject(89, 0), IndirectObject(672, 0), IndirectObject(118, 0), IndirectObject(119, 0), IndirectObject(104, 0), IndirectObject(109, 0), IndirectObject(113, 0), IndirectObject(114, 0), IndirectObject(105, 0), IndirectObject(115, 0), IndirectObject(117, 0), IndirectObject(111, 0), IndirectObject(106, 0), IndirectObject(107, 0), IndirectObject(108, 0), IndirectObject(110, 0), IndirectObject(124, 0), IndirectObject(129, 0), IndirectObject(121, 0), IndirectObject(127, 0), IndirectObject(122, 0), IndirectObject(134, 0), IndirectObject(132, 0), IndirectObject(126, 0), IndirectObject(123, 0), IndirectObject(128, 0), IndirectObject(130, 0), IndirectObject(131, 0), IndirectObject(136, 0), IndirectObject(133, 0), IndirectObject(684, 0)], '/T': 'fax'}, '/T': 'Transaction_Type', '/TU': 'Account Type (e.g., Individual, Joint, Trust, etc.)', '/Ff': 8388608, '/AA': {'/C': IndirectObject(782, 0)}}, 'Account_Title_0': {'/FT': '/Tx', '/Parent': {'/Kids': [IndirectObject(669, 0), IndirectObject(708, 0), IndirectObject(746, 0), IndirectObject(716, 0), IndirectObject(159, 0), IndirectObject(157, 0), IndirectObject(135, 0), IndirectObject(146, 0), IndirectObject(667, 0), IndirectObject(671, 0), IndirectObject(691, 0), IndirectObject(697, 0), IndirectObject(693, 0), IndirectObject(715, 0), IndirectObject(706, 0), IndirectObject(714, 0), IndirectObject(717, 0), IndirectObject(718, 0), IndirectObject(724, 0), IndirectObject(725, 0), IndirectObject(726, 0), IndirectObject(729, 0), IndirectObject(730, 0), IndirectObject(695, 0), IndirectObject(83, 0), IndirectObject(699, 0), IndirectObject(120, 0), IndirectObject(152, 0), IndirectObject(156, 0), IndirectObject(148, 0), IndirectObject(727, 0), IndirectObject(728, 0), IndirectObject(82, 0), IndirectObject(665, 0), IndirectObject(674, 0), IndirectObject(701, 0), IndirectObject(709, 0), IndirectObject(719, 0), IndirectObject(735, 0), IndirectObject(736, 0), IndirectObject(741, 0), IndirectObject(679, 0), IndirectObject(686, 0), IndirectObject(92, 0), IndirectObject(85, 0), IndirectObject(87, 0), IndirectObject(89, 0), IndirectObject(672, 0), IndirectObject(118, 0), IndirectObject(119, 0), IndirectObject(104, 0), IndirectObject(109, 0), IndirectObject(113, 0), IndirectObject(114, 0), IndirectObject(105, 0), IndirectObject(115, 0), IndirectObject(117, 0), IndirectObject(111, 0), IndirectObject(106, 0), IndirectObject(107, 0), IndirectObject(108, 0), IndirectObject(110, 0), IndirectObject(124, 0), IndirectObject(129, 0), IndirectObject(121, 0), IndirectObject(127, 0), IndirectObject(122, 0), IndirectObject(134, 0), IndirectObject(132, 0), IndirectObject(126, 0), IndirectObject(123, 0), IndirectObject(128, 0), IndirectObject(130, 0), IndirectObject(131, 0), IndirectObject(136, 0), IndirectObject(133, 0), IndirectObject(684, 0)], '/T': 'fax'}, '/T': 'Account_Title_0', '/TU': 'Section 3 - Account Title', '/Ff': 8388608, '/AA': {'/F': IndirectObject(808, 0)}}, 'ServiceReqNum': {'/FT': '/Tx', '/Parent': {'/Kids': [IndirectObject(669, 0), IndirectObject(708, 0), IndirectObject(746, 0), IndirectObject(716, 0), IndirectObject(159, 0), IndirectObject(157, 0), IndirectObject(135, 0), IndirectObject(146, 0), IndirectObject(667, 0), IndirectObject(671, 0), IndirectObject(691, 0), IndirectObject(697, 0), IndirectObject(693, 0), IndirectObject(715, 0), IndirectObject(706, 0), IndirectObject(714, 0), IndirectObject(717, 0), IndirectObject(718, 0), IndirectObject(724, 0), IndirectObject(725, 0), IndirectObject(726, 0), IndirectObject(729, 0), IndirectObject(730, 0), IndirectObject(695, 0), IndirectObject(83, 0), IndirectObject(699, 0), IndirectObject(120, 0), IndirectObject(152, 0), IndirectObject(156, 0), IndirectObject(148, 0), IndirectObject(727, 0), IndirectObject(728, 0), IndirectObject(82, 0), IndirectObject(665, 0), IndirectObject(674, 0), IndirectObject(701, 0), IndirectObject(709, 0), IndirectObject(719, 0), IndirectObject(735, 0), IndirectObject(736, 0), IndirectObject(741, 0), IndirectObject(679, 0), IndirectObject(686, 0), IndirectObject(92, 0), IndirectObject(85, 0), IndirectObject(87, 0), IndirectObject(89, 0), IndirectObject(672, 0), IndirectObject(118, 0), IndirectObject(119, 0), IndirectObject(104, 0), IndirectObject(109, 0), IndirectObject(113, 0), IndirectObject(114, 0), IndirectObject(105, 0), IndirectObject(115, 0), IndirectObject(117, 0), IndirectObject(111, 0), IndirectObject(106, 0), IndirectObject(107, 0), IndirectObject(108, 0), IndirectObject(110, 0), IndirectObject(124, 0), IndirectObject(129, 0), IndirectObject(121, 0), IndirectObject(127, 0), IndirectObject(122, 0), IndirectObject(134, 0), IndirectObject(132, 0), IndirectObject(126, 0), IndirectObject(123, 0), IndirectObject(128, 0), IndirectObject(130, 0), IndirectObject(131, 0), IndirectObject(136, 0), IndirectObject(133, 0), IndirectObject(684, 0)], '/T': 'fax'}, '/T': 'ServiceReqNum', '/TU': 'Office Use Only: SR Number', '/Ff': 12582914, '/AA': {'/F': IndirectObject(820, 0), '/K': IndirectObject(821, 0)}}, 'Recipient_Name': {'/FT': '/Tx', '/Parent': {'/Kids': [IndirectObject(669, 0), IndirectObject(708, 0), IndirectObject(746, 0), IndirectObject(716, 0), IndirectObject(159, 0), IndirectObject(157, 0), IndirectObject(135, 0), IndirectObject(146, 0), IndirectObject(667, 0), IndirectObject(671, 0), IndirectObject(691, 0), IndirectObject(697, 0), IndirectObject(693, 0), IndirectObject(715, 0), IndirectObject(706, 0), IndirectObject(714, 0), IndirectObject(717, 0), IndirectObject(718, 0), IndirectObject(724, 0), IndirectObject(725, 0), IndirectObject(726, 0), IndirectObject(729, 0), IndirectObject(730, 0), IndirectObject(695, 0), IndirectObject(83, 0), IndirectObject(699, 0), IndirectObject(120, 0), IndirectObject(152, 0), IndirectObject(156, 0), IndirectObject(148, 0), IndirectObject(727, 0), IndirectObject(728, 0), IndirectObject(82, 0), IndirectObject(665, 0), IndirectObject(674, 0), IndirectObject(701, 0), IndirectObject(709, 0), IndirectObject(719, 0), IndirectObject(735, 0), IndirectObject(736, 0), IndirectObject(741, 0), IndirectObject(679, 0), IndirectObject(686, 0), IndirectObject(92, 0), IndirectObject(85, 0), IndirectObject(87, 0), IndirectObject(89, 0), IndirectObject(672, 0), IndirectObject(118, 0), IndirectObject(119, 0), IndirectObject(104, 0), IndirectObject(109, 0), IndirectObject(113, 0), IndirectObject(114, 0), IndirectObject(105, 0), IndirectObject(115, 0), IndirectObject(117, 0), IndirectObject(111, 0), IndirectObject(106, 0), IndirectObject(107, 0), IndirectObject(108, 0), IndirectObject(110, 0), IndirectObject(124, 0), IndirectObject(129, 0), IndirectObject(121, 0), IndirectObject(127, 0), IndirectObject(122, 0), IndirectObject(134, 0), IndirectObject(132, 0), IndirectObject(126, 0), IndirectObject(123, 0), IndirectObject(128, 0), IndirectObject(130, 0), IndirectObject(131, 0), IndirectObject(136, 0), IndirectObject(133, 0), IndirectObject(684, 0)], '/T': 'fax'}, '/T': 'Recipient_Name', '/TU': 'Section 3 - Receiving Firm Name', '/Ff': 8388608, '/AA': {'/F': IndirectObject(811, 0)}}, 'Associate_Name': {'/FT': '/Tx', '/Parent': {'/Kids': [IndirectObject(669, 0), IndirectObject(708, 0), IndirectObject(746, 0), IndirectObject(716, 0), IndirectObject(159, 0), IndirectObject(157, 0), IndirectObject(135, 0), IndirectObject(146, 0), IndirectObject(667, 0), IndirectObject(671, 0), IndirectObject(691, 0), IndirectObject(697, 0), IndirectObject(693, 0), IndirectObject(715, 0), IndirectObject(706, 0), IndirectObject(714, 0), IndirectObject(717, 0), IndirectObject(718, 0), IndirectObject(724, 0), IndirectObject(725, 0), IndirectObject(726, 0), IndirectObject(729, 0), IndirectObject(730, 0), IndirectObject(695, 0), IndirectObject(83, 0), IndirectObject(699, 0), IndirectObject(120, 0), IndirectObject(152, 0), IndirectObject(156, 0), IndirectObject(148, 0), IndirectObject(727, 0), IndirectObject(728, 0), IndirectObject(82, 0), IndirectObject(665, 0), IndirectObject(674, 0), IndirectObject(701, 0), IndirectObject(709, 0), IndirectObject(719, 0), IndirectObject(735, 0), IndirectObject(736, 0), IndirectObject(741, 0), IndirectObject(679, 0), IndirectObject(686, 0), IndirectObject(92, 0), IndirectObject(85, 0), IndirectObject(87, 0), IndirectObject(89, 0), IndirectObject(672, 0), IndirectObject(118, 0), IndirectObject(119, 0), IndirectObject(104, 0), IndirectObject(109, 0), IndirectObject(113, 0), IndirectObject(114, 0), IndirectObject(105, 0), IndirectObject(115, 0), IndirectObject(117, 0), IndirectObject(111, 0), IndirectObject(106, 0), IndirectObject(107, 0), IndirectObject(108, 0), IndirectObject(110, 0), IndirectObject(124, 0), IndirectObject(129, 0), IndirectObject(121, 0), IndirectObject(127, 0), IndirectObject(122, 0), IndirectObject(134, 0), IndirectObject(132, 0), IndirectObject(126, 0), IndirectObject(123, 0), IndirectObject(128, 0), IndirectObject(130, 0), IndirectObject(131, 0), IndirectObject(136, 0), IndirectObject(133, 0), IndirectObject(684, 0)], '/T': 'fax'}, '/T': 'Associate_Name', '/TU': \"Office Use Only - Associate's Name\", '/Ff': 8388608, '/AA': {'/C': IndirectObject(194, 0)}}, 'Qualified_Supervisor_Name': {'/FT': '/Tx', '/Parent': {'/Kids': [IndirectObject(669, 0), IndirectObject(708, 0), IndirectObject(746, 0), IndirectObject(716, 0), IndirectObject(159, 0), IndirectObject(157, 0), IndirectObject(135, 0), IndirectObject(146, 0), IndirectObject(667, 0), IndirectObject(671, 0), IndirectObject(691, 0), IndirectObject(697, 0), IndirectObject(693, 0), IndirectObject(715, 0), IndirectObject(706, 0), IndirectObject(714, 0), IndirectObject(717, 0), IndirectObject(718, 0), IndirectObject(724, 0), IndirectObject(725, 0), IndirectObject(726, 0), IndirectObject(729, 0), IndirectObject(730, 0), IndirectObject(695, 0), IndirectObject(83, 0), IndirectObject(699, 0), IndirectObject(120, 0), IndirectObject(152, 0), IndirectObject(156, 0), IndirectObject(148, 0), IndirectObject(727, 0), IndirectObject(728, 0), IndirectObject(82, 0), IndirectObject(665, 0), IndirectObject(674, 0), IndirectObject(701, 0), IndirectObject(709, 0), IndirectObject(719, 0), IndirectObject(735, 0), IndirectObject(736, 0), IndirectObject(741, 0), IndirectObject(679, 0), IndirectObject(686, 0), IndirectObject(92, 0), IndirectObject(85, 0), IndirectObject(87, 0), IndirectObject(89, 0), IndirectObject(672, 0), IndirectObject(118, 0), IndirectObject(119, 0), IndirectObject(104, 0), IndirectObject(109, 0), IndirectObject(113, 0), IndirectObject(114, 0), IndirectObject(105, 0), IndirectObject(115, 0), IndirectObject(117, 0), IndirectObject(111, 0), IndirectObject(106, 0), IndirectObject(107, 0), IndirectObject(108, 0), IndirectObject(110, 0), IndirectObject(124, 0), IndirectObject(129, 0), IndirectObject(121, 0), IndirectObject(127, 0), IndirectObject(122, 0), IndirectObject(134, 0), IndirectObject(132, 0), IndirectObject(126, 0), IndirectObject(123, 0), IndirectObject(128, 0), IndirectObject(130, 0), IndirectObject(131, 0), IndirectObject(136, 0), IndirectObject(133, 0), IndirectObject(684, 0)], '/T': 'fax'}, '/T': 'Qualified_Supervisor_Name', '/TU': \"Office Use Only - Qualified Supervisor's Name\", '/Ff': 8388608, '/AA': {'/C': IndirectObject(198, 0)}}, 'Name_1': {'/FT': '/Tx', '/Parent': {'/Kids': [IndirectObject(669, 0), IndirectObject(708, 0), IndirectObject(746, 0), IndirectObject(716, 0), IndirectObject(159, 0), IndirectObject(157, 0), IndirectObject(135, 0), IndirectObject(146, 0), IndirectObject(667, 0), IndirectObject(671, 0), IndirectObject(691, 0), IndirectObject(697, 0), IndirectObject(693, 0), IndirectObject(715, 0), IndirectObject(706, 0), IndirectObject(714, 0), IndirectObject(717, 0), IndirectObject(718, 0), IndirectObject(724, 0), IndirectObject(725, 0), IndirectObject(726, 0), IndirectObject(729, 0), IndirectObject(730, 0), IndirectObject(695, 0), IndirectObject(83, 0), IndirectObject(699, 0), IndirectObject(120, 0), IndirectObject(152, 0), IndirectObject(156, 0), IndirectObject(148, 0), IndirectObject(727, 0), IndirectObject(728, 0), IndirectObject(82, 0), IndirectObject(665, 0), IndirectObject(674, 0), IndirectObject(701, 0), IndirectObject(709, 0), IndirectObject(719, 0), IndirectObject(735, 0), IndirectObject(736, 0), IndirectObject(741, 0), IndirectObject(679, 0), IndirectObject(686, 0), IndirectObject(92, 0), IndirectObject(85, 0), IndirectObject(87, 0), IndirectObject(89, 0), IndirectObject(672, 0), IndirectObject(118, 0), IndirectObject(119, 0), IndirectObject(104, 0), IndirectObject(109, 0), IndirectObject(113, 0), IndirectObject(114, 0), IndirectObject(105, 0), IndirectObject(115, 0), IndirectObject(117, 0), IndirectObject(111, 0), IndirectObject(106, 0), IndirectObject(107, 0), IndirectObject(108, 0), IndirectObject(110, 0), IndirectObject(124, 0), IndirectObject(129, 0), IndirectObject(121, 0), IndirectObject(127, 0), IndirectObject(122, 0), IndirectObject(134, 0), IndirectObject(132, 0), IndirectObject(126, 0), IndirectObject(123, 0), IndirectObject(128, 0), IndirectObject(130, 0), IndirectObject(131, 0), IndirectObject(136, 0), IndirectObject(133, 0), IndirectObject(684, 0)], '/T': 'fax'}, '/T': 'Name_1', '/TU': 'Section 5 - Print Name (Signer 1)', '/Ff': 8388608, '/AA': {'/C': IndirectObject(166, 0)}}, 'Name_2': {'/FT': '/Tx', '/Parent': {'/Kids': [IndirectObject(669, 0), IndirectObject(708, 0), IndirectObject(746, 0), IndirectObject(716, 0), IndirectObject(159, 0), IndirectObject(157, 0), IndirectObject(135, 0), IndirectObject(146, 0), IndirectObject(667, 0), IndirectObject(671, 0), IndirectObject(691, 0), IndirectObject(697, 0), IndirectObject(693, 0), IndirectObject(715, 0), IndirectObject(706, 0), IndirectObject(714, 0), IndirectObject(717, 0), IndirectObject(718, 0), IndirectObject(724, 0), IndirectObject(725, 0), IndirectObject(726, 0), IndirectObject(729, 0), IndirectObject(730, 0), IndirectObject(695, 0), IndirectObject(83, 0), IndirectObject(699, 0), IndirectObject(120, 0), IndirectObject(152, 0), IndirectObject(156, 0), IndirectObject(148, 0), IndirectObject(727, 0), IndirectObject(728, 0), IndirectObject(82, 0), IndirectObject(665, 0), IndirectObject(674, 0), IndirectObject(701, 0), IndirectObject(709, 0), IndirectObject(719, 0), IndirectObject(735, 0), IndirectObject(736, 0), IndirectObject(741, 0), IndirectObject(679, 0), IndirectObject(686, 0), IndirectObject(92, 0), IndirectObject(85, 0), IndirectObject(87, 0), IndirectObject(89, 0), IndirectObject(672, 0), IndirectObject(118, 0), IndirectObject(119, 0), IndirectObject(104, 0), IndirectObject(109, 0), IndirectObject(113, 0), IndirectObject(114, 0), IndirectObject(105, 0), IndirectObject(115, 0), IndirectObject(117, 0), IndirectObject(111, 0), IndirectObject(106, 0), IndirectObject(107, 0), IndirectObject(108, 0), IndirectObject(110, 0), IndirectObject(124, 0), IndirectObject(129, 0), IndirectObject(121, 0), IndirectObject(127, 0), IndirectObject(122, 0), IndirectObject(134, 0), IndirectObject(132, 0), IndirectObject(126, 0), IndirectObject(123, 0), IndirectObject(128, 0), IndirectObject(130, 0), IndirectObject(131, 0), IndirectObject(136, 0), IndirectObject(133, 0), IndirectObject(684, 0)], '/T': 'fax'}, '/T': 'Name_2', '/TU': 'Section 5 - Print Name (Signer 2)', '/Ff': 8388608, '/AA': {'/C': IndirectObject(201, 0)}}, 'Account_Number': {'/FT': '/Tx', '/Parent': {'/Kids': [IndirectObject(669, 0), IndirectObject(708, 0), IndirectObject(746, 0), IndirectObject(716, 0), IndirectObject(159, 0), IndirectObject(157, 0), IndirectObject(135, 0), IndirectObject(146, 0), IndirectObject(667, 0), IndirectObject(671, 0), IndirectObject(691, 0), IndirectObject(697, 0), IndirectObject(693, 0), IndirectObject(715, 0), IndirectObject(706, 0), IndirectObject(714, 0), IndirectObject(717, 0), IndirectObject(718, 0), IndirectObject(724, 0), IndirectObject(725, 0), IndirectObject(726, 0), IndirectObject(729, 0), IndirectObject(730, 0), IndirectObject(695, 0), IndirectObject(83, 0), IndirectObject(699, 0), IndirectObject(120, 0), IndirectObject(152, 0), IndirectObject(156, 0), IndirectObject(148, 0), IndirectObject(727, 0), IndirectObject(728, 0), IndirectObject(82, 0), IndirectObject(665, 0), IndirectObject(674, 0), IndirectObject(701, 0), IndirectObject(709, 0), IndirectObject(719, 0), IndirectObject(735, 0), IndirectObject(736, 0), IndirectObject(741, 0), IndirectObject(679, 0), IndirectObject(686, 0), IndirectObject(92, 0), IndirectObject(85, 0), IndirectObject(87, 0), IndirectObject(89, 0), IndirectObject(672, 0), IndirectObject(118, 0), IndirectObject(119, 0), IndirectObject(104, 0), IndirectObject(109, 0), IndirectObject(113, 0), IndirectObject(114, 0), IndirectObject(105, 0), IndirectObject(115, 0), IndirectObject(117, 0), IndirectObject(111, 0), IndirectObject(106, 0), IndirectObject(107, 0), IndirectObject(108, 0), IndirectObject(110, 0), IndirectObject(124, 0), IndirectObject(129, 0), IndirectObject(121, 0), IndirectObject(127, 0), IndirectObject(122, 0), IndirectObject(134, 0), IndirectObject(132, 0), IndirectObject(126, 0), IndirectObject(123, 0), IndirectObject(128, 0), IndirectObject(130, 0), IndirectObject(131, 0), IndirectObject(136, 0), IndirectObject(133, 0), IndirectObject(684, 0)], '/T': 'fax'}, '/T': 'Account_Number', '/TU': 'Section 1 - Wells Fargo 8-Digit Brokerage Account Number', '/Ff': 12582912, '/AA': {'/C': IndirectObject(780, 0), '/K': IndirectObject(781, 0)}}, 'Account_Name': {'/FT': '/Tx', '/Parent': {'/Kids': [IndirectObject(669, 0), IndirectObject(708, 0), IndirectObject(746, 0), IndirectObject(716, 0), IndirectObject(159, 0), IndirectObject(157, 0), IndirectObject(135, 0), IndirectObject(146, 0), IndirectObject(667, 0), IndirectObject(671, 0), IndirectObject(691, 0), IndirectObject(697, 0), IndirectObject(693, 0), IndirectObject(715, 0), IndirectObject(706, 0), IndirectObject(714, 0), IndirectObject(717, 0), IndirectObject(718, 0), IndirectObject(724, 0), IndirectObject(725, 0), IndirectObject(726, 0), IndirectObject(729, 0), IndirectObject(730, 0), IndirectObject(695, 0), IndirectObject(83, 0), IndirectObject(699, 0), IndirectObject(120, 0), IndirectObject(152, 0), IndirectObject(156, 0), IndirectObject(148, 0), IndirectObject(727, 0), IndirectObject(728, 0), IndirectObject(82, 0), IndirectObject(665, 0), IndirectObject(674, 0), IndirectObject(701, 0), IndirectObject(709, 0), IndirectObject(719, 0), IndirectObject(735, 0), IndirectObject(736, 0), IndirectObject(741, 0), IndirectObject(679, 0), IndirectObject(686, 0), IndirectObject(92, 0), IndirectObject(85, 0), IndirectObject(87, 0), IndirectObject(89, 0), IndirectObject(672, 0), IndirectObject(118, 0), IndirectObject(119, 0), IndirectObject(104, 0), IndirectObject(109, 0), IndirectObject(113, 0), IndirectObject(114, 0), IndirectObject(105, 0), IndirectObject(115, 0), IndirectObject(117, 0), IndirectObject(111, 0), IndirectObject(106, 0), IndirectObject(107, 0), IndirectObject(108, 0), IndirectObject(110, 0), IndirectObject(124, 0), IndirectObject(129, 0), IndirectObject(121, 0), IndirectObject(127, 0), IndirectObject(122, 0), IndirectObject(134, 0), IndirectObject(132, 0), IndirectObject(126, 0), IndirectObject(123, 0), IndirectObject(128, 0), IndirectObject(130, 0), IndirectObject(131, 0), IndirectObject(136, 0), IndirectObject(133, 0), IndirectObject(684, 0)], '/T': 'fax'}, '/T': 'Account_Name', '/TU': 'Section 1 - Account Name(s) (e.g., John Doe, John and Mary Doe, the Doe Family Trust, etc.)', '/Ff': 8388608, '/AA': {'/F': IndirectObject(783, 0)}}, 'Dollar_1': {'/FT': '/Tx', '/Parent': {'/Kids': [IndirectObject(669, 0), IndirectObject(708, 0), IndirectObject(746, 0), IndirectObject(716, 0), IndirectObject(159, 0), IndirectObject(157, 0), IndirectObject(135, 0), IndirectObject(146, 0), IndirectObject(667, 0), IndirectObject(671, 0), IndirectObject(691, 0), IndirectObject(697, 0), IndirectObject(693, 0), IndirectObject(715, 0), IndirectObject(706, 0), IndirectObject(714, 0), IndirectObject(717, 0), IndirectObject(718, 0), IndirectObject(724, 0), IndirectObject(725, 0), IndirectObject(726, 0), IndirectObject(729, 0), IndirectObject(730, 0), IndirectObject(695, 0), IndirectObject(83, 0), IndirectObject(699, 0), IndirectObject(120, 0), IndirectObject(152, 0), IndirectObject(156, 0), IndirectObject(148, 0), IndirectObject(727, 0), IndirectObject(728, 0), IndirectObject(82, 0), IndirectObject(665, 0), IndirectObject(674, 0), IndirectObject(701, 0), IndirectObject(709, 0), IndirectObject(719, 0), IndirectObject(735, 0), IndirectObject(736, 0), IndirectObject(741, 0), IndirectObject(679, 0), IndirectObject(686, 0), IndirectObject(92, 0), IndirectObject(85, 0), IndirectObject(87, 0), IndirectObject(89, 0), IndirectObject(672, 0), IndirectObject(118, 0), IndirectObject(119, 0), IndirectObject(104, 0), IndirectObject(109, 0), IndirectObject(113, 0), IndirectObject(114, 0), IndirectObject(105, 0), IndirectObject(115, 0), IndirectObject(117, 0), IndirectObject(111, 0), IndirectObject(106, 0), IndirectObject(107, 0), IndirectObject(108, 0), IndirectObject(110, 0), IndirectObject(124, 0), IndirectObject(129, 0), IndirectObject(121, 0), IndirectObject(127, 0), IndirectObject(122, 0), IndirectObject(134, 0), IndirectObject(132, 0), IndirectObject(126, 0), IndirectObject(123, 0), IndirectObject(128, 0), IndirectObject(130, 0), IndirectObject(131, 0), IndirectObject(136, 0), IndirectObject(133, 0), IndirectObject(684, 0)], '/T': 'fax'}, '/T': 'Dollar_1', '/TU': 'Section 2 - Dollar Amount (two-decimal places with limit of nine digits)', '/Ff': 8388608, '/AA': {'/C': IndirectObject(792, 0), '/F': IndirectObject(793, 0), '/K': IndirectObject(794, 0)}}, 'Frequency': {'/FT': '/Tx', '/Parent': {'/Kids': [IndirectObject(669, 0), IndirectObject(708, 0), IndirectObject(746, 0), IndirectObject(716, 0), IndirectObject(159, 0), IndirectObject(157, 0), IndirectObject(135, 0), IndirectObject(146, 0), IndirectObject(667, 0), IndirectObject(671, 0), IndirectObject(691, 0), IndirectObject(697, 0), IndirectObject(693, 0), IndirectObject(715, 0), IndirectObject(706, 0), IndirectObject(714, 0), IndirectObject(717, 0), IndirectObject(718, 0), IndirectObject(724, 0), IndirectObject(725, 0), IndirectObject(726, 0), IndirectObject(729, 0), IndirectObject(730, 0), IndirectObject(695, 0), IndirectObject(83, 0), IndirectObject(699, 0), IndirectObject(120, 0), IndirectObject(152, 0), IndirectObject(156, 0), IndirectObject(148, 0), IndirectObject(727, 0), IndirectObject(728, 0), IndirectObject(82, 0), IndirectObject(665, 0), IndirectObject(674, 0), IndirectObject(701, 0), IndirectObject(709, 0), IndirectObject(719, 0), IndirectObject(735, 0), IndirectObject(736, 0), IndirectObject(741, 0), IndirectObject(679, 0), IndirectObject(686, 0), IndirectObject(92, 0), IndirectObject(85, 0), IndirectObject(87, 0), IndirectObject(89, 0), IndirectObject(672, 0), IndirectObject(118, 0), IndirectObject(119, 0), IndirectObject(104, 0), IndirectObject(109, 0), IndirectObject(113, 0), IndirectObject(114, 0), IndirectObject(105, 0), IndirectObject(115, 0), IndirectObject(117, 0), IndirectObject(111, 0), IndirectObject(106, 0), IndirectObject(107, 0), IndirectObject(108, 0), IndirectObject(110, 0), IndirectObject(124, 0), IndirectObject(129, 0), IndirectObject(121, 0), IndirectObject(127, 0), IndirectObject(122, 0), IndirectObject(134, 0), IndirectObject(132, 0), IndirectObject(126, 0), IndirectObject(123, 0), IndirectObject(128, 0), IndirectObject(130, 0), IndirectObject(131, 0), IndirectObject(136, 0), IndirectObject(133, 0), IndirectObject(684, 0)], '/T': 'fax'}, '/T': 'Frequency', '/TU': 'Section 2 - Frequency (monthly, quarterly, etc)', '/Ff': 8388608, '/AA': {'/C': IndirectObject(800, 0)}}, 'Type': {'/FT': '/Tx', '/Parent': {'/Kids': [IndirectObject(669, 0), IndirectObject(708, 0), IndirectObject(746, 0), IndirectObject(716, 0), IndirectObject(159, 0), IndirectObject(157, 0), IndirectObject(135, 0), IndirectObject(146, 0), IndirectObject(667, 0), IndirectObject(671, 0), IndirectObject(691, 0), IndirectObject(697, 0), IndirectObject(693, 0), IndirectObject(715, 0), IndirectObject(706, 0), IndirectObject(714, 0), IndirectObject(717, 0), IndirectObject(718, 0), IndirectObject(724, 0), IndirectObject(725, 0), IndirectObject(726, 0), IndirectObject(729, 0), IndirectObject(730, 0), IndirectObject(695, 0), IndirectObject(83, 0), IndirectObject(699, 0), IndirectObject(120, 0), IndirectObject(152, 0), IndirectObject(156, 0), IndirectObject(148, 0), IndirectObject(727, 0), IndirectObject(728, 0), IndirectObject(82, 0), IndirectObject(665, 0), IndirectObject(674, 0), IndirectObject(701, 0), IndirectObject(709, 0), IndirectObject(719, 0), IndirectObject(735, 0), IndirectObject(736, 0), IndirectObject(741, 0), IndirectObject(679, 0), IndirectObject(686, 0), IndirectObject(92, 0), IndirectObject(85, 0), IndirectObject(87, 0), IndirectObject(89, 0), IndirectObject(672, 0), IndirectObject(118, 0), IndirectObject(119, 0), IndirectObject(104, 0), IndirectObject(109, 0), IndirectObject(113, 0), IndirectObject(114, 0), IndirectObject(105, 0), IndirectObject(115, 0), IndirectObject(117, 0), IndirectObject(111, 0), IndirectObject(106, 0), IndirectObject(107, 0), IndirectObject(108, 0), IndirectObject(110, 0), IndirectObject(124, 0), IndirectObject(129, 0), IndirectObject(121, 0), IndirectObject(127, 0), IndirectObject(122, 0), IndirectObject(134, 0), IndirectObject(132, 0), IndirectObject(126, 0), IndirectObject(123, 0), IndirectObject(128, 0), IndirectObject(130, 0), IndirectObject(131, 0), IndirectObject(136, 0), IndirectObject(133, 0), IndirectObject(684, 0)], '/T': 'fax'}, '/T': 'Type', '/TU': 'Section 2 - And/or Type(s) (dividends, interest, etc.)', '/Ff': 8388608, '/AA': {'/C': IndirectObject(795, 0)}}, 'Receiving_Account_Name': {'/FT': '/Tx', '/Parent': {'/Kids': [IndirectObject(669, 0), IndirectObject(708, 0), IndirectObject(746, 0), IndirectObject(716, 0), IndirectObject(159, 0), IndirectObject(157, 0), IndirectObject(135, 0), IndirectObject(146, 0), IndirectObject(667, 0), IndirectObject(671, 0), IndirectObject(691, 0), IndirectObject(697, 0), IndirectObject(693, 0), IndirectObject(715, 0), IndirectObject(706, 0), IndirectObject(714, 0), IndirectObject(717, 0), IndirectObject(718, 0), IndirectObject(724, 0), IndirectObject(725, 0), IndirectObject(726, 0), IndirectObject(729, 0), IndirectObject(730, 0), IndirectObject(695, 0), IndirectObject(83, 0), IndirectObject(699, 0), IndirectObject(120, 0), IndirectObject(152, 0), IndirectObject(156, 0), IndirectObject(148, 0), IndirectObject(727, 0), IndirectObject(728, 0), IndirectObject(82, 0), IndirectObject(665, 0), IndirectObject(674, 0), IndirectObject(701, 0), IndirectObject(709, 0), IndirectObject(719, 0), IndirectObject(735, 0), IndirectObject(736, 0), IndirectObject(741, 0), IndirectObject(679, 0), IndirectObject(686, 0), IndirectObject(92, 0), IndirectObject(85, 0), IndirectObject(87, 0), IndirectObject(89, 0), IndirectObject(672, 0), IndirectObject(118, 0), IndirectObject(119, 0), IndirectObject(104, 0), IndirectObject(109, 0), IndirectObject(113, 0), IndirectObject(114, 0), IndirectObject(105, 0), IndirectObject(115, 0), IndirectObject(117, 0), IndirectObject(111, 0), IndirectObject(106, 0), IndirectObject(107, 0), IndirectObject(108, 0), IndirectObject(110, 0), IndirectObject(124, 0), IndirectObject(129, 0), IndirectObject(121, 0), IndirectObject(127, 0), IndirectObject(122, 0), IndirectObject(134, 0), IndirectObject(132, 0), IndirectObject(126, 0), IndirectObject(123, 0), IndirectObject(128, 0), IndirectObject(130, 0), IndirectObject(131, 0), IndirectObject(136, 0), IndirectObject(133, 0), IndirectObject(684, 0)], '/T': 'fax'}, '/T': 'Receiving_Account_Name', '/TU': 'Section 3 - Receiving Account Name', '/Ff': 8388608, '/AA': {'/F': IndirectObject(811, 0)}}, 'Account_Num1': {'/FT': '/Tx', '/Parent': {'/Kids': [IndirectObject(669, 0), IndirectObject(708, 0), IndirectObject(746, 0), IndirectObject(716, 0), IndirectObject(159, 0), IndirectObject(157, 0), IndirectObject(135, 0), IndirectObject(146, 0), IndirectObject(667, 0), IndirectObject(671, 0), IndirectObject(691, 0), IndirectObject(697, 0), IndirectObject(693, 0), IndirectObject(715, 0), IndirectObject(706, 0), IndirectObject(714, 0), IndirectObject(717, 0), IndirectObject(718, 0), IndirectObject(724, 0), IndirectObject(725, 0), IndirectObject(726, 0), IndirectObject(729, 0), IndirectObject(730, 0), IndirectObject(695, 0), IndirectObject(83, 0), IndirectObject(699, 0), IndirectObject(120, 0), IndirectObject(152, 0), IndirectObject(156, 0), IndirectObject(148, 0), IndirectObject(727, 0), IndirectObject(728, 0), IndirectObject(82, 0), IndirectObject(665, 0), IndirectObject(674, 0), IndirectObject(701, 0), IndirectObject(709, 0), IndirectObject(719, 0), IndirectObject(735, 0), IndirectObject(736, 0), IndirectObject(741, 0), IndirectObject(679, 0), IndirectObject(686, 0), IndirectObject(92, 0), IndirectObject(85, 0), IndirectObject(87, 0), IndirectObject(89, 0), IndirectObject(672, 0), IndirectObject(118, 0), IndirectObject(119, 0), IndirectObject(104, 0), IndirectObject(109, 0), IndirectObject(113, 0), IndirectObject(114, 0), IndirectObject(105, 0), IndirectObject(115, 0), IndirectObject(117, 0), IndirectObject(111, 0), IndirectObject(106, 0), IndirectObject(107, 0), IndirectObject(108, 0), IndirectObject(110, 0), IndirectObject(124, 0), IndirectObject(129, 0), IndirectObject(121, 0), IndirectObject(127, 0), IndirectObject(122, 0), IndirectObject(134, 0), IndirectObject(132, 0), IndirectObject(126, 0), IndirectObject(123, 0), IndirectObject(128, 0), IndirectObject(130, 0), IndirectObject(131, 0), IndirectObject(136, 0), IndirectObject(133, 0), IndirectObject(684, 0)], '/T': 'fax'}, '/T': 'Account_Num1', '/TU': 'Section 3 - 8-Digit Account Number', '/Ff': 12582912, '/AA': {'/K': IndirectObject(806, 0), '/V': IndirectObject(807, 0)}}, 'Account_Num2': {'/FT': '/Tx', '/Parent': {'/Kids': [IndirectObject(669, 0), IndirectObject(708, 0), IndirectObject(746, 0), IndirectObject(716, 0), IndirectObject(159, 0), IndirectObject(157, 0), IndirectObject(135, 0), IndirectObject(146, 0), IndirectObject(667, 0), IndirectObject(671, 0), IndirectObject(691, 0), IndirectObject(697, 0), IndirectObject(693, 0), IndirectObject(715, 0), IndirectObject(706, 0), IndirectObject(714, 0), IndirectObject(717, 0), IndirectObject(718, 0), IndirectObject(724, 0), IndirectObject(725, 0), IndirectObject(726, 0), IndirectObject(729, 0), IndirectObject(730, 0), IndirectObject(695, 0), IndirectObject(83, 0), IndirectObject(699, 0), IndirectObject(120, 0), IndirectObject(152, 0), IndirectObject(156, 0), IndirectObject(148, 0), IndirectObject(727, 0), IndirectObject(728, 0), IndirectObject(82, 0), IndirectObject(665, 0), IndirectObject(674, 0), IndirectObject(701, 0), IndirectObject(709, 0), IndirectObject(719, 0), IndirectObject(735, 0), IndirectObject(736, 0), IndirectObject(741, 0), IndirectObject(679, 0), IndirectObject(686, 0), IndirectObject(92, 0), IndirectObject(85, 0), IndirectObject(87, 0), IndirectObject(89, 0), IndirectObject(672, 0), IndirectObject(118, 0), IndirectObject(119, 0), IndirectObject(104, 0), IndirectObject(109, 0), IndirectObject(113, 0), IndirectObject(114, 0), IndirectObject(105, 0), IndirectObject(115, 0), IndirectObject(117, 0), IndirectObject(111, 0), IndirectObject(106, 0), IndirectObject(107, 0), IndirectObject(108, 0), IndirectObject(110, 0), IndirectObject(124, 0), IndirectObject(129, 0), IndirectObject(121, 0), IndirectObject(127, 0), IndirectObject(122, 0), IndirectObject(134, 0), IndirectObject(132, 0), IndirectObject(126, 0), IndirectObject(123, 0), IndirectObject(128, 0), IndirectObject(130, 0), IndirectObject(131, 0), IndirectObject(136, 0), IndirectObject(133, 0), IndirectObject(684, 0)], '/T': 'fax'}, '/T': 'Account_Num2', '/TU': 'Section 3 - Receiving Account Number', '/Ff': 8388608, '/AA': {'/F': IndirectObject(810, 0)}}, 'Delivery_Instructions': {'/FT': '/Tx', '/Parent': {'/Kids': [IndirectObject(669, 0), IndirectObject(708, 0), IndirectObject(746, 0), IndirectObject(716, 0), IndirectObject(159, 0), IndirectObject(157, 0), IndirectObject(135, 0), IndirectObject(146, 0), IndirectObject(667, 0), IndirectObject(671, 0), IndirectObject(691, 0), IndirectObject(697, 0), IndirectObject(693, 0), IndirectObject(715, 0), IndirectObject(706, 0), IndirectObject(714, 0), IndirectObject(717, 0), IndirectObject(718, 0), IndirectObject(724, 0), IndirectObject(725, 0), IndirectObject(726, 0), IndirectObject(729, 0), IndirectObject(730, 0), IndirectObject(695, 0), IndirectObject(83, 0), IndirectObject(699, 0), IndirectObject(120, 0), IndirectObject(152, 0), IndirectObject(156, 0), IndirectObject(148, 0), IndirectObject(727, 0), IndirectObject(728, 0), IndirectObject(82, 0), IndirectObject(665, 0), IndirectObject(674, 0), IndirectObject(701, 0), IndirectObject(709, 0), IndirectObject(719, 0), IndirectObject(735, 0), IndirectObject(736, 0), IndirectObject(741, 0), IndirectObject(679, 0), IndirectObject(686, 0), IndirectObject(92, 0), IndirectObject(85, 0), IndirectObject(87, 0), IndirectObject(89, 0), IndirectObject(672, 0), IndirectObject(118, 0), IndirectObject(119, 0), IndirectObject(104, 0), IndirectObject(109, 0), IndirectObject(113, 0), IndirectObject(114, 0), IndirectObject(105, 0), IndirectObject(115, 0), IndirectObject(117, 0), IndirectObject(111, 0), IndirectObject(106, 0), IndirectObject(107, 0), IndirectObject(108, 0), IndirectObject(110, 0), IndirectObject(124, 0), IndirectObject(129, 0), IndirectObject(121, 0), IndirectObject(127, 0), IndirectObject(122, 0), IndirectObject(134, 0), IndirectObject(132, 0), IndirectObject(126, 0), IndirectObject(123, 0), IndirectObject(128, 0), IndirectObject(130, 0), IndirectObject(131, 0), IndirectObject(136, 0), IndirectObject(133, 0), IndirectObject(684, 0)], '/T': 'fax'}, '/T': 'Delivery_Instructions', '/TU': 'Section 3 - Delivery Instructions', '/Ff': 8388608, '/AA': {'/F': IndirectObject(812, 0)}}, 'Firm_Num': {'/FT': '/Tx', '/Parent': {'/Kids': [IndirectObject(669, 0), IndirectObject(708, 0), IndirectObject(746, 0), IndirectObject(716, 0), IndirectObject(159, 0), IndirectObject(157, 0), IndirectObject(135, 0), IndirectObject(146, 0), IndirectObject(667, 0), IndirectObject(671, 0), IndirectObject(691, 0), IndirectObject(697, 0), IndirectObject(693, 0), IndirectObject(715, 0), IndirectObject(706, 0), IndirectObject(714, 0), IndirectObject(717, 0), IndirectObject(718, 0), IndirectObject(724, 0), IndirectObject(725, 0), IndirectObject(726, 0), IndirectObject(729, 0), IndirectObject(730, 0), IndirectObject(695, 0), IndirectObject(83, 0), IndirectObject(699, 0), IndirectObject(120, 0), IndirectObject(152, 0), IndirectObject(156, 0), IndirectObject(148, 0), IndirectObject(727, 0), IndirectObject(728, 0), IndirectObject(82, 0), IndirectObject(665, 0), IndirectObject(674, 0), IndirectObject(701, 0), IndirectObject(709, 0), IndirectObject(719, 0), IndirectObject(735, 0), IndirectObject(736, 0), IndirectObject(741, 0), IndirectObject(679, 0), IndirectObject(686, 0), IndirectObject(92, 0), IndirectObject(85, 0), IndirectObject(87, 0), IndirectObject(89, 0), IndirectObject(672, 0), IndirectObject(118, 0), IndirectObject(119, 0), IndirectObject(104, 0), IndirectObject(109, 0), IndirectObject(113, 0), IndirectObject(114, 0), IndirectObject(105, 0), IndirectObject(115, 0), IndirectObject(117, 0), IndirectObject(111, 0), IndirectObject(106, 0), IndirectObject(107, 0), IndirectObject(108, 0), IndirectObject(110, 0), IndirectObject(124, 0), IndirectObject(129, 0), IndirectObject(121, 0), IndirectObject(127, 0), IndirectObject(122, 0), IndirectObject(134, 0), IndirectObject(132, 0), IndirectObject(126, 0), IndirectObject(123, 0), IndirectObject(128, 0), IndirectObject(130, 0), IndirectObject(131, 0), IndirectObject(136, 0), IndirectObject(133, 0), IndirectObject(684, 0)], '/T': 'fax'}, '/T': 'Firm_Num', '/TU': 'Section 3 - Firm or DTC Number', '/Ff': 12582912, '/AA': {'/F': IndirectObject(812, 0)}}, 'Alternate_Payee': {'/FT': '/Tx', '/Parent': {'/Kids': [IndirectObject(669, 0), IndirectObject(708, 0), IndirectObject(746, 0), IndirectObject(716, 0), IndirectObject(159, 0), IndirectObject(157, 0), IndirectObject(135, 0), IndirectObject(146, 0), IndirectObject(667, 0), IndirectObject(671, 0), IndirectObject(691, 0), IndirectObject(697, 0), IndirectObject(693, 0), IndirectObject(715, 0), IndirectObject(706, 0), IndirectObject(714, 0), IndirectObject(717, 0), IndirectObject(718, 0), IndirectObject(724, 0), IndirectObject(725, 0), IndirectObject(726, 0), IndirectObject(729, 0), IndirectObject(730, 0), IndirectObject(695, 0), IndirectObject(83, 0), IndirectObject(699, 0), IndirectObject(120, 0), IndirectObject(152, 0), IndirectObject(156, 0), IndirectObject(148, 0), IndirectObject(727, 0), IndirectObject(728, 0), IndirectObject(82, 0), IndirectObject(665, 0), IndirectObject(674, 0), IndirectObject(701, 0), IndirectObject(709, 0), IndirectObject(719, 0), IndirectObject(735, 0), IndirectObject(736, 0), IndirectObject(741, 0), IndirectObject(679, 0), IndirectObject(686, 0), IndirectObject(92, 0), IndirectObject(85, 0), IndirectObject(87, 0), IndirectObject(89, 0), IndirectObject(672, 0), IndirectObject(118, 0), IndirectObject(119, 0), IndirectObject(104, 0), IndirectObject(109, 0), IndirectObject(113, 0), IndirectObject(114, 0), IndirectObject(105, 0), IndirectObject(115, 0), IndirectObject(117, 0), IndirectObject(111, 0), IndirectObject(106, 0), IndirectObject(107, 0), IndirectObject(108, 0), IndirectObject(110, 0), IndirectObject(124, 0), IndirectObject(129, 0), IndirectObject(121, 0), IndirectObject(127, 0), IndirectObject(122, 0), IndirectObject(134, 0), IndirectObject(132, 0), IndirectObject(126, 0), IndirectObject(123, 0), IndirectObject(128, 0), IndirectObject(130, 0), IndirectObject(131, 0), IndirectObject(136, 0), IndirectObject(133, 0), IndirectObject(684, 0)], '/T': 'fax'}, '/T': 'Alternate_Payee', '/TU': 'Section 3 - Make Check Payable To: Payee Name ', '/Ff': 8388608, '/AA': {'/F': IndirectObject(814, 0)}}, 'Street_Address': {'/FT': '/Tx', '/Parent': {'/Kids': [IndirectObject(669, 0), IndirectObject(708, 0), IndirectObject(746, 0), IndirectObject(716, 0), IndirectObject(159, 0), IndirectObject(157, 0), IndirectObject(135, 0), IndirectObject(146, 0), IndirectObject(667, 0), IndirectObject(671, 0), IndirectObject(691, 0), IndirectObject(697, 0), IndirectObject(693, 0), IndirectObject(715, 0), IndirectObject(706, 0), IndirectObject(714, 0), IndirectObject(717, 0), IndirectObject(718, 0), IndirectObject(724, 0), IndirectObject(725, 0), IndirectObject(726, 0), IndirectObject(729, 0), IndirectObject(730, 0), IndirectObject(695, 0), IndirectObject(83, 0), IndirectObject(699, 0), IndirectObject(120, 0), IndirectObject(152, 0), IndirectObject(156, 0), IndirectObject(148, 0), IndirectObject(727, 0), IndirectObject(728, 0), IndirectObject(82, 0), IndirectObject(665, 0), IndirectObject(674, 0), IndirectObject(701, 0), IndirectObject(709, 0), IndirectObject(719, 0), IndirectObject(735, 0), IndirectObject(736, 0), IndirectObject(741, 0), IndirectObject(679, 0), IndirectObject(686, 0), IndirectObject(92, 0), IndirectObject(85, 0), IndirectObject(87, 0), IndirectObject(89, 0), IndirectObject(672, 0), IndirectObject(118, 0), IndirectObject(119, 0), IndirectObject(104, 0), IndirectObject(109, 0), IndirectObject(113, 0), IndirectObject(114, 0), IndirectObject(105, 0), IndirectObject(115, 0), IndirectObject(117, 0), IndirectObject(111, 0), IndirectObject(106, 0), IndirectObject(107, 0), IndirectObject(108, 0), IndirectObject(110, 0), IndirectObject(124, 0), IndirectObject(129, 0), IndirectObject(121, 0), IndirectObject(127, 0), IndirectObject(122, 0), IndirectObject(134, 0), IndirectObject(132, 0), IndirectObject(126, 0), IndirectObject(123, 0), IndirectObject(128, 0), IndirectObject(130, 0), IndirectObject(131, 0), IndirectObject(136, 0), IndirectObject(133, 0), IndirectObject(684, 0)], '/T': 'fax'}, '/T': 'Street_Address', '/TU': 'Section 3 - Mail to Address: Street Address (Checks cannot be mailed directly to the IRS or other taxing authorities) ', '/Ff': 8388608, '/AA': {'/F': IndirectObject(815, 0)}}, 'City': {'/FT': '/Tx', '/Parent': {'/Kids': [IndirectObject(669, 0), IndirectObject(708, 0), IndirectObject(746, 0), IndirectObject(716, 0), IndirectObject(159, 0), IndirectObject(157, 0), IndirectObject(135, 0), IndirectObject(146, 0), IndirectObject(667, 0), IndirectObject(671, 0), IndirectObject(691, 0), IndirectObject(697, 0), IndirectObject(693, 0), IndirectObject(715, 0), IndirectObject(706, 0), IndirectObject(714, 0), IndirectObject(717, 0), IndirectObject(718, 0), IndirectObject(724, 0), IndirectObject(725, 0), IndirectObject(726, 0), IndirectObject(729, 0), IndirectObject(730, 0), IndirectObject(695, 0), IndirectObject(83, 0), IndirectObject(699, 0), IndirectObject(120, 0), IndirectObject(152, 0), IndirectObject(156, 0), IndirectObject(148, 0), IndirectObject(727, 0), IndirectObject(728, 0), IndirectObject(82, 0), IndirectObject(665, 0), IndirectObject(674, 0), IndirectObject(701, 0), IndirectObject(709, 0), IndirectObject(719, 0), IndirectObject(735, 0), IndirectObject(736, 0), IndirectObject(741, 0), IndirectObject(679, 0), IndirectObject(686, 0), IndirectObject(92, 0), IndirectObject(85, 0), IndirectObject(87, 0), IndirectObject(89, 0), IndirectObject(672, 0), IndirectObject(118, 0), IndirectObject(119, 0), IndirectObject(104, 0), IndirectObject(109, 0), IndirectObject(113, 0), IndirectObject(114, 0), IndirectObject(105, 0), IndirectObject(115, 0), IndirectObject(117, 0), IndirectObject(111, 0), IndirectObject(106, 0), IndirectObject(107, 0), IndirectObject(108, 0), IndirectObject(110, 0), IndirectObject(124, 0), IndirectObject(129, 0), IndirectObject(121, 0), IndirectObject(127, 0), IndirectObject(122, 0), IndirectObject(134, 0), IndirectObject(132, 0), IndirectObject(126, 0), IndirectObject(123, 0), IndirectObject(128, 0), IndirectObject(130, 0), IndirectObject(131, 0), IndirectObject(136, 0), IndirectObject(133, 0), IndirectObject(684, 0)], '/T': 'fax'}, '/T': 'City', '/TU': 'Section 3 - Mail to Address: City', '/Ff': 8388608, '/AA': {'/F': IndirectObject(814, 0)}}, 'Country': {'/FT': '/Tx', '/Parent': {'/Kids': [IndirectObject(669, 0), IndirectObject(708, 0), IndirectObject(746, 0), IndirectObject(716, 0), IndirectObject(159, 0), IndirectObject(157, 0), IndirectObject(135, 0), IndirectObject(146, 0), IndirectObject(667, 0), IndirectObject(671, 0), IndirectObject(691, 0), IndirectObject(697, 0), IndirectObject(693, 0), IndirectObject(715, 0), IndirectObject(706, 0), IndirectObject(714, 0), IndirectObject(717, 0), IndirectObject(718, 0), IndirectObject(724, 0), IndirectObject(725, 0), IndirectObject(726, 0), IndirectObject(729, 0), IndirectObject(730, 0), IndirectObject(695, 0), IndirectObject(83, 0), IndirectObject(699, 0), IndirectObject(120, 0), IndirectObject(152, 0), IndirectObject(156, 0), IndirectObject(148, 0), IndirectObject(727, 0), IndirectObject(728, 0), IndirectObject(82, 0), IndirectObject(665, 0), IndirectObject(674, 0), IndirectObject(701, 0), IndirectObject(709, 0), IndirectObject(719, 0), IndirectObject(735, 0), IndirectObject(736, 0), IndirectObject(741, 0), IndirectObject(679, 0), IndirectObject(686, 0), IndirectObject(92, 0), IndirectObject(85, 0), IndirectObject(87, 0), IndirectObject(89, 0), IndirectObject(672, 0), IndirectObject(118, 0), IndirectObject(119, 0), IndirectObject(104, 0), IndirectObject(109, 0), IndirectObject(113, 0), IndirectObject(114, 0), IndirectObject(105, 0), IndirectObject(115, 0), IndirectObject(117, 0), IndirectObject(111, 0), IndirectObject(106, 0), IndirectObject(107, 0), IndirectObject(108, 0), IndirectObject(110, 0), IndirectObject(124, 0), IndirectObject(129, 0), IndirectObject(121, 0), IndirectObject(127, 0), IndirectObject(122, 0), IndirectObject(134, 0), IndirectObject(132, 0), IndirectObject(126, 0), IndirectObject(123, 0), IndirectObject(128, 0), IndirectObject(130, 0), IndirectObject(131, 0), IndirectObject(136, 0), IndirectObject(133, 0), IndirectObject(684, 0)], '/T': 'fax'}, '/T': 'Country', '/TU': 'Section 3 - Country (if outside of US)', '/Ff': 8388608, '/AA': {'/F': IndirectObject(817, 0)}}, 'Select_Option_Memo': {'/FT': '/Btn', '/Parent': {'/Kids': [IndirectObject(669, 0), IndirectObject(708, 0), IndirectObject(746, 0), IndirectObject(716, 0), IndirectObject(159, 0), IndirectObject(157, 0), IndirectObject(135, 0), IndirectObject(146, 0), IndirectObject(667, 0), IndirectObject(671, 0), IndirectObject(691, 0), IndirectObject(697, 0), IndirectObject(693, 0), IndirectObject(715, 0), IndirectObject(706, 0), IndirectObject(714, 0), IndirectObject(717, 0), IndirectObject(718, 0), IndirectObject(724, 0), IndirectObject(725, 0), IndirectObject(726, 0), IndirectObject(729, 0), IndirectObject(730, 0), IndirectObject(695, 0), IndirectObject(83, 0), IndirectObject(699, 0), IndirectObject(120, 0), IndirectObject(152, 0), IndirectObject(156, 0), IndirectObject(148, 0), IndirectObject(727, 0), IndirectObject(728, 0), IndirectObject(82, 0), IndirectObject(665, 0), IndirectObject(674, 0), IndirectObject(701, 0), IndirectObject(709, 0), IndirectObject(719, 0), IndirectObject(735, 0), IndirectObject(736, 0), IndirectObject(741, 0), IndirectObject(679, 0), IndirectObject(686, 0), IndirectObject(92, 0), IndirectObject(85, 0), IndirectObject(87, 0), IndirectObject(89, 0), IndirectObject(672, 0), IndirectObject(118, 0), IndirectObject(119, 0), IndirectObject(104, 0), IndirectObject(109, 0), IndirectObject(113, 0), IndirectObject(114, 0), IndirectObject(105, 0), IndirectObject(115, 0), IndirectObject(117, 0), IndirectObject(111, 0), IndirectObject(106, 0), IndirectObject(107, 0), IndirectObject(108, 0), IndirectObject(110, 0), IndirectObject(124, 0), IndirectObject(129, 0), IndirectObject(121, 0), IndirectObject(127, 0), IndirectObject(122, 0), IndirectObject(134, 0), IndirectObject(132, 0), IndirectObject(126, 0), IndirectObject(123, 0), IndirectObject(128, 0), IndirectObject(130, 0), IndirectObject(131, 0), IndirectObject(136, 0), IndirectObject(133, 0), IndirectObject(684, 0)], '/T': 'fax'}, '/T': 'Select_Option_Memo', '/TU': 'Section 3 - Optional Memo'}, 'Date_1': {'/FT': '/Tx', '/Parent': {'/Kids': [IndirectObject(669, 0), IndirectObject(708, 0), IndirectObject(746, 0), IndirectObject(716, 0), IndirectObject(159, 0), IndirectObject(157, 0), IndirectObject(135, 0), IndirectObject(146, 0), IndirectObject(667, 0), IndirectObject(671, 0), IndirectObject(691, 0), IndirectObject(697, 0), IndirectObject(693, 0), IndirectObject(715, 0), IndirectObject(706, 0), IndirectObject(714, 0), IndirectObject(717, 0), IndirectObject(718, 0), IndirectObject(724, 0), IndirectObject(725, 0), IndirectObject(726, 0), IndirectObject(729, 0), IndirectObject(730, 0), IndirectObject(695, 0), IndirectObject(83, 0), IndirectObject(699, 0), IndirectObject(120, 0), IndirectObject(152, 0), IndirectObject(156, 0), IndirectObject(148, 0), IndirectObject(727, 0), IndirectObject(728, 0), IndirectObject(82, 0), IndirectObject(665, 0), IndirectObject(674, 0), IndirectObject(701, 0), IndirectObject(709, 0), IndirectObject(719, 0), IndirectObject(735, 0), IndirectObject(736, 0), IndirectObject(741, 0), IndirectObject(679, 0), IndirectObject(686, 0), IndirectObject(92, 0), IndirectObject(85, 0), IndirectObject(87, 0), IndirectObject(89, 0), IndirectObject(672, 0), IndirectObject(118, 0), IndirectObject(119, 0), IndirectObject(104, 0), IndirectObject(109, 0), IndirectObject(113, 0), IndirectObject(114, 0), IndirectObject(105, 0), IndirectObject(115, 0), IndirectObject(117, 0), IndirectObject(111, 0), IndirectObject(106, 0), IndirectObject(107, 0), IndirectObject(108, 0), IndirectObject(110, 0), IndirectObject(124, 0), IndirectObject(129, 0), IndirectObject(121, 0), IndirectObject(127, 0), IndirectObject(122, 0), IndirectObject(134, 0), IndirectObject(132, 0), IndirectObject(126, 0), IndirectObject(123, 0), IndirectObject(128, 0), IndirectObject(130, 0), IndirectObject(131, 0), IndirectObject(136, 0), IndirectObject(133, 0), IndirectObject(684, 0)], '/T': 'fax'}, '/T': 'Date_1', '/TU': 'Section 2 - Start Date (2-digit month, 2-digit day, 4-digit year)', '/Ff': 12582912, '/AA': {'/Bl': IndirectObject(796, 0), '/C': IndirectObject(797, 0), '/F': IndirectObject(798, 0), '/K': IndirectObject(799, 0)}}, 'Section4': {'/FT': '/Btn', '/Parent': {'/Kids': [IndirectObject(669, 0), IndirectObject(708, 0), IndirectObject(746, 0), IndirectObject(716, 0), IndirectObject(159, 0), IndirectObject(157, 0), IndirectObject(135, 0), IndirectObject(146, 0), IndirectObject(667, 0), IndirectObject(671, 0), IndirectObject(691, 0), IndirectObject(697, 0), IndirectObject(693, 0), IndirectObject(715, 0), IndirectObject(706, 0), IndirectObject(714, 0), IndirectObject(717, 0), IndirectObject(718, 0), IndirectObject(724, 0), IndirectObject(725, 0), IndirectObject(726, 0), IndirectObject(729, 0), IndirectObject(730, 0), IndirectObject(695, 0), IndirectObject(83, 0), IndirectObject(699, 0), IndirectObject(120, 0), IndirectObject(152, 0), IndirectObject(156, 0), IndirectObject(148, 0), IndirectObject(727, 0), IndirectObject(728, 0), IndirectObject(82, 0), IndirectObject(665, 0), IndirectObject(674, 0), IndirectObject(701, 0), IndirectObject(709, 0), IndirectObject(719, 0), IndirectObject(735, 0), IndirectObject(736, 0), IndirectObject(741, 0), IndirectObject(679, 0), IndirectObject(686, 0), IndirectObject(92, 0), IndirectObject(85, 0), IndirectObject(87, 0), IndirectObject(89, 0), IndirectObject(672, 0), IndirectObject(118, 0), IndirectObject(119, 0), IndirectObject(104, 0), IndirectObject(109, 0), IndirectObject(113, 0), IndirectObject(114, 0), IndirectObject(105, 0), IndirectObject(115, 0), IndirectObject(117, 0), IndirectObject(111, 0), IndirectObject(106, 0), IndirectObject(107, 0), IndirectObject(108, 0), IndirectObject(110, 0), IndirectObject(124, 0), IndirectObject(129, 0), IndirectObject(121, 0), IndirectObject(127, 0), IndirectObject(122, 0), IndirectObject(134, 0), IndirectObject(132, 0), IndirectObject(126, 0), IndirectObject(123, 0), IndirectObject(128, 0), IndirectObject(130, 0), IndirectObject(131, 0), IndirectObject(136, 0), IndirectObject(133, 0), IndirectObject(684, 0)], '/T': 'fax'}, '/T': 'Section4', '/TU': 'Section 4 - All Cash and Securities - does not include residuals'}, 'Date_2': {'/FT': '/Tx', '/Parent': {'/Kids': [IndirectObject(669, 0), IndirectObject(708, 0), IndirectObject(746, 0), IndirectObject(716, 0), IndirectObject(159, 0), IndirectObject(157, 0), IndirectObject(135, 0), IndirectObject(146, 0), IndirectObject(667, 0), IndirectObject(671, 0), IndirectObject(691, 0), IndirectObject(697, 0), IndirectObject(693, 0), IndirectObject(715, 0), IndirectObject(706, 0), IndirectObject(714, 0), IndirectObject(717, 0), IndirectObject(718, 0), IndirectObject(724, 0), IndirectObject(725, 0), IndirectObject(726, 0), IndirectObject(729, 0), IndirectObject(730, 0), IndirectObject(695, 0), IndirectObject(83, 0), IndirectObject(699, 0), IndirectObject(120, 0), IndirectObject(152, 0), IndirectObject(156, 0), IndirectObject(148, 0), IndirectObject(727, 0), IndirectObject(728, 0), IndirectObject(82, 0), IndirectObject(665, 0), IndirectObject(674, 0), IndirectObject(701, 0), IndirectObject(709, 0), IndirectObject(719, 0), IndirectObject(735, 0), IndirectObject(736, 0), IndirectObject(741, 0), IndirectObject(679, 0), IndirectObject(686, 0), IndirectObject(92, 0), IndirectObject(85, 0), IndirectObject(87, 0), IndirectObject(89, 0), IndirectObject(672, 0), IndirectObject(118, 0), IndirectObject(119, 0), IndirectObject(104, 0), IndirectObject(109, 0), IndirectObject(113, 0), IndirectObject(114, 0), IndirectObject(105, 0), IndirectObject(115, 0), IndirectObject(117, 0), IndirectObject(111, 0), IndirectObject(106, 0), IndirectObject(107, 0), IndirectObject(108, 0), IndirectObject(110, 0), IndirectObject(124, 0), IndirectObject(129, 0), IndirectObject(121, 0), IndirectObject(127, 0), IndirectObject(122, 0), IndirectObject(134, 0), IndirectObject(132, 0), IndirectObject(126, 0), IndirectObject(123, 0), IndirectObject(128, 0), IndirectObject(130, 0), IndirectObject(131, 0), IndirectObject(136, 0), IndirectObject(133, 0), IndirectObject(684, 0)], '/T': 'fax'}, '/T': 'Date_2', '/TU': 'Section 2 - Expiration Date or transfers will continue until you revoke (2-digit month, 2-digit day, 4-digit year)', '/Ff': 12582912, '/AA': {'/Bl': IndirectObject(801, 0), '/C': IndirectObject(802, 0), '/F': IndirectObject(803, 0), '/K': IndirectObject(804, 0)}}, 'Date_4': {'/FT': '/Tx', '/Parent': {'/Kids': [IndirectObject(669, 0), IndirectObject(708, 0), IndirectObject(746, 0), IndirectObject(716, 0), IndirectObject(159, 0), IndirectObject(157, 0), IndirectObject(135, 0), IndirectObject(146, 0), IndirectObject(667, 0), IndirectObject(671, 0), IndirectObject(691, 0), IndirectObject(697, 0), IndirectObject(693, 0), IndirectObject(715, 0), IndirectObject(706, 0), IndirectObject(714, 0), IndirectObject(717, 0), IndirectObject(718, 0), IndirectObject(724, 0), IndirectObject(725, 0), IndirectObject(726, 0), IndirectObject(729, 0), IndirectObject(730, 0), IndirectObject(695, 0), IndirectObject(83, 0), IndirectObject(699, 0), IndirectObject(120, 0), IndirectObject(152, 0), IndirectObject(156, 0), IndirectObject(148, 0), IndirectObject(727, 0), IndirectObject(728, 0), IndirectObject(82, 0), IndirectObject(665, 0), IndirectObject(674, 0), IndirectObject(701, 0), IndirectObject(709, 0), IndirectObject(719, 0), IndirectObject(735, 0), IndirectObject(736, 0), IndirectObject(741, 0), IndirectObject(679, 0), IndirectObject(686, 0), IndirectObject(92, 0), IndirectObject(85, 0), IndirectObject(87, 0), IndirectObject(89, 0), IndirectObject(672, 0), IndirectObject(118, 0), IndirectObject(119, 0), IndirectObject(104, 0), IndirectObject(109, 0), IndirectObject(113, 0), IndirectObject(114, 0), IndirectObject(105, 0), IndirectObject(115, 0), IndirectObject(117, 0), IndirectObject(111, 0), IndirectObject(106, 0), IndirectObject(107, 0), IndirectObject(108, 0), IndirectObject(110, 0), IndirectObject(124, 0), IndirectObject(129, 0), IndirectObject(121, 0), IndirectObject(127, 0), IndirectObject(122, 0), IndirectObject(134, 0), IndirectObject(132, 0), IndirectObject(126, 0), IndirectObject(123, 0), IndirectObject(128, 0), IndirectObject(130, 0), IndirectObject(131, 0), IndirectObject(136, 0), IndirectObject(133, 0), IndirectObject(684, 0)], '/T': 'fax'}, '/T': 'Date_4', '/TU': 'Section 5 - Date (1) (2-digit month, 2-digit day, 4-digit year)', '/Ff': 12582912, '/AA': {'/Bl': IndirectObject(203, 0), '/C': IndirectObject(200, 0), '/F': IndirectObject(197, 0), '/K': IndirectObject(205, 0)}}, 'Date_5': {'/FT': '/Tx', '/Parent': {'/Kids': [IndirectObject(669, 0), IndirectObject(708, 0), IndirectObject(746, 0), IndirectObject(716, 0), IndirectObject(159, 0), IndirectObject(157, 0), IndirectObject(135, 0), IndirectObject(146, 0), IndirectObject(667, 0), IndirectObject(671, 0), IndirectObject(691, 0), IndirectObject(697, 0), IndirectObject(693, 0), IndirectObject(715, 0), IndirectObject(706, 0), IndirectObject(714, 0), IndirectObject(717, 0), IndirectObject(718, 0), IndirectObject(724, 0), IndirectObject(725, 0), IndirectObject(726, 0), IndirectObject(729, 0), IndirectObject(730, 0), IndirectObject(695, 0), IndirectObject(83, 0), IndirectObject(699, 0), IndirectObject(120, 0), IndirectObject(152, 0), IndirectObject(156, 0), IndirectObject(148, 0), IndirectObject(727, 0), IndirectObject(728, 0), IndirectObject(82, 0), IndirectObject(665, 0), IndirectObject(674, 0), IndirectObject(701, 0), IndirectObject(709, 0), IndirectObject(719, 0), IndirectObject(735, 0), IndirectObject(736, 0), IndirectObject(741, 0), IndirectObject(679, 0), IndirectObject(686, 0), IndirectObject(92, 0), IndirectObject(85, 0), IndirectObject(87, 0), IndirectObject(89, 0), IndirectObject(672, 0), IndirectObject(118, 0), IndirectObject(119, 0), IndirectObject(104, 0), IndirectObject(109, 0), IndirectObject(113, 0), IndirectObject(114, 0), IndirectObject(105, 0), IndirectObject(115, 0), IndirectObject(117, 0), IndirectObject(111, 0), IndirectObject(106, 0), IndirectObject(107, 0), IndirectObject(108, 0), IndirectObject(110, 0), IndirectObject(124, 0), IndirectObject(129, 0), IndirectObject(121, 0), IndirectObject(127, 0), IndirectObject(122, 0), IndirectObject(134, 0), IndirectObject(132, 0), IndirectObject(126, 0), IndirectObject(123, 0), IndirectObject(128, 0), IndirectObject(130, 0), IndirectObject(131, 0), IndirectObject(136, 0), IndirectObject(133, 0), IndirectObject(684, 0)], '/T': 'fax'}, '/T': 'Date_5', '/TU': 'Section 5 - Date (2) (2-digit month, 2-digit day, 4-digit year)', '/Ff': 12582912, '/AA': {'/Bl': IndirectObject(195, 0), '/C': IndirectObject(196, 0), '/F': IndirectObject(204, 0), '/K': IndirectObject(199, 0)}}, 'Date_6': {'/FT': '/Tx', '/Parent': {'/Kids': [IndirectObject(669, 0), IndirectObject(708, 0), IndirectObject(746, 0), IndirectObject(716, 0), IndirectObject(159, 0), IndirectObject(157, 0), IndirectObject(135, 0), IndirectObject(146, 0), IndirectObject(667, 0), IndirectObject(671, 0), IndirectObject(691, 0), IndirectObject(697, 0), IndirectObject(693, 0), IndirectObject(715, 0), IndirectObject(706, 0), IndirectObject(714, 0), IndirectObject(717, 0), IndirectObject(718, 0), IndirectObject(724, 0), IndirectObject(725, 0), IndirectObject(726, 0), IndirectObject(729, 0), IndirectObject(730, 0), IndirectObject(695, 0), IndirectObject(83, 0), IndirectObject(699, 0), IndirectObject(120, 0), IndirectObject(152, 0), IndirectObject(156, 0), IndirectObject(148, 0), IndirectObject(727, 0), IndirectObject(728, 0), IndirectObject(82, 0), IndirectObject(665, 0), IndirectObject(674, 0), IndirectObject(701, 0), IndirectObject(709, 0), IndirectObject(719, 0), IndirectObject(735, 0), IndirectObject(736, 0), IndirectObject(741, 0), IndirectObject(679, 0), IndirectObject(686, 0), IndirectObject(92, 0), IndirectObject(85, 0), IndirectObject(87, 0), IndirectObject(89, 0), IndirectObject(672, 0), IndirectObject(118, 0), IndirectObject(119, 0), IndirectObject(104, 0), IndirectObject(109, 0), IndirectObject(113, 0), IndirectObject(114, 0), IndirectObject(105, 0), IndirectObject(115, 0), IndirectObject(117, 0), IndirectObject(111, 0), IndirectObject(106, 0), IndirectObject(107, 0), IndirectObject(108, 0), IndirectObject(110, 0), IndirectObject(124, 0), IndirectObject(129, 0), IndirectObject(121, 0), IndirectObject(127, 0), IndirectObject(122, 0), IndirectObject(134, 0), IndirectObject(132, 0), IndirectObject(126, 0), IndirectObject(123, 0), IndirectObject(128, 0), IndirectObject(130, 0), IndirectObject(131, 0), IndirectObject(136, 0), IndirectObject(133, 0), IndirectObject(684, 0)], '/T': 'fax'}, '/T': 'Date_6', '/TU': 'Office Use Only - Date Associate Signed (2-digit month, 2-digit day, 4-digit year)', '/Ff': 12582912, '/AA': {'/Bl': IndirectObject(202, 0), '/C': IndirectObject(196, 0), '/F': IndirectObject(204, 0), '/K': IndirectObject(199, 0)}}, 'Date_7': {'/FT': '/Tx', '/Parent': {'/Kids': [IndirectObject(669, 0), IndirectObject(708, 0), IndirectObject(746, 0), IndirectObject(716, 0), IndirectObject(159, 0), IndirectObject(157, 0), IndirectObject(135, 0), IndirectObject(146, 0), IndirectObject(667, 0), IndirectObject(671, 0), IndirectObject(691, 0), IndirectObject(697, 0), IndirectObject(693, 0), IndirectObject(715, 0), IndirectObject(706, 0), IndirectObject(714, 0), IndirectObject(717, 0), IndirectObject(718, 0), IndirectObject(724, 0), IndirectObject(725, 0), IndirectObject(726, 0), IndirectObject(729, 0), IndirectObject(730, 0), IndirectObject(695, 0), IndirectObject(83, 0), IndirectObject(699, 0), IndirectObject(120, 0), IndirectObject(152, 0), IndirectObject(156, 0), IndirectObject(148, 0), IndirectObject(727, 0), IndirectObject(728, 0), IndirectObject(82, 0), IndirectObject(665, 0), IndirectObject(674, 0), IndirectObject(701, 0), IndirectObject(709, 0), IndirectObject(719, 0), IndirectObject(735, 0), IndirectObject(736, 0), IndirectObject(741, 0), IndirectObject(679, 0), IndirectObject(686, 0), IndirectObject(92, 0), IndirectObject(85, 0), IndirectObject(87, 0), IndirectObject(89, 0), IndirectObject(672, 0), IndirectObject(118, 0), IndirectObject(119, 0), IndirectObject(104, 0), IndirectObject(109, 0), IndirectObject(113, 0), IndirectObject(114, 0), IndirectObject(105, 0), IndirectObject(115, 0), IndirectObject(117, 0), IndirectObject(111, 0), IndirectObject(106, 0), IndirectObject(107, 0), IndirectObject(108, 0), IndirectObject(110, 0), IndirectObject(124, 0), IndirectObject(129, 0), IndirectObject(121, 0), IndirectObject(127, 0), IndirectObject(122, 0), IndirectObject(134, 0), IndirectObject(132, 0), IndirectObject(126, 0), IndirectObject(123, 0), IndirectObject(128, 0), IndirectObject(130, 0), IndirectObject(131, 0), IndirectObject(136, 0), IndirectObject(133, 0), IndirectObject(684, 0)], '/T': 'fax'}, '/T': 'Date_7', '/TU': 'Office Use Only - Date Qualified Supervisor Signed (2-digit month, 2-digit day, 4-digit year)', '/Ff': 12582912, '/AA': {'/Bl': IndirectObject(193, 0), '/C': IndirectObject(196, 0), '/F': IndirectObject(204, 0), '/K': IndirectObject(199, 0)}}, 'State': {'/FT': '/Tx', '/Parent': {'/Kids': [IndirectObject(669, 0), IndirectObject(708, 0), IndirectObject(746, 0), IndirectObject(716, 0), IndirectObject(159, 0), IndirectObject(157, 0), IndirectObject(135, 0), IndirectObject(146, 0), IndirectObject(667, 0), IndirectObject(671, 0), IndirectObject(691, 0), IndirectObject(697, 0), IndirectObject(693, 0), IndirectObject(715, 0), IndirectObject(706, 0), IndirectObject(714, 0), IndirectObject(717, 0), IndirectObject(718, 0), IndirectObject(724, 0), IndirectObject(725, 0), IndirectObject(726, 0), IndirectObject(729, 0), IndirectObject(730, 0), IndirectObject(695, 0), IndirectObject(83, 0), IndirectObject(699, 0), IndirectObject(120, 0), IndirectObject(152, 0), IndirectObject(156, 0), IndirectObject(148, 0), IndirectObject(727, 0), IndirectObject(728, 0), IndirectObject(82, 0), IndirectObject(665, 0), IndirectObject(674, 0), IndirectObject(701, 0), IndirectObject(709, 0), IndirectObject(719, 0), IndirectObject(735, 0), IndirectObject(736, 0), IndirectObject(741, 0), IndirectObject(679, 0), IndirectObject(686, 0), IndirectObject(92, 0), IndirectObject(85, 0), IndirectObject(87, 0), IndirectObject(89, 0), IndirectObject(672, 0), IndirectObject(118, 0), IndirectObject(119, 0), IndirectObject(104, 0), IndirectObject(109, 0), IndirectObject(113, 0), IndirectObject(114, 0), IndirectObject(105, 0), IndirectObject(115, 0), IndirectObject(117, 0), IndirectObject(111, 0), IndirectObject(106, 0), IndirectObject(107, 0), IndirectObject(108, 0), IndirectObject(110, 0), IndirectObject(124, 0), IndirectObject(129, 0), IndirectObject(121, 0), IndirectObject(127, 0), IndirectObject(122, 0), IndirectObject(134, 0), IndirectObject(132, 0), IndirectObject(126, 0), IndirectObject(123, 0), IndirectObject(128, 0), IndirectObject(130, 0), IndirectObject(131, 0), IndirectObject(136, 0), IndirectObject(133, 0), IndirectObject(684, 0)], '/T': 'fax'}, '/T': 'State', '/TU': 'Section 3 - Mail to Address: State (Two-character abbreviation)', '/Ff': 12582912, '/AA': {'/F': IndirectObject(816, 0)}}, 'ZipCode': {'/FT': '/Tx', '/Parent': {'/Kids': [IndirectObject(669, 0), IndirectObject(708, 0), IndirectObject(746, 0), IndirectObject(716, 0), IndirectObject(159, 0), IndirectObject(157, 0), IndirectObject(135, 0), IndirectObject(146, 0), IndirectObject(667, 0), IndirectObject(671, 0), IndirectObject(691, 0), IndirectObject(697, 0), IndirectObject(693, 0), IndirectObject(715, 0), IndirectObject(706, 0), IndirectObject(714, 0), IndirectObject(717, 0), IndirectObject(718, 0), IndirectObject(724, 0), IndirectObject(725, 0), IndirectObject(726, 0), IndirectObject(729, 0), IndirectObject(730, 0), IndirectObject(695, 0), IndirectObject(83, 0), IndirectObject(699, 0), IndirectObject(120, 0), IndirectObject(152, 0), IndirectObject(156, 0), IndirectObject(148, 0), IndirectObject(727, 0), IndirectObject(728, 0), IndirectObject(82, 0), IndirectObject(665, 0), IndirectObject(674, 0), IndirectObject(701, 0), IndirectObject(709, 0), IndirectObject(719, 0), IndirectObject(735, 0), IndirectObject(736, 0), IndirectObject(741, 0), IndirectObject(679, 0), IndirectObject(686, 0), IndirectObject(92, 0), IndirectObject(85, 0), IndirectObject(87, 0), IndirectObject(89, 0), IndirectObject(672, 0), IndirectObject(118, 0), IndirectObject(119, 0), IndirectObject(104, 0), IndirectObject(109, 0), IndirectObject(113, 0), IndirectObject(114, 0), IndirectObject(105, 0), IndirectObject(115, 0), IndirectObject(117, 0), IndirectObject(111, 0), IndirectObject(106, 0), IndirectObject(107, 0), IndirectObject(108, 0), IndirectObject(110, 0), IndirectObject(124, 0), IndirectObject(129, 0), IndirectObject(121, 0), IndirectObject(127, 0), IndirectObject(122, 0), IndirectObject(134, 0), IndirectObject(132, 0), IndirectObject(126, 0), IndirectObject(123, 0), IndirectObject(128, 0), IndirectObject(130, 0), IndirectObject(131, 0), IndirectObject(136, 0), IndirectObject(133, 0), IndirectObject(684, 0)], '/T': 'fax'}, '/T': 'ZipCode', '/TU': 'Section 3 - ZIP Code', '/Ff': 12582912, '/AA': {'/F': IndirectObject(816, 0)}}, 'Section4_a': {'/FT': '/Btn', '/Parent': {'/Kids': [IndirectObject(669, 0), IndirectObject(708, 0), IndirectObject(746, 0), IndirectObject(716, 0), IndirectObject(159, 0), IndirectObject(157, 0), IndirectObject(135, 0), IndirectObject(146, 0), IndirectObject(667, 0), IndirectObject(671, 0), IndirectObject(691, 0), IndirectObject(697, 0), IndirectObject(693, 0), IndirectObject(715, 0), IndirectObject(706, 0), IndirectObject(714, 0), IndirectObject(717, 0), IndirectObject(718, 0), IndirectObject(724, 0), IndirectObject(725, 0), IndirectObject(726, 0), IndirectObject(729, 0), IndirectObject(730, 0), IndirectObject(695, 0), IndirectObject(83, 0), IndirectObject(699, 0), IndirectObject(120, 0), IndirectObject(152, 0), IndirectObject(156, 0), IndirectObject(148, 0), IndirectObject(727, 0), IndirectObject(728, 0), IndirectObject(82, 0), IndirectObject(665, 0), IndirectObject(674, 0), IndirectObject(701, 0), IndirectObject(709, 0), IndirectObject(719, 0), IndirectObject(735, 0), IndirectObject(736, 0), IndirectObject(741, 0), IndirectObject(679, 0), IndirectObject(686, 0), IndirectObject(92, 0), IndirectObject(85, 0), IndirectObject(87, 0), IndirectObject(89, 0), IndirectObject(672, 0), IndirectObject(118, 0), IndirectObject(119, 0), IndirectObject(104, 0), IndirectObject(109, 0), IndirectObject(113, 0), IndirectObject(114, 0), IndirectObject(105, 0), IndirectObject(115, 0), IndirectObject(117, 0), IndirectObject(111, 0), IndirectObject(106, 0), IndirectObject(107, 0), IndirectObject(108, 0), IndirectObject(110, 0), IndirectObject(124, 0), IndirectObject(129, 0), IndirectObject(121, 0), IndirectObject(127, 0), IndirectObject(122, 0), IndirectObject(134, 0), IndirectObject(132, 0), IndirectObject(126, 0), IndirectObject(123, 0), IndirectObject(128, 0), IndirectObject(130, 0), IndirectObject(131, 0), IndirectObject(136, 0), IndirectObject(133, 0), IndirectObject(684, 0)], '/T': 'fax'}, '/T': 'Section4_a', '/TU': 'All Cash and Securities - including 90 day cash residual transfer'}, 'Acct_Num_1': {'/FT': '/Tx', '/Parent': {'/Kids': [IndirectObject(669, 0), IndirectObject(708, 0), IndirectObject(746, 0), IndirectObject(716, 0), IndirectObject(159, 0), IndirectObject(157, 0), IndirectObject(135, 0), IndirectObject(146, 0), IndirectObject(667, 0), IndirectObject(671, 0), IndirectObject(691, 0), IndirectObject(697, 0), IndirectObject(693, 0), IndirectObject(715, 0), IndirectObject(706, 0), IndirectObject(714, 0), IndirectObject(717, 0), IndirectObject(718, 0), IndirectObject(724, 0), IndirectObject(725, 0), IndirectObject(726, 0), IndirectObject(729, 0), IndirectObject(730, 0), IndirectObject(695, 0), IndirectObject(83, 0), IndirectObject(699, 0), IndirectObject(120, 0), IndirectObject(152, 0), IndirectObject(156, 0), IndirectObject(148, 0), IndirectObject(727, 0), IndirectObject(728, 0), IndirectObject(82, 0), IndirectObject(665, 0), IndirectObject(674, 0), IndirectObject(701, 0), IndirectObject(709, 0), IndirectObject(719, 0), IndirectObject(735, 0), IndirectObject(736, 0), IndirectObject(741, 0), IndirectObject(679, 0), IndirectObject(686, 0), IndirectObject(92, 0), IndirectObject(85, 0), IndirectObject(87, 0), IndirectObject(89, 0), IndirectObject(672, 0), IndirectObject(118, 0), IndirectObject(119, 0), IndirectObject(104, 0), IndirectObject(109, 0), IndirectObject(113, 0), IndirectObject(114, 0), IndirectObject(105, 0), IndirectObject(115, 0), IndirectObject(117, 0), IndirectObject(111, 0), IndirectObject(106, 0), IndirectObject(107, 0), IndirectObject(108, 0), IndirectObject(110, 0), IndirectObject(124, 0), IndirectObject(129, 0), IndirectObject(121, 0), IndirectObject(127, 0), IndirectObject(122, 0), IndirectObject(134, 0), IndirectObject(132, 0), IndirectObject(126, 0), IndirectObject(123, 0), IndirectObject(128, 0), IndirectObject(130, 0), IndirectObject(131, 0), IndirectObject(136, 0), IndirectObject(133, 0), IndirectObject(684, 0)], '/T': 'fax'}, '/T': 'Acct_Num_1', '/TU': 'Office Use Only: 8-digit Account Number', '/Ff': 12582914, '/AA': {'/C': IndirectObject(778, 0), '/K': IndirectObject(779, 0)}}, 'Select_TrRq-1': {'/FT': '/Btn', '/Parent': {'/Kids': [IndirectObject(669, 0), IndirectObject(708, 0), IndirectObject(746, 0), IndirectObject(716, 0), IndirectObject(159, 0), IndirectObject(157, 0), IndirectObject(135, 0), IndirectObject(146, 0), IndirectObject(667, 0), IndirectObject(671, 0), IndirectObject(691, 0), IndirectObject(697, 0), IndirectObject(693, 0), IndirectObject(715, 0), IndirectObject(706, 0), IndirectObject(714, 0), IndirectObject(717, 0), IndirectObject(718, 0), IndirectObject(724, 0), IndirectObject(725, 0), IndirectObject(726, 0), IndirectObject(729, 0), IndirectObject(730, 0), IndirectObject(695, 0), IndirectObject(83, 0), IndirectObject(699, 0), IndirectObject(120, 0), IndirectObject(152, 0), IndirectObject(156, 0), IndirectObject(148, 0), IndirectObject(727, 0), IndirectObject(728, 0), IndirectObject(82, 0), IndirectObject(665, 0), IndirectObject(674, 0), IndirectObject(701, 0), IndirectObject(709, 0), IndirectObject(719, 0), IndirectObject(735, 0), IndirectObject(736, 0), IndirectObject(741, 0), IndirectObject(679, 0), IndirectObject(686, 0), IndirectObject(92, 0), IndirectObject(85, 0), IndirectObject(87, 0), IndirectObject(89, 0), IndirectObject(672, 0), IndirectObject(118, 0), IndirectObject(119, 0), IndirectObject(104, 0), IndirectObject(109, 0), IndirectObject(113, 0), IndirectObject(114, 0), IndirectObject(105, 0), IndirectObject(115, 0), IndirectObject(117, 0), IndirectObject(111, 0), IndirectObject(106, 0), IndirectObject(107, 0), IndirectObject(108, 0), IndirectObject(110, 0), IndirectObject(124, 0), IndirectObject(129, 0), IndirectObject(121, 0), IndirectObject(127, 0), IndirectObject(122, 0), IndirectObject(134, 0), IndirectObject(132, 0), IndirectObject(126, 0), IndirectObject(123, 0), IndirectObject(128, 0), IndirectObject(130, 0), IndirectObject(131, 0), IndirectObject(136, 0), IndirectObject(133, 0), IndirectObject(684, 0)], '/T': 'fax'}, '/T': 'Select_TrRq-1', '/TU': 'Section 2 - One-Time Disbursement (Any future requests will require a new form) - If no selection is made, one-time disbursement is the default.'}, 'MoveAssets-1': {'/FT': '/Btn', '/Parent': {'/Kids': [IndirectObject(669, 0), IndirectObject(708, 0), IndirectObject(746, 0), IndirectObject(716, 0), IndirectObject(159, 0), IndirectObject(157, 0), IndirectObject(135, 0), IndirectObject(146, 0), IndirectObject(667, 0), IndirectObject(671, 0), IndirectObject(691, 0), IndirectObject(697, 0), IndirectObject(693, 0), IndirectObject(715, 0), IndirectObject(706, 0), IndirectObject(714, 0), IndirectObject(717, 0), IndirectObject(718, 0), IndirectObject(724, 0), IndirectObject(725, 0), IndirectObject(726, 0), IndirectObject(729, 0), IndirectObject(730, 0), IndirectObject(695, 0), IndirectObject(83, 0), IndirectObject(699, 0), IndirectObject(120, 0), IndirectObject(152, 0), IndirectObject(156, 0), IndirectObject(148, 0), IndirectObject(727, 0), IndirectObject(728, 0), IndirectObject(82, 0), IndirectObject(665, 0), IndirectObject(674, 0), IndirectObject(701, 0), IndirectObject(709, 0), IndirectObject(719, 0), IndirectObject(735, 0), IndirectObject(736, 0), IndirectObject(741, 0), IndirectObject(679, 0), IndirectObject(686, 0), IndirectObject(92, 0), IndirectObject(85, 0), IndirectObject(87, 0), IndirectObject(89, 0), IndirectObject(672, 0), IndirectObject(118, 0), IndirectObject(119, 0), IndirectObject(104, 0), IndirectObject(109, 0), IndirectObject(113, 0), IndirectObject(114, 0), IndirectObject(105, 0), IndirectObject(115, 0), IndirectObject(117, 0), IndirectObject(111, 0), IndirectObject(106, 0), IndirectObject(107, 0), IndirectObject(108, 0), IndirectObject(110, 0), IndirectObject(124, 0), IndirectObject(129, 0), IndirectObject(121, 0), IndirectObject(127, 0), IndirectObject(122, 0), IndirectObject(134, 0), IndirectObject(132, 0), IndirectObject(126, 0), IndirectObject(123, 0), IndirectObject(128, 0), IndirectObject(130, 0), IndirectObject(131, 0), IndirectObject(136, 0), IndirectObject(133, 0), IndirectObject(684, 0)], '/T': 'fax'}, '/T': 'MoveAssets-1', '/TU': 'Section 3 - Move via Journal to another Wells Fargo Advisors Account'}, 'MoveAssets-2': {'/FT': '/Btn', '/Parent': {'/Kids': [IndirectObject(669, 0), IndirectObject(708, 0), IndirectObject(746, 0), IndirectObject(716, 0), IndirectObject(159, 0), IndirectObject(157, 0), IndirectObject(135, 0), IndirectObject(146, 0), IndirectObject(667, 0), IndirectObject(671, 0), IndirectObject(691, 0), IndirectObject(697, 0), IndirectObject(693, 0), IndirectObject(715, 0), IndirectObject(706, 0), IndirectObject(714, 0), IndirectObject(717, 0), IndirectObject(718, 0), IndirectObject(724, 0), IndirectObject(725, 0), IndirectObject(726, 0), IndirectObject(729, 0), IndirectObject(730, 0), IndirectObject(695, 0), IndirectObject(83, 0), IndirectObject(699, 0), IndirectObject(120, 0), IndirectObject(152, 0), IndirectObject(156, 0), IndirectObject(148, 0), IndirectObject(727, 0), IndirectObject(728, 0), IndirectObject(82, 0), IndirectObject(665, 0), IndirectObject(674, 0), IndirectObject(701, 0), IndirectObject(709, 0), IndirectObject(719, 0), IndirectObject(735, 0), IndirectObject(736, 0), IndirectObject(741, 0), IndirectObject(679, 0), IndirectObject(686, 0), IndirectObject(92, 0), IndirectObject(85, 0), IndirectObject(87, 0), IndirectObject(89, 0), IndirectObject(672, 0), IndirectObject(118, 0), IndirectObject(119, 0), IndirectObject(104, 0), IndirectObject(109, 0), IndirectObject(113, 0), IndirectObject(114, 0), IndirectObject(105, 0), IndirectObject(115, 0), IndirectObject(117, 0), IndirectObject(111, 0), IndirectObject(106, 0), IndirectObject(107, 0), IndirectObject(108, 0), IndirectObject(110, 0), IndirectObject(124, 0), IndirectObject(129, 0), IndirectObject(121, 0), IndirectObject(127, 0), IndirectObject(122, 0), IndirectObject(134, 0), IndirectObject(132, 0), IndirectObject(126, 0), IndirectObject(123, 0), IndirectObject(128, 0), IndirectObject(130, 0), IndirectObject(131, 0), IndirectObject(136, 0), IndirectObject(133, 0), IndirectObject(684, 0)], '/T': 'fax'}, '/T': 'MoveAssets-2', '/TU': 'Section 3 - Send shares to another Financial Firm'}, 'MoveAssets-3': {'/FT': '/Btn', '/Parent': {'/Kids': [IndirectObject(669, 0), IndirectObject(708, 0), IndirectObject(746, 0), IndirectObject(716, 0), IndirectObject(159, 0), IndirectObject(157, 0), IndirectObject(135, 0), IndirectObject(146, 0), IndirectObject(667, 0), IndirectObject(671, 0), IndirectObject(691, 0), IndirectObject(697, 0), IndirectObject(693, 0), IndirectObject(715, 0), IndirectObject(706, 0), IndirectObject(714, 0), IndirectObject(717, 0), IndirectObject(718, 0), IndirectObject(724, 0), IndirectObject(725, 0), IndirectObject(726, 0), IndirectObject(729, 0), IndirectObject(730, 0), IndirectObject(695, 0), IndirectObject(83, 0), IndirectObject(699, 0), IndirectObject(120, 0), IndirectObject(152, 0), IndirectObject(156, 0), IndirectObject(148, 0), IndirectObject(727, 0), IndirectObject(728, 0), IndirectObject(82, 0), IndirectObject(665, 0), IndirectObject(674, 0), IndirectObject(701, 0), IndirectObject(709, 0), IndirectObject(719, 0), IndirectObject(735, 0), IndirectObject(736, 0), IndirectObject(741, 0), IndirectObject(679, 0), IndirectObject(686, 0), IndirectObject(92, 0), IndirectObject(85, 0), IndirectObject(87, 0), IndirectObject(89, 0), IndirectObject(672, 0), IndirectObject(118, 0), IndirectObject(119, 0), IndirectObject(104, 0), IndirectObject(109, 0), IndirectObject(113, 0), IndirectObject(114, 0), IndirectObject(105, 0), IndirectObject(115, 0), IndirectObject(117, 0), IndirectObject(111, 0), IndirectObject(106, 0), IndirectObject(107, 0), IndirectObject(108, 0), IndirectObject(110, 0), IndirectObject(124, 0), IndirectObject(129, 0), IndirectObject(121, 0), IndirectObject(127, 0), IndirectObject(122, 0), IndirectObject(134, 0), IndirectObject(132, 0), IndirectObject(126, 0), IndirectObject(123, 0), IndirectObject(128, 0), IndirectObject(130, 0), IndirectObject(131, 0), IndirectObject(136, 0), IndirectObject(133, 0), IndirectObject(684, 0)], '/T': 'fax'}, '/T': 'MoveAssets-3', '/TU': 'Section 3 - Check '}, 'OptionalMemoNote': {'/FT': '/Tx', '/Parent': {'/Kids': [IndirectObject(669, 0), IndirectObject(708, 0), IndirectObject(746, 0), IndirectObject(716, 0), IndirectObject(159, 0), IndirectObject(157, 0), IndirectObject(135, 0), IndirectObject(146, 0), IndirectObject(667, 0), IndirectObject(671, 0), IndirectObject(691, 0), IndirectObject(697, 0), IndirectObject(693, 0), IndirectObject(715, 0), IndirectObject(706, 0), IndirectObject(714, 0), IndirectObject(717, 0), IndirectObject(718, 0), IndirectObject(724, 0), IndirectObject(725, 0), IndirectObject(726, 0), IndirectObject(729, 0), IndirectObject(730, 0), IndirectObject(695, 0), IndirectObject(83, 0), IndirectObject(699, 0), IndirectObject(120, 0), IndirectObject(152, 0), IndirectObject(156, 0), IndirectObject(148, 0), IndirectObject(727, 0), IndirectObject(728, 0), IndirectObject(82, 0), IndirectObject(665, 0), IndirectObject(674, 0), IndirectObject(701, 0), IndirectObject(709, 0), IndirectObject(719, 0), IndirectObject(735, 0), IndirectObject(736, 0), IndirectObject(741, 0), IndirectObject(679, 0), IndirectObject(686, 0), IndirectObject(92, 0), IndirectObject(85, 0), IndirectObject(87, 0), IndirectObject(89, 0), IndirectObject(672, 0), IndirectObject(118, 0), IndirectObject(119, 0), IndirectObject(104, 0), IndirectObject(109, 0), IndirectObject(113, 0), IndirectObject(114, 0), IndirectObject(105, 0), IndirectObject(115, 0), IndirectObject(117, 0), IndirectObject(111, 0), IndirectObject(106, 0), IndirectObject(107, 0), IndirectObject(108, 0), IndirectObject(110, 0), IndirectObject(124, 0), IndirectObject(129, 0), IndirectObject(121, 0), IndirectObject(127, 0), IndirectObject(122, 0), IndirectObject(134, 0), IndirectObject(132, 0), IndirectObject(126, 0), IndirectObject(123, 0), IndirectObject(128, 0), IndirectObject(130, 0), IndirectObject(131, 0), IndirectObject(136, 0), IndirectObject(133, 0), IndirectObject(684, 0)], '/T': 'fax'}, '/T': 'OptionalMemoNote', '/TU': 'Section 3 - Optional Memo: Note', '/Ff': 8388608, '/AA': {'/F': IndirectObject(814, 0)}}, 'DeliveryMethod-1': {'/FT': '/Btn', '/Parent': {'/Kids': [IndirectObject(669, 0), IndirectObject(708, 0), IndirectObject(746, 0), IndirectObject(716, 0), IndirectObject(159, 0), IndirectObject(157, 0), IndirectObject(135, 0), IndirectObject(146, 0), IndirectObject(667, 0), IndirectObject(671, 0), IndirectObject(691, 0), IndirectObject(697, 0), IndirectObject(693, 0), IndirectObject(715, 0), IndirectObject(706, 0), IndirectObject(714, 0), IndirectObject(717, 0), IndirectObject(718, 0), IndirectObject(724, 0), IndirectObject(725, 0), IndirectObject(726, 0), IndirectObject(729, 0), IndirectObject(730, 0), IndirectObject(695, 0), IndirectObject(83, 0), IndirectObject(699, 0), IndirectObject(120, 0), IndirectObject(152, 0), IndirectObject(156, 0), IndirectObject(148, 0), IndirectObject(727, 0), IndirectObject(728, 0), IndirectObject(82, 0), IndirectObject(665, 0), IndirectObject(674, 0), IndirectObject(701, 0), IndirectObject(709, 0), IndirectObject(719, 0), IndirectObject(735, 0), IndirectObject(736, 0), IndirectObject(741, 0), IndirectObject(679, 0), IndirectObject(686, 0), IndirectObject(92, 0), IndirectObject(85, 0), IndirectObject(87, 0), IndirectObject(89, 0), IndirectObject(672, 0), IndirectObject(118, 0), IndirectObject(119, 0), IndirectObject(104, 0), IndirectObject(109, 0), IndirectObject(113, 0), IndirectObject(114, 0), IndirectObject(105, 0), IndirectObject(115, 0), IndirectObject(117, 0), IndirectObject(111, 0), IndirectObject(106, 0), IndirectObject(107, 0), IndirectObject(108, 0), IndirectObject(110, 0), IndirectObject(124, 0), IndirectObject(129, 0), IndirectObject(121, 0), IndirectObject(127, 0), IndirectObject(122, 0), IndirectObject(134, 0), IndirectObject(132, 0), IndirectObject(126, 0), IndirectObject(123, 0), IndirectObject(128, 0), IndirectObject(130, 0), IndirectObject(131, 0), IndirectObject(136, 0), IndirectObject(133, 0), IndirectObject(684, 0)], '/T': 'fax'}, '/T': 'DeliveryMethod-1', '/TU': 'Section 3 - Delivery Method: Regular Mail (default)'}, 'DeliveryMethod-2': {'/FT': '/Btn', '/Parent': {'/Kids': [IndirectObject(669, 0), IndirectObject(708, 0), IndirectObject(746, 0), IndirectObject(716, 0), IndirectObject(159, 0), IndirectObject(157, 0), IndirectObject(135, 0), IndirectObject(146, 0), IndirectObject(667, 0), IndirectObject(671, 0), IndirectObject(691, 0), IndirectObject(697, 0), IndirectObject(693, 0), IndirectObject(715, 0), IndirectObject(706, 0), IndirectObject(714, 0), IndirectObject(717, 0), IndirectObject(718, 0), IndirectObject(724, 0), IndirectObject(725, 0), IndirectObject(726, 0), IndirectObject(729, 0), IndirectObject(730, 0), IndirectObject(695, 0), IndirectObject(83, 0), IndirectObject(699, 0), IndirectObject(120, 0), IndirectObject(152, 0), IndirectObject(156, 0), IndirectObject(148, 0), IndirectObject(727, 0), IndirectObject(728, 0), IndirectObject(82, 0), IndirectObject(665, 0), IndirectObject(674, 0), IndirectObject(701, 0), IndirectObject(709, 0), IndirectObject(719, 0), IndirectObject(735, 0), IndirectObject(736, 0), IndirectObject(741, 0), IndirectObject(679, 0), IndirectObject(686, 0), IndirectObject(92, 0), IndirectObject(85, 0), IndirectObject(87, 0), IndirectObject(89, 0), IndirectObject(672, 0), IndirectObject(118, 0), IndirectObject(119, 0), IndirectObject(104, 0), IndirectObject(109, 0), IndirectObject(113, 0), IndirectObject(114, 0), IndirectObject(105, 0), IndirectObject(115, 0), IndirectObject(117, 0), IndirectObject(111, 0), IndirectObject(106, 0), IndirectObject(107, 0), IndirectObject(108, 0), IndirectObject(110, 0), IndirectObject(124, 0), IndirectObject(129, 0), IndirectObject(121, 0), IndirectObject(127, 0), IndirectObject(122, 0), IndirectObject(134, 0), IndirectObject(132, 0), IndirectObject(126, 0), IndirectObject(123, 0), IndirectObject(128, 0), IndirectObject(130, 0), IndirectObject(131, 0), IndirectObject(136, 0), IndirectObject(133, 0), IndirectObject(684, 0)], '/T': 'fax'}, '/T': 'DeliveryMethod-2', '/TU': 'Section 3 - Overnight Delivery (Fee will apply, overnight is not an option for recurring instructions) (Check cannot be overnighted to a P.O. Box)'}, 'Select_TrRq-2': {'/FT': '/Btn', '/Parent': {'/Kids': [IndirectObject(669, 0), IndirectObject(708, 0), IndirectObject(746, 0), IndirectObject(716, 0), IndirectObject(159, 0), IndirectObject(157, 0), IndirectObject(135, 0), IndirectObject(146, 0), IndirectObject(667, 0), IndirectObject(671, 0), IndirectObject(691, 0), IndirectObject(697, 0), IndirectObject(693, 0), IndirectObject(715, 0), IndirectObject(706, 0), IndirectObject(714, 0), IndirectObject(717, 0), IndirectObject(718, 0), IndirectObject(724, 0), IndirectObject(725, 0), IndirectObject(726, 0), IndirectObject(729, 0), IndirectObject(730, 0), IndirectObject(695, 0), IndirectObject(83, 0), IndirectObject(699, 0), IndirectObject(120, 0), IndirectObject(152, 0), IndirectObject(156, 0), IndirectObject(148, 0), IndirectObject(727, 0), IndirectObject(728, 0), IndirectObject(82, 0), IndirectObject(665, 0), IndirectObject(674, 0), IndirectObject(701, 0), IndirectObject(709, 0), IndirectObject(719, 0), IndirectObject(735, 0), IndirectObject(736, 0), IndirectObject(741, 0), IndirectObject(679, 0), IndirectObject(686, 0), IndirectObject(92, 0), IndirectObject(85, 0), IndirectObject(87, 0), IndirectObject(89, 0), IndirectObject(672, 0), IndirectObject(118, 0), IndirectObject(119, 0), IndirectObject(104, 0), IndirectObject(109, 0), IndirectObject(113, 0), IndirectObject(114, 0), IndirectObject(105, 0), IndirectObject(115, 0), IndirectObject(117, 0), IndirectObject(111, 0), IndirectObject(106, 0), IndirectObject(107, 0), IndirectObject(108, 0), IndirectObject(110, 0), IndirectObject(124, 0), IndirectObject(129, 0), IndirectObject(121, 0), IndirectObject(127, 0), IndirectObject(122, 0), IndirectObject(134, 0), IndirectObject(132, 0), IndirectObject(126, 0), IndirectObject(123, 0), IndirectObject(128, 0), IndirectObject(130, 0), IndirectObject(131, 0), IndirectObject(136, 0), IndirectObject(133, 0), IndirectObject(684, 0)], '/T': 'fax'}, '/T': 'Select_TrRq-2', '/TU': 'Section 2 - Standing Instruction (Periodic transfers at the client’s discretion with the amount not to exceed a specific threshold)  - If no selection is made, one-time disbursement is the default'}, 'Select_TrRq-3': {'/FT': '/Btn', '/Parent': {'/Kids': [IndirectObject(669, 0), IndirectObject(708, 0), IndirectObject(746, 0), IndirectObject(716, 0), IndirectObject(159, 0), IndirectObject(157, 0), IndirectObject(135, 0), IndirectObject(146, 0), IndirectObject(667, 0), IndirectObject(671, 0), IndirectObject(691, 0), IndirectObject(697, 0), IndirectObject(693, 0), IndirectObject(715, 0), IndirectObject(706, 0), IndirectObject(714, 0), IndirectObject(717, 0), IndirectObject(718, 0), IndirectObject(724, 0), IndirectObject(725, 0), IndirectObject(726, 0), IndirectObject(729, 0), IndirectObject(730, 0), IndirectObject(695, 0), IndirectObject(83, 0), IndirectObject(699, 0), IndirectObject(120, 0), IndirectObject(152, 0), IndirectObject(156, 0), IndirectObject(148, 0), IndirectObject(727, 0), IndirectObject(728, 0), IndirectObject(82, 0), IndirectObject(665, 0), IndirectObject(674, 0), IndirectObject(701, 0), IndirectObject(709, 0), IndirectObject(719, 0), IndirectObject(735, 0), IndirectObject(736, 0), IndirectObject(741, 0), IndirectObject(679, 0), IndirectObject(686, 0), IndirectObject(92, 0), IndirectObject(85, 0), IndirectObject(87, 0), IndirectObject(89, 0), IndirectObject(672, 0), IndirectObject(118, 0), IndirectObject(119, 0), IndirectObject(104, 0), IndirectObject(109, 0), IndirectObject(113, 0), IndirectObject(114, 0), IndirectObject(105, 0), IndirectObject(115, 0), IndirectObject(117, 0), IndirectObject(111, 0), IndirectObject(106, 0), IndirectObject(107, 0), IndirectObject(108, 0), IndirectObject(110, 0), IndirectObject(124, 0), IndirectObject(129, 0), IndirectObject(121, 0), IndirectObject(127, 0), IndirectObject(122, 0), IndirectObject(134, 0), IndirectObject(132, 0), IndirectObject(126, 0), IndirectObject(123, 0), IndirectObject(128, 0), IndirectObject(130, 0), IndirectObject(131, 0), IndirectObject(136, 0), IndirectObject(133, 0), IndirectObject(684, 0)], '/T': 'fax'}, '/T': 'Select_TrRq-3', '/TU': 'Section 3 - Recurring* (only available for cash) (*Automated transfer of a specific dollar amount or type) - If no selection is made, one-time disbursement is the default.'}, 'Dollar_2': {'/FT': '/Tx', '/Parent': {'/Kids': [IndirectObject(669, 0), IndirectObject(708, 0), IndirectObject(746, 0), IndirectObject(716, 0), IndirectObject(159, 0), IndirectObject(157, 0), IndirectObject(135, 0), IndirectObject(146, 0), IndirectObject(667, 0), IndirectObject(671, 0), IndirectObject(691, 0), IndirectObject(697, 0), IndirectObject(693, 0), IndirectObject(715, 0), IndirectObject(706, 0), IndirectObject(714, 0), IndirectObject(717, 0), IndirectObject(718, 0), IndirectObject(724, 0), IndirectObject(725, 0), IndirectObject(726, 0), IndirectObject(729, 0), IndirectObject(730, 0), IndirectObject(695, 0), IndirectObject(83, 0), IndirectObject(699, 0), IndirectObject(120, 0), IndirectObject(152, 0), IndirectObject(156, 0), IndirectObject(148, 0), IndirectObject(727, 0), IndirectObject(728, 0), IndirectObject(82, 0), IndirectObject(665, 0), IndirectObject(674, 0), IndirectObject(701, 0), IndirectObject(709, 0), IndirectObject(719, 0), IndirectObject(735, 0), IndirectObject(736, 0), IndirectObject(741, 0), IndirectObject(679, 0), IndirectObject(686, 0), IndirectObject(92, 0), IndirectObject(85, 0), IndirectObject(87, 0), IndirectObject(89, 0), IndirectObject(672, 0), IndirectObject(118, 0), IndirectObject(119, 0), IndirectObject(104, 0), IndirectObject(109, 0), IndirectObject(113, 0), IndirectObject(114, 0), IndirectObject(105, 0), IndirectObject(115, 0), IndirectObject(117, 0), IndirectObject(111, 0), IndirectObject(106, 0), IndirectObject(107, 0), IndirectObject(108, 0), IndirectObject(110, 0), IndirectObject(124, 0), IndirectObject(129, 0), IndirectObject(121, 0), IndirectObject(127, 0), IndirectObject(122, 0), IndirectObject(134, 0), IndirectObject(132, 0), IndirectObject(126, 0), IndirectObject(123, 0), IndirectObject(128, 0), IndirectObject(130, 0), IndirectObject(131, 0), IndirectObject(136, 0), IndirectObject(133, 0), IndirectObject(684, 0)], '/T': 'fax'}, '/T': 'Dollar_2', '/TU': 'Section 4 - Dollar Amount or write in the word, \"All\"', '/Ff': 8388608, '/AA': {'/C': IndirectObject(81, 0)}}, 'Section4_b': {'/FT': '/Btn', '/Parent': {'/Kids': [IndirectObject(669, 0), IndirectObject(708, 0), IndirectObject(746, 0), IndirectObject(716, 0), IndirectObject(159, 0), IndirectObject(157, 0), IndirectObject(135, 0), IndirectObject(146, 0), IndirectObject(667, 0), IndirectObject(671, 0), IndirectObject(691, 0), IndirectObject(697, 0), IndirectObject(693, 0), IndirectObject(715, 0), IndirectObject(706, 0), IndirectObject(714, 0), IndirectObject(717, 0), IndirectObject(718, 0), IndirectObject(724, 0), IndirectObject(725, 0), IndirectObject(726, 0), IndirectObject(729, 0), IndirectObject(730, 0), IndirectObject(695, 0), IndirectObject(83, 0), IndirectObject(699, 0), IndirectObject(120, 0), IndirectObject(152, 0), IndirectObject(156, 0), IndirectObject(148, 0), IndirectObject(727, 0), IndirectObject(728, 0), IndirectObject(82, 0), IndirectObject(665, 0), IndirectObject(674, 0), IndirectObject(701, 0), IndirectObject(709, 0), IndirectObject(719, 0), IndirectObject(735, 0), IndirectObject(736, 0), IndirectObject(741, 0), IndirectObject(679, 0), IndirectObject(686, 0), IndirectObject(92, 0), IndirectObject(85, 0), IndirectObject(87, 0), IndirectObject(89, 0), IndirectObject(672, 0), IndirectObject(118, 0), IndirectObject(119, 0), IndirectObject(104, 0), IndirectObject(109, 0), IndirectObject(113, 0), IndirectObject(114, 0), IndirectObject(105, 0), IndirectObject(115, 0), IndirectObject(117, 0), IndirectObject(111, 0), IndirectObject(106, 0), IndirectObject(107, 0), IndirectObject(108, 0), IndirectObject(110, 0), IndirectObject(124, 0), IndirectObject(129, 0), IndirectObject(121, 0), IndirectObject(127, 0), IndirectObject(122, 0), IndirectObject(134, 0), IndirectObject(132, 0), IndirectObject(126, 0), IndirectObject(123, 0), IndirectObject(128, 0), IndirectObject(130, 0), IndirectObject(131, 0), IndirectObject(136, 0), IndirectObject(133, 0), IndirectObject(684, 0)], '/T': 'fax'}, '/T': 'Section4_b', '/TU': 'Section 4 - Cash'}, 'Section4_c': {'/FT': '/Btn', '/Parent': {'/Kids': [IndirectObject(669, 0), IndirectObject(708, 0), IndirectObject(746, 0), IndirectObject(716, 0), IndirectObject(159, 0), IndirectObject(157, 0), IndirectObject(135, 0), IndirectObject(146, 0), IndirectObject(667, 0), IndirectObject(671, 0), IndirectObject(691, 0), IndirectObject(697, 0), IndirectObject(693, 0), IndirectObject(715, 0), IndirectObject(706, 0), IndirectObject(714, 0), IndirectObject(717, 0), IndirectObject(718, 0), IndirectObject(724, 0), IndirectObject(725, 0), IndirectObject(726, 0), IndirectObject(729, 0), IndirectObject(730, 0), IndirectObject(695, 0), IndirectObject(83, 0), IndirectObject(699, 0), IndirectObject(120, 0), IndirectObject(152, 0), IndirectObject(156, 0), IndirectObject(148, 0), IndirectObject(727, 0), IndirectObject(728, 0), IndirectObject(82, 0), IndirectObject(665, 0), IndirectObject(674, 0), IndirectObject(701, 0), IndirectObject(709, 0), IndirectObject(719, 0), IndirectObject(735, 0), IndirectObject(736, 0), IndirectObject(741, 0), IndirectObject(679, 0), IndirectObject(686, 0), IndirectObject(92, 0), IndirectObject(85, 0), IndirectObject(87, 0), IndirectObject(89, 0), IndirectObject(672, 0), IndirectObject(118, 0), IndirectObject(119, 0), IndirectObject(104, 0), IndirectObject(109, 0), IndirectObject(113, 0), IndirectObject(114, 0), IndirectObject(105, 0), IndirectObject(115, 0), IndirectObject(117, 0), IndirectObject(111, 0), IndirectObject(106, 0), IndirectObject(107, 0), IndirectObject(108, 0), IndirectObject(110, 0), IndirectObject(124, 0), IndirectObject(129, 0), IndirectObject(121, 0), IndirectObject(127, 0), IndirectObject(122, 0), IndirectObject(134, 0), IndirectObject(132, 0), IndirectObject(126, 0), IndirectObject(123, 0), IndirectObject(128, 0), IndirectObject(130, 0), IndirectObject(131, 0), IndirectObject(136, 0), IndirectObject(133, 0), IndirectObject(684, 0)], '/T': 'fax'}, '/T': 'Section4_c', '/TU': 'Section 4 - All Securities'}, 'Section4_d': {'/FT': '/Btn', '/Parent': {'/Kids': [IndirectObject(669, 0), IndirectObject(708, 0), IndirectObject(746, 0), IndirectObject(716, 0), IndirectObject(159, 0), IndirectObject(157, 0), IndirectObject(135, 0), IndirectObject(146, 0), IndirectObject(667, 0), IndirectObject(671, 0), IndirectObject(691, 0), IndirectObject(697, 0), IndirectObject(693, 0), IndirectObject(715, 0), IndirectObject(706, 0), IndirectObject(714, 0), IndirectObject(717, 0), IndirectObject(718, 0), IndirectObject(724, 0), IndirectObject(725, 0), IndirectObject(726, 0), IndirectObject(729, 0), IndirectObject(730, 0), IndirectObject(695, 0), IndirectObject(83, 0), IndirectObject(699, 0), IndirectObject(120, 0), IndirectObject(152, 0), IndirectObject(156, 0), IndirectObject(148, 0), IndirectObject(727, 0), IndirectObject(728, 0), IndirectObject(82, 0), IndirectObject(665, 0), IndirectObject(674, 0), IndirectObject(701, 0), IndirectObject(709, 0), IndirectObject(719, 0), IndirectObject(735, 0), IndirectObject(736, 0), IndirectObject(741, 0), IndirectObject(679, 0), IndirectObject(686, 0), IndirectObject(92, 0), IndirectObject(85, 0), IndirectObject(87, 0), IndirectObject(89, 0), IndirectObject(672, 0), IndirectObject(118, 0), IndirectObject(119, 0), IndirectObject(104, 0), IndirectObject(109, 0), IndirectObject(113, 0), IndirectObject(114, 0), IndirectObject(105, 0), IndirectObject(115, 0), IndirectObject(117, 0), IndirectObject(111, 0), IndirectObject(106, 0), IndirectObject(107, 0), IndirectObject(108, 0), IndirectObject(110, 0), IndirectObject(124, 0), IndirectObject(129, 0), IndirectObject(121, 0), IndirectObject(127, 0), IndirectObject(122, 0), IndirectObject(134, 0), IndirectObject(132, 0), IndirectObject(126, 0), IndirectObject(123, 0), IndirectObject(128, 0), IndirectObject(130, 0), IndirectObject(131, 0), IndirectObject(136, 0), IndirectObject(133, 0), IndirectObject(684, 0)], '/T': 'fax'}, '/T': 'Section4_d', '/TU': 'Section 4 - Only the securities listed below (Need more space? Attach separate pages including Tax Lot Selections if applicable; any attachments must also be signed)'}, 'Purpose': {'/FT': '/Tx', '/Parent': {'/Kids': [IndirectObject(669, 0), IndirectObject(708, 0), IndirectObject(746, 0), IndirectObject(716, 0), IndirectObject(159, 0), IndirectObject(157, 0), IndirectObject(135, 0), IndirectObject(146, 0), IndirectObject(667, 0), IndirectObject(671, 0), IndirectObject(691, 0), IndirectObject(697, 0), IndirectObject(693, 0), IndirectObject(715, 0), IndirectObject(706, 0), IndirectObject(714, 0), IndirectObject(717, 0), IndirectObject(718, 0), IndirectObject(724, 0), IndirectObject(725, 0), IndirectObject(726, 0), IndirectObject(729, 0), IndirectObject(730, 0), IndirectObject(695, 0), IndirectObject(83, 0), IndirectObject(699, 0), IndirectObject(120, 0), IndirectObject(152, 0), IndirectObject(156, 0), IndirectObject(148, 0), IndirectObject(727, 0), IndirectObject(728, 0), IndirectObject(82, 0), IndirectObject(665, 0), IndirectObject(674, 0), IndirectObject(701, 0), IndirectObject(709, 0), IndirectObject(719, 0), IndirectObject(735, 0), IndirectObject(736, 0), IndirectObject(741, 0), IndirectObject(679, 0), IndirectObject(686, 0), IndirectObject(92, 0), IndirectObject(85, 0), IndirectObject(87, 0), IndirectObject(89, 0), IndirectObject(672, 0), IndirectObject(118, 0), IndirectObject(119, 0), IndirectObject(104, 0), IndirectObject(109, 0), IndirectObject(113, 0), IndirectObject(114, 0), IndirectObject(105, 0), IndirectObject(115, 0), IndirectObject(117, 0), IndirectObject(111, 0), IndirectObject(106, 0), IndirectObject(107, 0), IndirectObject(108, 0), IndirectObject(110, 0), IndirectObject(124, 0), IndirectObject(129, 0), IndirectObject(121, 0), IndirectObject(127, 0), IndirectObject(122, 0), IndirectObject(134, 0), IndirectObject(132, 0), IndirectObject(126, 0), IndirectObject(123, 0), IndirectObject(128, 0), IndirectObject(130, 0), IndirectObject(131, 0), IndirectObject(136, 0), IndirectObject(133, 0), IndirectObject(684, 0)], '/T': 'fax'}, '/T': 'Purpose', '/TU': 'Section 1 - Purpose for Transfer - required for UTMA/UGMA', '/Ff': 8388608, '/AA': {'/Bl': IndirectObject(784, 0), '/C': IndirectObject(785, 0)}}, 'Number_of_ Shares_1': {'/FT': '/Tx', '/Parent': {'/Kids': [IndirectObject(669, 0), IndirectObject(708, 0), IndirectObject(746, 0), IndirectObject(716, 0), IndirectObject(159, 0), IndirectObject(157, 0), IndirectObject(135, 0), IndirectObject(146, 0), IndirectObject(667, 0), IndirectObject(671, 0), IndirectObject(691, 0), IndirectObject(697, 0), IndirectObject(693, 0), IndirectObject(715, 0), IndirectObject(706, 0), IndirectObject(714, 0), IndirectObject(717, 0), IndirectObject(718, 0), IndirectObject(724, 0), IndirectObject(725, 0), IndirectObject(726, 0), IndirectObject(729, 0), IndirectObject(730, 0), IndirectObject(695, 0), IndirectObject(83, 0), IndirectObject(699, 0), IndirectObject(120, 0), IndirectObject(152, 0), IndirectObject(156, 0), IndirectObject(148, 0), IndirectObject(727, 0), IndirectObject(728, 0), IndirectObject(82, 0), IndirectObject(665, 0), IndirectObject(674, 0), IndirectObject(701, 0), IndirectObject(709, 0), IndirectObject(719, 0), IndirectObject(735, 0), IndirectObject(736, 0), IndirectObject(741, 0), IndirectObject(679, 0), IndirectObject(686, 0), IndirectObject(92, 0), IndirectObject(85, 0), IndirectObject(87, 0), IndirectObject(89, 0), IndirectObject(672, 0), IndirectObject(118, 0), IndirectObject(119, 0), IndirectObject(104, 0), IndirectObject(109, 0), IndirectObject(113, 0), IndirectObject(114, 0), IndirectObject(105, 0), IndirectObject(115, 0), IndirectObject(117, 0), IndirectObject(111, 0), IndirectObject(106, 0), IndirectObject(107, 0), IndirectObject(108, 0), IndirectObject(110, 0), IndirectObject(124, 0), IndirectObject(129, 0), IndirectObject(121, 0), IndirectObject(127, 0), IndirectObject(122, 0), IndirectObject(134, 0), IndirectObject(132, 0), IndirectObject(126, 0), IndirectObject(123, 0), IndirectObject(128, 0), IndirectObject(130, 0), IndirectObject(131, 0), IndirectObject(136, 0), IndirectObject(133, 0), IndirectObject(684, 0)], '/T': 'fax'}, '/T': 'Number_of_ Shares_1', '/TU': 'Section 3 - Number of Shares/Contracts (or for standing instructions, list not to exceed quantity) - Security 1', '/Ff': 12582912, '/AA': {'/F': IndirectObject(139, 0), '/K': IndirectObject(153, 0)}}, 'Security_Description_1': {'/FT': '/Tx', '/Parent': {'/Kids': [IndirectObject(669, 0), IndirectObject(708, 0), IndirectObject(746, 0), IndirectObject(716, 0), IndirectObject(159, 0), IndirectObject(157, 0), IndirectObject(135, 0), IndirectObject(146, 0), IndirectObject(667, 0), IndirectObject(671, 0), IndirectObject(691, 0), IndirectObject(697, 0), IndirectObject(693, 0), IndirectObject(715, 0), IndirectObject(706, 0), IndirectObject(714, 0), IndirectObject(717, 0), IndirectObject(718, 0), IndirectObject(724, 0), IndirectObject(725, 0), IndirectObject(726, 0), IndirectObject(729, 0), IndirectObject(730, 0), IndirectObject(695, 0), IndirectObject(83, 0), IndirectObject(699, 0), IndirectObject(120, 0), IndirectObject(152, 0), IndirectObject(156, 0), IndirectObject(148, 0), IndirectObject(727, 0), IndirectObject(728, 0), IndirectObject(82, 0), IndirectObject(665, 0), IndirectObject(674, 0), IndirectObject(701, 0), IndirectObject(709, 0), IndirectObject(719, 0), IndirectObject(735, 0), IndirectObject(736, 0), IndirectObject(741, 0), IndirectObject(679, 0), IndirectObject(686, 0), IndirectObject(92, 0), IndirectObject(85, 0), IndirectObject(87, 0), IndirectObject(89, 0), IndirectObject(672, 0), IndirectObject(118, 0), IndirectObject(119, 0), IndirectObject(104, 0), IndirectObject(109, 0), IndirectObject(113, 0), IndirectObject(114, 0), IndirectObject(105, 0), IndirectObject(115, 0), IndirectObject(117, 0), IndirectObject(111, 0), IndirectObject(106, 0), IndirectObject(107, 0), IndirectObject(108, 0), IndirectObject(110, 0), IndirectObject(124, 0), IndirectObject(129, 0), IndirectObject(121, 0), IndirectObject(127, 0), IndirectObject(122, 0), IndirectObject(134, 0), IndirectObject(132, 0), IndirectObject(126, 0), IndirectObject(123, 0), IndirectObject(128, 0), IndirectObject(130, 0), IndirectObject(131, 0), IndirectObject(136, 0), IndirectObject(133, 0), IndirectObject(684, 0)], '/T': 'fax'}, '/T': 'Security_Description_1', '/TU': 'Section 3: Security Description - Security 1', '/Ff': 8388608, '/AA': {'/F': IndirectObject(158, 0)}}, 'Symbol_or_Cusip_Number_1': {'/FT': '/Tx', '/Parent': {'/Kids': [IndirectObject(669, 0), IndirectObject(708, 0), IndirectObject(746, 0), IndirectObject(716, 0), IndirectObject(159, 0), IndirectObject(157, 0), IndirectObject(135, 0), IndirectObject(146, 0), IndirectObject(667, 0), IndirectObject(671, 0), IndirectObject(691, 0), IndirectObject(697, 0), IndirectObject(693, 0), IndirectObject(715, 0), IndirectObject(706, 0), IndirectObject(714, 0), IndirectObject(717, 0), IndirectObject(718, 0), IndirectObject(724, 0), IndirectObject(725, 0), IndirectObject(726, 0), IndirectObject(729, 0), IndirectObject(730, 0), IndirectObject(695, 0), IndirectObject(83, 0), IndirectObject(699, 0), IndirectObject(120, 0), IndirectObject(152, 0), IndirectObject(156, 0), IndirectObject(148, 0), IndirectObject(727, 0), IndirectObject(728, 0), IndirectObject(82, 0), IndirectObject(665, 0), IndirectObject(674, 0), IndirectObject(701, 0), IndirectObject(709, 0), IndirectObject(719, 0), IndirectObject(735, 0), IndirectObject(736, 0), IndirectObject(741, 0), IndirectObject(679, 0), IndirectObject(686, 0), IndirectObject(92, 0), IndirectObject(85, 0), IndirectObject(87, 0), IndirectObject(89, 0), IndirectObject(672, 0), IndirectObject(118, 0), IndirectObject(119, 0), IndirectObject(104, 0), IndirectObject(109, 0), IndirectObject(113, 0), IndirectObject(114, 0), IndirectObject(105, 0), IndirectObject(115, 0), IndirectObject(117, 0), IndirectObject(111, 0), IndirectObject(106, 0), IndirectObject(107, 0), IndirectObject(108, 0), IndirectObject(110, 0), IndirectObject(124, 0), IndirectObject(129, 0), IndirectObject(121, 0), IndirectObject(127, 0), IndirectObject(122, 0), IndirectObject(134, 0), IndirectObject(132, 0), IndirectObject(126, 0), IndirectObject(123, 0), IndirectObject(128, 0), IndirectObject(130, 0), IndirectObject(131, 0), IndirectObject(136, 0), IndirectObject(133, 0), IndirectObject(684, 0)], '/T': 'fax'}, '/T': 'Symbol_or_Cusip_Number_1', '/TU': 'Section 3: Symbol or CUSIP Number - Security 1', '/Ff': 8388608, '/AA': {'/F': IndirectObject(150, 0)}}, 'Max_Number_of_ Shares_1': {'/FT': '/Tx', '/Parent': {'/Kids': [IndirectObject(669, 0), IndirectObject(708, 0), IndirectObject(746, 0), IndirectObject(716, 0), IndirectObject(159, 0), IndirectObject(157, 0), IndirectObject(135, 0), IndirectObject(146, 0), IndirectObject(667, 0), IndirectObject(671, 0), IndirectObject(691, 0), IndirectObject(697, 0), IndirectObject(693, 0), IndirectObject(715, 0), IndirectObject(706, 0), IndirectObject(714, 0), IndirectObject(717, 0), IndirectObject(718, 0), IndirectObject(724, 0), IndirectObject(725, 0), IndirectObject(726, 0), IndirectObject(729, 0), IndirectObject(730, 0), IndirectObject(695, 0), IndirectObject(83, 0), IndirectObject(699, 0), IndirectObject(120, 0), IndirectObject(152, 0), IndirectObject(156, 0), IndirectObject(148, 0), IndirectObject(727, 0), IndirectObject(728, 0), IndirectObject(82, 0), IndirectObject(665, 0), IndirectObject(674, 0), IndirectObject(701, 0), IndirectObject(709, 0), IndirectObject(719, 0), IndirectObject(735, 0), IndirectObject(736, 0), IndirectObject(741, 0), IndirectObject(679, 0), IndirectObject(686, 0), IndirectObject(92, 0), IndirectObject(85, 0), IndirectObject(87, 0), IndirectObject(89, 0), IndirectObject(672, 0), IndirectObject(118, 0), IndirectObject(119, 0), IndirectObject(104, 0), IndirectObject(109, 0), IndirectObject(113, 0), IndirectObject(114, 0), IndirectObject(105, 0), IndirectObject(115, 0), IndirectObject(117, 0), IndirectObject(111, 0), IndirectObject(106, 0), IndirectObject(107, 0), IndirectObject(108, 0), IndirectObject(110, 0), IndirectObject(124, 0), IndirectObject(129, 0), IndirectObject(121, 0), IndirectObject(127, 0), IndirectObject(122, 0), IndirectObject(134, 0), IndirectObject(132, 0), IndirectObject(126, 0), IndirectObject(123, 0), IndirectObject(128, 0), IndirectObject(130, 0), IndirectObject(131, 0), IndirectObject(136, 0), IndirectObject(133, 0), IndirectObject(684, 0)], '/T': 'fax'}, '/T': 'Max_Number_of_ Shares_1', '/TU': \"Section 3 - For standing instructions, provide maximum market value based on prior business day's closing value – Security 1\", '/Ff': 12582912, '/AA': {'/F': IndirectObject(155, 0), '/K': IndirectObject(160, 0)}}, 'Number_of_ Shares_2': {'/FT': '/Tx', '/Parent': {'/Kids': [IndirectObject(669, 0), IndirectObject(708, 0), IndirectObject(746, 0), IndirectObject(716, 0), IndirectObject(159, 0), IndirectObject(157, 0), IndirectObject(135, 0), IndirectObject(146, 0), IndirectObject(667, 0), IndirectObject(671, 0), IndirectObject(691, 0), IndirectObject(697, 0), IndirectObject(693, 0), IndirectObject(715, 0), IndirectObject(706, 0), IndirectObject(714, 0), IndirectObject(717, 0), IndirectObject(718, 0), IndirectObject(724, 0), IndirectObject(725, 0), IndirectObject(726, 0), IndirectObject(729, 0), IndirectObject(730, 0), IndirectObject(695, 0), IndirectObject(83, 0), IndirectObject(699, 0), IndirectObject(120, 0), IndirectObject(152, 0), IndirectObject(156, 0), IndirectObject(148, 0), IndirectObject(727, 0), IndirectObject(728, 0), IndirectObject(82, 0), IndirectObject(665, 0), IndirectObject(674, 0), IndirectObject(701, 0), IndirectObject(709, 0), IndirectObject(719, 0), IndirectObject(735, 0), IndirectObject(736, 0), IndirectObject(741, 0), IndirectObject(679, 0), IndirectObject(686, 0), IndirectObject(92, 0), IndirectObject(85, 0), IndirectObject(87, 0), IndirectObject(89, 0), IndirectObject(672, 0), IndirectObject(118, 0), IndirectObject(119, 0), IndirectObject(104, 0), IndirectObject(109, 0), IndirectObject(113, 0), IndirectObject(114, 0), IndirectObject(105, 0), IndirectObject(115, 0), IndirectObject(117, 0), IndirectObject(111, 0), IndirectObject(106, 0), IndirectObject(107, 0), IndirectObject(108, 0), IndirectObject(110, 0), IndirectObject(124, 0), IndirectObject(129, 0), IndirectObject(121, 0), IndirectObject(127, 0), IndirectObject(122, 0), IndirectObject(134, 0), IndirectObject(132, 0), IndirectObject(126, 0), IndirectObject(123, 0), IndirectObject(128, 0), IndirectObject(130, 0), IndirectObject(131, 0), IndirectObject(136, 0), IndirectObject(133, 0), IndirectObject(684, 0)], '/T': 'fax'}, '/T': 'Number_of_ Shares_2', '/TU': 'Section 3 - Number of Shares/Contracts (or for standing instructions, list not to exceed quantity) - Security 2', '/Ff': 12582912, '/AA': {'/F': IndirectObject(151, 0), '/K': IndirectObject(140, 0)}}, 'Security_Description_2': {'/FT': '/Tx', '/Parent': {'/Kids': [IndirectObject(669, 0), IndirectObject(708, 0), IndirectObject(746, 0), IndirectObject(716, 0), IndirectObject(159, 0), IndirectObject(157, 0), IndirectObject(135, 0), IndirectObject(146, 0), IndirectObject(667, 0), IndirectObject(671, 0), IndirectObject(691, 0), IndirectObject(697, 0), IndirectObject(693, 0), IndirectObject(715, 0), IndirectObject(706, 0), IndirectObject(714, 0), IndirectObject(717, 0), IndirectObject(718, 0), IndirectObject(724, 0), IndirectObject(725, 0), IndirectObject(726, 0), IndirectObject(729, 0), IndirectObject(730, 0), IndirectObject(695, 0), IndirectObject(83, 0), IndirectObject(699, 0), IndirectObject(120, 0), IndirectObject(152, 0), IndirectObject(156, 0), IndirectObject(148, 0), IndirectObject(727, 0), IndirectObject(728, 0), IndirectObject(82, 0), IndirectObject(665, 0), IndirectObject(674, 0), IndirectObject(701, 0), IndirectObject(709, 0), IndirectObject(719, 0), IndirectObject(735, 0), IndirectObject(736, 0), IndirectObject(741, 0), IndirectObject(679, 0), IndirectObject(686, 0), IndirectObject(92, 0), IndirectObject(85, 0), IndirectObject(87, 0), IndirectObject(89, 0), IndirectObject(672, 0), IndirectObject(118, 0), IndirectObject(119, 0), IndirectObject(104, 0), IndirectObject(109, 0), IndirectObject(113, 0), IndirectObject(114, 0), IndirectObject(105, 0), IndirectObject(115, 0), IndirectObject(117, 0), IndirectObject(111, 0), IndirectObject(106, 0), IndirectObject(107, 0), IndirectObject(108, 0), IndirectObject(110, 0), IndirectObject(124, 0), IndirectObject(129, 0), IndirectObject(121, 0), IndirectObject(127, 0), IndirectObject(122, 0), IndirectObject(134, 0), IndirectObject(132, 0), IndirectObject(126, 0), IndirectObject(123, 0), IndirectObject(128, 0), IndirectObject(130, 0), IndirectObject(131, 0), IndirectObject(136, 0), IndirectObject(133, 0), IndirectObject(684, 0)], '/T': 'fax'}, '/T': 'Security_Description_2', '/TU': 'Section 3: Security Description - Security 2', '/Ff': 8388608, '/AA': {'/F': IndirectObject(137, 0)}}, 'Symbol_or_Cusip_Number_2': {'/FT': '/Tx', '/Parent': {'/Kids': [IndirectObject(669, 0), IndirectObject(708, 0), IndirectObject(746, 0), IndirectObject(716, 0), IndirectObject(159, 0), IndirectObject(157, 0), IndirectObject(135, 0), IndirectObject(146, 0), IndirectObject(667, 0), IndirectObject(671, 0), IndirectObject(691, 0), IndirectObject(697, 0), IndirectObject(693, 0), IndirectObject(715, 0), IndirectObject(706, 0), IndirectObject(714, 0), IndirectObject(717, 0), IndirectObject(718, 0), IndirectObject(724, 0), IndirectObject(725, 0), IndirectObject(726, 0), IndirectObject(729, 0), IndirectObject(730, 0), IndirectObject(695, 0), IndirectObject(83, 0), IndirectObject(699, 0), IndirectObject(120, 0), IndirectObject(152, 0), IndirectObject(156, 0), IndirectObject(148, 0), IndirectObject(727, 0), IndirectObject(728, 0), IndirectObject(82, 0), IndirectObject(665, 0), IndirectObject(674, 0), IndirectObject(701, 0), IndirectObject(709, 0), IndirectObject(719, 0), IndirectObject(735, 0), IndirectObject(736, 0), IndirectObject(741, 0), IndirectObject(679, 0), IndirectObject(686, 0), IndirectObject(92, 0), IndirectObject(85, 0), IndirectObject(87, 0), IndirectObject(89, 0), IndirectObject(672, 0), IndirectObject(118, 0), IndirectObject(119, 0), IndirectObject(104, 0), IndirectObject(109, 0), IndirectObject(113, 0), IndirectObject(114, 0), IndirectObject(105, 0), IndirectObject(115, 0), IndirectObject(117, 0), IndirectObject(111, 0), IndirectObject(106, 0), IndirectObject(107, 0), IndirectObject(108, 0), IndirectObject(110, 0), IndirectObject(124, 0), IndirectObject(129, 0), IndirectObject(121, 0), IndirectObject(127, 0), IndirectObject(122, 0), IndirectObject(134, 0), IndirectObject(132, 0), IndirectObject(126, 0), IndirectObject(123, 0), IndirectObject(128, 0), IndirectObject(130, 0), IndirectObject(131, 0), IndirectObject(136, 0), IndirectObject(133, 0), IndirectObject(684, 0)], '/T': 'fax'}, '/T': 'Symbol_or_Cusip_Number_2', '/TU': 'Section 3: Symbol or CUSIP Number - Security 2', '/Ff': 8388608, '/AA': {'/F': IndirectObject(141, 0)}}, 'Max_Number_of_ Shares_2': {'/FT': '/Tx', '/Parent': {'/Kids': [IndirectObject(669, 0), IndirectObject(708, 0), IndirectObject(746, 0), IndirectObject(716, 0), IndirectObject(159, 0), IndirectObject(157, 0), IndirectObject(135, 0), IndirectObject(146, 0), IndirectObject(667, 0), IndirectObject(671, 0), IndirectObject(691, 0), IndirectObject(697, 0), IndirectObject(693, 0), IndirectObject(715, 0), IndirectObject(706, 0), IndirectObject(714, 0), IndirectObject(717, 0), IndirectObject(718, 0), IndirectObject(724, 0), IndirectObject(725, 0), IndirectObject(726, 0), IndirectObject(729, 0), IndirectObject(730, 0), IndirectObject(695, 0), IndirectObject(83, 0), IndirectObject(699, 0), IndirectObject(120, 0), IndirectObject(152, 0), IndirectObject(156, 0), IndirectObject(148, 0), IndirectObject(727, 0), IndirectObject(728, 0), IndirectObject(82, 0), IndirectObject(665, 0), IndirectObject(674, 0), IndirectObject(701, 0), IndirectObject(709, 0), IndirectObject(719, 0), IndirectObject(735, 0), IndirectObject(736, 0), IndirectObject(741, 0), IndirectObject(679, 0), IndirectObject(686, 0), IndirectObject(92, 0), IndirectObject(85, 0), IndirectObject(87, 0), IndirectObject(89, 0), IndirectObject(672, 0), IndirectObject(118, 0), IndirectObject(119, 0), IndirectObject(104, 0), IndirectObject(109, 0), IndirectObject(113, 0), IndirectObject(114, 0), IndirectObject(105, 0), IndirectObject(115, 0), IndirectObject(117, 0), IndirectObject(111, 0), IndirectObject(106, 0), IndirectObject(107, 0), IndirectObject(108, 0), IndirectObject(110, 0), IndirectObject(124, 0), IndirectObject(129, 0), IndirectObject(121, 0), IndirectObject(127, 0), IndirectObject(122, 0), IndirectObject(134, 0), IndirectObject(132, 0), IndirectObject(126, 0), IndirectObject(123, 0), IndirectObject(128, 0), IndirectObject(130, 0), IndirectObject(131, 0), IndirectObject(136, 0), IndirectObject(133, 0), IndirectObject(684, 0)], '/T': 'fax'}, '/T': 'Max_Number_of_ Shares_2', '/TU': \"Section 3 - For standing instructions, provide maximum market value based on prior business day's closing value – Security 2\", '/Ff': 12582912, '/AA': {'/F': IndirectObject(142, 0), '/K': IndirectObject(164, 0)}}, 'Number_of_ Shares_3': {'/FT': '/Tx', '/Parent': {'/Kids': [IndirectObject(669, 0), IndirectObject(708, 0), IndirectObject(746, 0), IndirectObject(716, 0), IndirectObject(159, 0), IndirectObject(157, 0), IndirectObject(135, 0), IndirectObject(146, 0), IndirectObject(667, 0), IndirectObject(671, 0), IndirectObject(691, 0), IndirectObject(697, 0), IndirectObject(693, 0), IndirectObject(715, 0), IndirectObject(706, 0), IndirectObject(714, 0), IndirectObject(717, 0), IndirectObject(718, 0), IndirectObject(724, 0), IndirectObject(725, 0), IndirectObject(726, 0), IndirectObject(729, 0), IndirectObject(730, 0), IndirectObject(695, 0), IndirectObject(83, 0), IndirectObject(699, 0), IndirectObject(120, 0), IndirectObject(152, 0), IndirectObject(156, 0), IndirectObject(148, 0), IndirectObject(727, 0), IndirectObject(728, 0), IndirectObject(82, 0), IndirectObject(665, 0), IndirectObject(674, 0), IndirectObject(701, 0), IndirectObject(709, 0), IndirectObject(719, 0), IndirectObject(735, 0), IndirectObject(736, 0), IndirectObject(741, 0), IndirectObject(679, 0), IndirectObject(686, 0), IndirectObject(92, 0), IndirectObject(85, 0), IndirectObject(87, 0), IndirectObject(89, 0), IndirectObject(672, 0), IndirectObject(118, 0), IndirectObject(119, 0), IndirectObject(104, 0), IndirectObject(109, 0), IndirectObject(113, 0), IndirectObject(114, 0), IndirectObject(105, 0), IndirectObject(115, 0), IndirectObject(117, 0), IndirectObject(111, 0), IndirectObject(106, 0), IndirectObject(107, 0), IndirectObject(108, 0), IndirectObject(110, 0), IndirectObject(124, 0), IndirectObject(129, 0), IndirectObject(121, 0), IndirectObject(127, 0), IndirectObject(122, 0), IndirectObject(134, 0), IndirectObject(132, 0), IndirectObject(126, 0), IndirectObject(123, 0), IndirectObject(128, 0), IndirectObject(130, 0), IndirectObject(131, 0), IndirectObject(136, 0), IndirectObject(133, 0), IndirectObject(684, 0)], '/T': 'fax'}, '/T': 'Number_of_ Shares_3', '/TU': 'Section 3 - Number of Shares/Contracts (or for standing instructions, list not to exceed quantity) - Security 3', '/Ff': 12582912, '/AA': {'/F': IndirectObject(170, 0), '/K': IndirectObject(171, 0)}}, 'Security_Description_3': {'/FT': '/Tx', '/Parent': {'/Kids': [IndirectObject(669, 0), IndirectObject(708, 0), IndirectObject(746, 0), IndirectObject(716, 0), IndirectObject(159, 0), IndirectObject(157, 0), IndirectObject(135, 0), IndirectObject(146, 0), IndirectObject(667, 0), IndirectObject(671, 0), IndirectObject(691, 0), IndirectObject(697, 0), IndirectObject(693, 0), IndirectObject(715, 0), IndirectObject(706, 0), IndirectObject(714, 0), IndirectObject(717, 0), IndirectObject(718, 0), IndirectObject(724, 0), IndirectObject(725, 0), IndirectObject(726, 0), IndirectObject(729, 0), IndirectObject(730, 0), IndirectObject(695, 0), IndirectObject(83, 0), IndirectObject(699, 0), IndirectObject(120, 0), IndirectObject(152, 0), IndirectObject(156, 0), IndirectObject(148, 0), IndirectObject(727, 0), IndirectObject(728, 0), IndirectObject(82, 0), IndirectObject(665, 0), IndirectObject(674, 0), IndirectObject(701, 0), IndirectObject(709, 0), IndirectObject(719, 0), IndirectObject(735, 0), IndirectObject(736, 0), IndirectObject(741, 0), IndirectObject(679, 0), IndirectObject(686, 0), IndirectObject(92, 0), IndirectObject(85, 0), IndirectObject(87, 0), IndirectObject(89, 0), IndirectObject(672, 0), IndirectObject(118, 0), IndirectObject(119, 0), IndirectObject(104, 0), IndirectObject(109, 0), IndirectObject(113, 0), IndirectObject(114, 0), IndirectObject(105, 0), IndirectObject(115, 0), IndirectObject(117, 0), IndirectObject(111, 0), IndirectObject(106, 0), IndirectObject(107, 0), IndirectObject(108, 0), IndirectObject(110, 0), IndirectObject(124, 0), IndirectObject(129, 0), IndirectObject(121, 0), IndirectObject(127, 0), IndirectObject(122, 0), IndirectObject(134, 0), IndirectObject(132, 0), IndirectObject(126, 0), IndirectObject(123, 0), IndirectObject(128, 0), IndirectObject(130, 0), IndirectObject(131, 0), IndirectObject(136, 0), IndirectObject(133, 0), IndirectObject(684, 0)], '/T': 'fax'}, '/T': 'Security_Description_3', '/TU': 'Section 3: Security Description - Security 3', '/Ff': 8388608, '/AA': {'/F': IndirectObject(180, 0)}}, 'Symbol_or_Cusip_Number_3': {'/FT': '/Tx', '/Parent': {'/Kids': [IndirectObject(669, 0), IndirectObject(708, 0), IndirectObject(746, 0), IndirectObject(716, 0), IndirectObject(159, 0), IndirectObject(157, 0), IndirectObject(135, 0), IndirectObject(146, 0), IndirectObject(667, 0), IndirectObject(671, 0), IndirectObject(691, 0), IndirectObject(697, 0), IndirectObject(693, 0), IndirectObject(715, 0), IndirectObject(706, 0), IndirectObject(714, 0), IndirectObject(717, 0), IndirectObject(718, 0), IndirectObject(724, 0), IndirectObject(725, 0), IndirectObject(726, 0), IndirectObject(729, 0), IndirectObject(730, 0), IndirectObject(695, 0), IndirectObject(83, 0), IndirectObject(699, 0), IndirectObject(120, 0), IndirectObject(152, 0), IndirectObject(156, 0), IndirectObject(148, 0), IndirectObject(727, 0), IndirectObject(728, 0), IndirectObject(82, 0), IndirectObject(665, 0), IndirectObject(674, 0), IndirectObject(701, 0), IndirectObject(709, 0), IndirectObject(719, 0), IndirectObject(735, 0), IndirectObject(736, 0), IndirectObject(741, 0), IndirectObject(679, 0), IndirectObject(686, 0), IndirectObject(92, 0), IndirectObject(85, 0), IndirectObject(87, 0), IndirectObject(89, 0), IndirectObject(672, 0), IndirectObject(118, 0), IndirectObject(119, 0), IndirectObject(104, 0), IndirectObject(109, 0), IndirectObject(113, 0), IndirectObject(114, 0), IndirectObject(105, 0), IndirectObject(115, 0), IndirectObject(117, 0), IndirectObject(111, 0), IndirectObject(106, 0), IndirectObject(107, 0), IndirectObject(108, 0), IndirectObject(110, 0), IndirectObject(124, 0), IndirectObject(129, 0), IndirectObject(121, 0), IndirectObject(127, 0), IndirectObject(122, 0), IndirectObject(134, 0), IndirectObject(132, 0), IndirectObject(126, 0), IndirectObject(123, 0), IndirectObject(128, 0), IndirectObject(130, 0), IndirectObject(131, 0), IndirectObject(136, 0), IndirectObject(133, 0), IndirectObject(684, 0)], '/T': 'fax'}, '/T': 'Symbol_or_Cusip_Number_3', '/TU': 'Section 3: Symbol or CUSIP Number - Security 3', '/Ff': 8388608, '/AA': {'/F': IndirectObject(165, 0)}}, 'Max_Number_of_ Shares_3': {'/FT': '/Tx', '/Parent': {'/Kids': [IndirectObject(669, 0), IndirectObject(708, 0), IndirectObject(746, 0), IndirectObject(716, 0), IndirectObject(159, 0), IndirectObject(157, 0), IndirectObject(135, 0), IndirectObject(146, 0), IndirectObject(667, 0), IndirectObject(671, 0), IndirectObject(691, 0), IndirectObject(697, 0), IndirectObject(693, 0), IndirectObject(715, 0), IndirectObject(706, 0), IndirectObject(714, 0), IndirectObject(717, 0), IndirectObject(718, 0), IndirectObject(724, 0), IndirectObject(725, 0), IndirectObject(726, 0), IndirectObject(729, 0), IndirectObject(730, 0), IndirectObject(695, 0), IndirectObject(83, 0), IndirectObject(699, 0), IndirectObject(120, 0), IndirectObject(152, 0), IndirectObject(156, 0), IndirectObject(148, 0), IndirectObject(727, 0), IndirectObject(728, 0), IndirectObject(82, 0), IndirectObject(665, 0), IndirectObject(674, 0), IndirectObject(701, 0), IndirectObject(709, 0), IndirectObject(719, 0), IndirectObject(735, 0), IndirectObject(736, 0), IndirectObject(741, 0), IndirectObject(679, 0), IndirectObject(686, 0), IndirectObject(92, 0), IndirectObject(85, 0), IndirectObject(87, 0), IndirectObject(89, 0), IndirectObject(672, 0), IndirectObject(118, 0), IndirectObject(119, 0), IndirectObject(104, 0), IndirectObject(109, 0), IndirectObject(113, 0), IndirectObject(114, 0), IndirectObject(105, 0), IndirectObject(115, 0), IndirectObject(117, 0), IndirectObject(111, 0), IndirectObject(106, 0), IndirectObject(107, 0), IndirectObject(108, 0), IndirectObject(110, 0), IndirectObject(124, 0), IndirectObject(129, 0), IndirectObject(121, 0), IndirectObject(127, 0), IndirectObject(122, 0), IndirectObject(134, 0), IndirectObject(132, 0), IndirectObject(126, 0), IndirectObject(123, 0), IndirectObject(128, 0), IndirectObject(130, 0), IndirectObject(131, 0), IndirectObject(136, 0), IndirectObject(133, 0), IndirectObject(684, 0)], '/T': 'fax'}, '/T': 'Max_Number_of_ Shares_3', '/TU': \"Section 3 - For standing instructions, provide maximum market value based on prior business day's closing value – Security 3\", '/Ff': 12582912, '/AA': {'/F': IndirectObject(176, 0), '/K': IndirectObject(167, 0)}}, 'Number_of_ Shares_4': {'/FT': '/Tx', '/Parent': {'/Kids': [IndirectObject(669, 0), IndirectObject(708, 0), IndirectObject(746, 0), IndirectObject(716, 0), IndirectObject(159, 0), IndirectObject(157, 0), IndirectObject(135, 0), IndirectObject(146, 0), IndirectObject(667, 0), IndirectObject(671, 0), IndirectObject(691, 0), IndirectObject(697, 0), IndirectObject(693, 0), IndirectObject(715, 0), IndirectObject(706, 0), IndirectObject(714, 0), IndirectObject(717, 0), IndirectObject(718, 0), IndirectObject(724, 0), IndirectObject(725, 0), IndirectObject(726, 0), IndirectObject(729, 0), IndirectObject(730, 0), IndirectObject(695, 0), IndirectObject(83, 0), IndirectObject(699, 0), IndirectObject(120, 0), IndirectObject(152, 0), IndirectObject(156, 0), IndirectObject(148, 0), IndirectObject(727, 0), IndirectObject(728, 0), IndirectObject(82, 0), IndirectObject(665, 0), IndirectObject(674, 0), IndirectObject(701, 0), IndirectObject(709, 0), IndirectObject(719, 0), IndirectObject(735, 0), IndirectObject(736, 0), IndirectObject(741, 0), IndirectObject(679, 0), IndirectObject(686, 0), IndirectObject(92, 0), IndirectObject(85, 0), IndirectObject(87, 0), IndirectObject(89, 0), IndirectObject(672, 0), IndirectObject(118, 0), IndirectObject(119, 0), IndirectObject(104, 0), IndirectObject(109, 0), IndirectObject(113, 0), IndirectObject(114, 0), IndirectObject(105, 0), IndirectObject(115, 0), IndirectObject(117, 0), IndirectObject(111, 0), IndirectObject(106, 0), IndirectObject(107, 0), IndirectObject(108, 0), IndirectObject(110, 0), IndirectObject(124, 0), IndirectObject(129, 0), IndirectObject(121, 0), IndirectObject(127, 0), IndirectObject(122, 0), IndirectObject(134, 0), IndirectObject(132, 0), IndirectObject(126, 0), IndirectObject(123, 0), IndirectObject(128, 0), IndirectObject(130, 0), IndirectObject(131, 0), IndirectObject(136, 0), IndirectObject(133, 0), IndirectObject(684, 0)], '/T': 'fax'}, '/T': 'Number_of_ Shares_4', '/TU': 'Section 3 - Number of Shares/Contracts (or for standing instructions, list not to exceed quantity) - Security 4', '/Ff': 12582912, '/AA': {'/F': IndirectObject(174, 0), '/K': IndirectObject(189, 0)}}, 'Security_Description_4': {'/FT': '/Tx', '/Parent': {'/Kids': [IndirectObject(669, 0), IndirectObject(708, 0), IndirectObject(746, 0), IndirectObject(716, 0), IndirectObject(159, 0), IndirectObject(157, 0), IndirectObject(135, 0), IndirectObject(146, 0), IndirectObject(667, 0), IndirectObject(671, 0), IndirectObject(691, 0), IndirectObject(697, 0), IndirectObject(693, 0), IndirectObject(715, 0), IndirectObject(706, 0), IndirectObject(714, 0), IndirectObject(717, 0), IndirectObject(718, 0), IndirectObject(724, 0), IndirectObject(725, 0), IndirectObject(726, 0), IndirectObject(729, 0), IndirectObject(730, 0), IndirectObject(695, 0), IndirectObject(83, 0), IndirectObject(699, 0), IndirectObject(120, 0), IndirectObject(152, 0), IndirectObject(156, 0), IndirectObject(148, 0), IndirectObject(727, 0), IndirectObject(728, 0), IndirectObject(82, 0), IndirectObject(665, 0), IndirectObject(674, 0), IndirectObject(701, 0), IndirectObject(709, 0), IndirectObject(719, 0), IndirectObject(735, 0), IndirectObject(736, 0), IndirectObject(741, 0), IndirectObject(679, 0), IndirectObject(686, 0), IndirectObject(92, 0), IndirectObject(85, 0), IndirectObject(87, 0), IndirectObject(89, 0), IndirectObject(672, 0), IndirectObject(118, 0), IndirectObject(119, 0), IndirectObject(104, 0), IndirectObject(109, 0), IndirectObject(113, 0), IndirectObject(114, 0), IndirectObject(105, 0), IndirectObject(115, 0), IndirectObject(117, 0), IndirectObject(111, 0), IndirectObject(106, 0), IndirectObject(107, 0), IndirectObject(108, 0), IndirectObject(110, 0), IndirectObject(124, 0), IndirectObject(129, 0), IndirectObject(121, 0), IndirectObject(127, 0), IndirectObject(122, 0), IndirectObject(134, 0), IndirectObject(132, 0), IndirectObject(126, 0), IndirectObject(123, 0), IndirectObject(128, 0), IndirectObject(130, 0), IndirectObject(131, 0), IndirectObject(136, 0), IndirectObject(133, 0), IndirectObject(684, 0)], '/T': 'fax'}, '/T': 'Security_Description_4', '/TU': 'Section 3: Security Description - Security 4', '/Ff': 8388608, '/AA': {'/F': IndirectObject(169, 0)}}, 'Symbol_or_Cusip_Number_4': {'/FT': '/Tx', '/Parent': {'/Kids': [IndirectObject(669, 0), IndirectObject(708, 0), IndirectObject(746, 0), IndirectObject(716, 0), IndirectObject(159, 0), IndirectObject(157, 0), IndirectObject(135, 0), IndirectObject(146, 0), IndirectObject(667, 0), IndirectObject(671, 0), IndirectObject(691, 0), IndirectObject(697, 0), IndirectObject(693, 0), IndirectObject(715, 0), IndirectObject(706, 0), IndirectObject(714, 0), IndirectObject(717, 0), IndirectObject(718, 0), IndirectObject(724, 0), IndirectObject(725, 0), IndirectObject(726, 0), IndirectObject(729, 0), IndirectObject(730, 0), IndirectObject(695, 0), IndirectObject(83, 0), IndirectObject(699, 0), IndirectObject(120, 0), IndirectObject(152, 0), IndirectObject(156, 0), IndirectObject(148, 0), IndirectObject(727, 0), IndirectObject(728, 0), IndirectObject(82, 0), IndirectObject(665, 0), IndirectObject(674, 0), IndirectObject(701, 0), IndirectObject(709, 0), IndirectObject(719, 0), IndirectObject(735, 0), IndirectObject(736, 0), IndirectObject(741, 0), IndirectObject(679, 0), IndirectObject(686, 0), IndirectObject(92, 0), IndirectObject(85, 0), IndirectObject(87, 0), IndirectObject(89, 0), IndirectObject(672, 0), IndirectObject(118, 0), IndirectObject(119, 0), IndirectObject(104, 0), IndirectObject(109, 0), IndirectObject(113, 0), IndirectObject(114, 0), IndirectObject(105, 0), IndirectObject(115, 0), IndirectObject(117, 0), IndirectObject(111, 0), IndirectObject(106, 0), IndirectObject(107, 0), IndirectObject(108, 0), IndirectObject(110, 0), IndirectObject(124, 0), IndirectObject(129, 0), IndirectObject(121, 0), IndirectObject(127, 0), IndirectObject(122, 0), IndirectObject(134, 0), IndirectObject(132, 0), IndirectObject(126, 0), IndirectObject(123, 0), IndirectObject(128, 0), IndirectObject(130, 0), IndirectObject(131, 0), IndirectObject(136, 0), IndirectObject(133, 0), IndirectObject(684, 0)], '/T': 'fax'}, '/T': 'Symbol_or_Cusip_Number_4', '/TU': 'Section 3: Symbol or CUSIP Number - Security 4', '/Ff': 8388608, '/AA': {'/F': IndirectObject(188, 0)}}, 'Max_Number_of_ Shares_4': {'/FT': '/Tx', '/Parent': {'/Kids': [IndirectObject(669, 0), IndirectObject(708, 0), IndirectObject(746, 0), IndirectObject(716, 0), IndirectObject(159, 0), IndirectObject(157, 0), IndirectObject(135, 0), IndirectObject(146, 0), IndirectObject(667, 0), IndirectObject(671, 0), IndirectObject(691, 0), IndirectObject(697, 0), IndirectObject(693, 0), IndirectObject(715, 0), IndirectObject(706, 0), IndirectObject(714, 0), IndirectObject(717, 0), IndirectObject(718, 0), IndirectObject(724, 0), IndirectObject(725, 0), IndirectObject(726, 0), IndirectObject(729, 0), IndirectObject(730, 0), IndirectObject(695, 0), IndirectObject(83, 0), IndirectObject(699, 0), IndirectObject(120, 0), IndirectObject(152, 0), IndirectObject(156, 0), IndirectObject(148, 0), IndirectObject(727, 0), IndirectObject(728, 0), IndirectObject(82, 0), IndirectObject(665, 0), IndirectObject(674, 0), IndirectObject(701, 0), IndirectObject(709, 0), IndirectObject(719, 0), IndirectObject(735, 0), IndirectObject(736, 0), IndirectObject(741, 0), IndirectObject(679, 0), IndirectObject(686, 0), IndirectObject(92, 0), IndirectObject(85, 0), IndirectObject(87, 0), IndirectObject(89, 0), IndirectObject(672, 0), IndirectObject(118, 0), IndirectObject(119, 0), IndirectObject(104, 0), IndirectObject(109, 0), IndirectObject(113, 0), IndirectObject(114, 0), IndirectObject(105, 0), IndirectObject(115, 0), IndirectObject(117, 0), IndirectObject(111, 0), IndirectObject(106, 0), IndirectObject(107, 0), IndirectObject(108, 0), IndirectObject(110, 0), IndirectObject(124, 0), IndirectObject(129, 0), IndirectObject(121, 0), IndirectObject(127, 0), IndirectObject(122, 0), IndirectObject(134, 0), IndirectObject(132, 0), IndirectObject(126, 0), IndirectObject(123, 0), IndirectObject(128, 0), IndirectObject(130, 0), IndirectObject(131, 0), IndirectObject(136, 0), IndirectObject(133, 0), IndirectObject(684, 0)], '/T': 'fax'}, '/T': 'Max_Number_of_ Shares_4', '/TU': \"Section 3 - For standing instructions, provide maximum market value based on prior business day's closing value – Security 4\", '/Ff': 12582912, '/AA': {'/F': IndirectObject(175, 0), '/K': IndirectObject(172, 0)}}, 'Number_of_ Shares_5': {'/FT': '/Tx', '/Parent': {'/Kids': [IndirectObject(669, 0), IndirectObject(708, 0), IndirectObject(746, 0), IndirectObject(716, 0), IndirectObject(159, 0), IndirectObject(157, 0), IndirectObject(135, 0), IndirectObject(146, 0), IndirectObject(667, 0), IndirectObject(671, 0), IndirectObject(691, 0), IndirectObject(697, 0), IndirectObject(693, 0), IndirectObject(715, 0), IndirectObject(706, 0), IndirectObject(714, 0), IndirectObject(717, 0), IndirectObject(718, 0), IndirectObject(724, 0), IndirectObject(725, 0), IndirectObject(726, 0), IndirectObject(729, 0), IndirectObject(730, 0), IndirectObject(695, 0), IndirectObject(83, 0), IndirectObject(699, 0), IndirectObject(120, 0), IndirectObject(152, 0), IndirectObject(156, 0), IndirectObject(148, 0), IndirectObject(727, 0), IndirectObject(728, 0), IndirectObject(82, 0), IndirectObject(665, 0), IndirectObject(674, 0), IndirectObject(701, 0), IndirectObject(709, 0), IndirectObject(719, 0), IndirectObject(735, 0), IndirectObject(736, 0), IndirectObject(741, 0), IndirectObject(679, 0), IndirectObject(686, 0), IndirectObject(92, 0), IndirectObject(85, 0), IndirectObject(87, 0), IndirectObject(89, 0), IndirectObject(672, 0), IndirectObject(118, 0), IndirectObject(119, 0), IndirectObject(104, 0), IndirectObject(109, 0), IndirectObject(113, 0), IndirectObject(114, 0), IndirectObject(105, 0), IndirectObject(115, 0), IndirectObject(117, 0), IndirectObject(111, 0), IndirectObject(106, 0), IndirectObject(107, 0), IndirectObject(108, 0), IndirectObject(110, 0), IndirectObject(124, 0), IndirectObject(129, 0), IndirectObject(121, 0), IndirectObject(127, 0), IndirectObject(122, 0), IndirectObject(134, 0), IndirectObject(132, 0), IndirectObject(126, 0), IndirectObject(123, 0), IndirectObject(128, 0), IndirectObject(130, 0), IndirectObject(131, 0), IndirectObject(136, 0), IndirectObject(133, 0), IndirectObject(684, 0)], '/T': 'fax'}, '/T': 'Number_of_ Shares_5', '/TU': 'Section 3 - Number of Shares/Contracts (or for standing instructions, list not to exceed quantity) - Security 5', '/Ff': 12582912, '/AA': {'/F': IndirectObject(173, 0), '/K': IndirectObject(190, 0)}}, 'Security_Description_5': {'/FT': '/Tx', '/Parent': {'/Kids': [IndirectObject(669, 0), IndirectObject(708, 0), IndirectObject(746, 0), IndirectObject(716, 0), IndirectObject(159, 0), IndirectObject(157, 0), IndirectObject(135, 0), IndirectObject(146, 0), IndirectObject(667, 0), IndirectObject(671, 0), IndirectObject(691, 0), IndirectObject(697, 0), IndirectObject(693, 0), IndirectObject(715, 0), IndirectObject(706, 0), IndirectObject(714, 0), IndirectObject(717, 0), IndirectObject(718, 0), IndirectObject(724, 0), IndirectObject(725, 0), IndirectObject(726, 0), IndirectObject(729, 0), IndirectObject(730, 0), IndirectObject(695, 0), IndirectObject(83, 0), IndirectObject(699, 0), IndirectObject(120, 0), IndirectObject(152, 0), IndirectObject(156, 0), IndirectObject(148, 0), IndirectObject(727, 0), IndirectObject(728, 0), IndirectObject(82, 0), IndirectObject(665, 0), IndirectObject(674, 0), IndirectObject(701, 0), IndirectObject(709, 0), IndirectObject(719, 0), IndirectObject(735, 0), IndirectObject(736, 0), IndirectObject(741, 0), IndirectObject(679, 0), IndirectObject(686, 0), IndirectObject(92, 0), IndirectObject(85, 0), IndirectObject(87, 0), IndirectObject(89, 0), IndirectObject(672, 0), IndirectObject(118, 0), IndirectObject(119, 0), IndirectObject(104, 0), IndirectObject(109, 0), IndirectObject(113, 0), IndirectObject(114, 0), IndirectObject(105, 0), IndirectObject(115, 0), IndirectObject(117, 0), IndirectObject(111, 0), IndirectObject(106, 0), IndirectObject(107, 0), IndirectObject(108, 0), IndirectObject(110, 0), IndirectObject(124, 0), IndirectObject(129, 0), IndirectObject(121, 0), IndirectObject(127, 0), IndirectObject(122, 0), IndirectObject(134, 0), IndirectObject(132, 0), IndirectObject(126, 0), IndirectObject(123, 0), IndirectObject(128, 0), IndirectObject(130, 0), IndirectObject(131, 0), IndirectObject(136, 0), IndirectObject(133, 0), IndirectObject(684, 0)], '/T': 'fax'}, '/T': 'Security_Description_5', '/TU': 'Section 3: Security Description - Security 5', '/Ff': 8388608, '/AA': {'/F': IndirectObject(177, 0)}}, 'Symbol_or_Cusip_Number_5': {'/FT': '/Tx', '/Parent': {'/Kids': [IndirectObject(669, 0), IndirectObject(708, 0), IndirectObject(746, 0), IndirectObject(716, 0), IndirectObject(159, 0), IndirectObject(157, 0), IndirectObject(135, 0), IndirectObject(146, 0), IndirectObject(667, 0), IndirectObject(671, 0), IndirectObject(691, 0), IndirectObject(697, 0), IndirectObject(693, 0), IndirectObject(715, 0), IndirectObject(706, 0), IndirectObject(714, 0), IndirectObject(717, 0), IndirectObject(718, 0), IndirectObject(724, 0), IndirectObject(725, 0), IndirectObject(726, 0), IndirectObject(729, 0), IndirectObject(730, 0), IndirectObject(695, 0), IndirectObject(83, 0), IndirectObject(699, 0), IndirectObject(120, 0), IndirectObject(152, 0), IndirectObject(156, 0), IndirectObject(148, 0), IndirectObject(727, 0), IndirectObject(728, 0), IndirectObject(82, 0), IndirectObject(665, 0), IndirectObject(674, 0), IndirectObject(701, 0), IndirectObject(709, 0), IndirectObject(719, 0), IndirectObject(735, 0), IndirectObject(736, 0), IndirectObject(741, 0), IndirectObject(679, 0), IndirectObject(686, 0), IndirectObject(92, 0), IndirectObject(85, 0), IndirectObject(87, 0), IndirectObject(89, 0), IndirectObject(672, 0), IndirectObject(118, 0), IndirectObject(119, 0), IndirectObject(104, 0), IndirectObject(109, 0), IndirectObject(113, 0), IndirectObject(114, 0), IndirectObject(105, 0), IndirectObject(115, 0), IndirectObject(117, 0), IndirectObject(111, 0), IndirectObject(106, 0), IndirectObject(107, 0), IndirectObject(108, 0), IndirectObject(110, 0), IndirectObject(124, 0), IndirectObject(129, 0), IndirectObject(121, 0), IndirectObject(127, 0), IndirectObject(122, 0), IndirectObject(134, 0), IndirectObject(132, 0), IndirectObject(126, 0), IndirectObject(123, 0), IndirectObject(128, 0), IndirectObject(130, 0), IndirectObject(131, 0), IndirectObject(136, 0), IndirectObject(133, 0), IndirectObject(684, 0)], '/T': 'fax'}, '/T': 'Symbol_or_Cusip_Number_5', '/TU': 'Section 3: Symbol or CUSIP Number - Security 5', '/Ff': 8388608, '/AA': {'/F': IndirectObject(178, 0)}}, 'Max_Number_of_ Shares_5': {'/FT': '/Tx', '/Parent': {'/Kids': [IndirectObject(669, 0), IndirectObject(708, 0), IndirectObject(746, 0), IndirectObject(716, 0), IndirectObject(159, 0), IndirectObject(157, 0), IndirectObject(135, 0), IndirectObject(146, 0), IndirectObject(667, 0), IndirectObject(671, 0), IndirectObject(691, 0), IndirectObject(697, 0), IndirectObject(693, 0), IndirectObject(715, 0), IndirectObject(706, 0), IndirectObject(714, 0), IndirectObject(717, 0), IndirectObject(718, 0), IndirectObject(724, 0), IndirectObject(725, 0), IndirectObject(726, 0), IndirectObject(729, 0), IndirectObject(730, 0), IndirectObject(695, 0), IndirectObject(83, 0), IndirectObject(699, 0), IndirectObject(120, 0), IndirectObject(152, 0), IndirectObject(156, 0), IndirectObject(148, 0), IndirectObject(727, 0), IndirectObject(728, 0), IndirectObject(82, 0), IndirectObject(665, 0), IndirectObject(674, 0), IndirectObject(701, 0), IndirectObject(709, 0), IndirectObject(719, 0), IndirectObject(735, 0), IndirectObject(736, 0), IndirectObject(741, 0), IndirectObject(679, 0), IndirectObject(686, 0), IndirectObject(92, 0), IndirectObject(85, 0), IndirectObject(87, 0), IndirectObject(89, 0), IndirectObject(672, 0), IndirectObject(118, 0), IndirectObject(119, 0), IndirectObject(104, 0), IndirectObject(109, 0), IndirectObject(113, 0), IndirectObject(114, 0), IndirectObject(105, 0), IndirectObject(115, 0), IndirectObject(117, 0), IndirectObject(111, 0), IndirectObject(106, 0), IndirectObject(107, 0), IndirectObject(108, 0), IndirectObject(110, 0), IndirectObject(124, 0), IndirectObject(129, 0), IndirectObject(121, 0), IndirectObject(127, 0), IndirectObject(122, 0), IndirectObject(134, 0), IndirectObject(132, 0), IndirectObject(126, 0), IndirectObject(123, 0), IndirectObject(128, 0), IndirectObject(130, 0), IndirectObject(131, 0), IndirectObject(136, 0), IndirectObject(133, 0), IndirectObject(684, 0)], '/T': 'fax'}, '/T': 'Max_Number_of_ Shares_5', '/TU': \"Section 3 - For standing instructions, provide maximum market value based on prior business day's closing value – Security 5\", '/Ff': 12582912, '/AA': {'/F': IndirectObject(186, 0), '/K': IndirectObject(181, 0)}}, 'Number_of_ Shares_6': {'/FT': '/Tx', '/Parent': {'/Kids': [IndirectObject(669, 0), IndirectObject(708, 0), IndirectObject(746, 0), IndirectObject(716, 0), IndirectObject(159, 0), IndirectObject(157, 0), IndirectObject(135, 0), IndirectObject(146, 0), IndirectObject(667, 0), IndirectObject(671, 0), IndirectObject(691, 0), IndirectObject(697, 0), IndirectObject(693, 0), IndirectObject(715, 0), IndirectObject(706, 0), IndirectObject(714, 0), IndirectObject(717, 0), IndirectObject(718, 0), IndirectObject(724, 0), IndirectObject(725, 0), IndirectObject(726, 0), IndirectObject(729, 0), IndirectObject(730, 0), IndirectObject(695, 0), IndirectObject(83, 0), IndirectObject(699, 0), IndirectObject(120, 0), IndirectObject(152, 0), IndirectObject(156, 0), IndirectObject(148, 0), IndirectObject(727, 0), IndirectObject(728, 0), IndirectObject(82, 0), IndirectObject(665, 0), IndirectObject(674, 0), IndirectObject(701, 0), IndirectObject(709, 0), IndirectObject(719, 0), IndirectObject(735, 0), IndirectObject(736, 0), IndirectObject(741, 0), IndirectObject(679, 0), IndirectObject(686, 0), IndirectObject(92, 0), IndirectObject(85, 0), IndirectObject(87, 0), IndirectObject(89, 0), IndirectObject(672, 0), IndirectObject(118, 0), IndirectObject(119, 0), IndirectObject(104, 0), IndirectObject(109, 0), IndirectObject(113, 0), IndirectObject(114, 0), IndirectObject(105, 0), IndirectObject(115, 0), IndirectObject(117, 0), IndirectObject(111, 0), IndirectObject(106, 0), IndirectObject(107, 0), IndirectObject(108, 0), IndirectObject(110, 0), IndirectObject(124, 0), IndirectObject(129, 0), IndirectObject(121, 0), IndirectObject(127, 0), IndirectObject(122, 0), IndirectObject(134, 0), IndirectObject(132, 0), IndirectObject(126, 0), IndirectObject(123, 0), IndirectObject(128, 0), IndirectObject(130, 0), IndirectObject(131, 0), IndirectObject(136, 0), IndirectObject(133, 0), IndirectObject(684, 0)], '/T': 'fax'}, '/T': 'Number_of_ Shares_6', '/TU': 'Section 3 - Number of Shares/Contracts (or for standing instructions, list not to exceed quantity) - Security 6', '/Ff': 12582912, '/AA': {'/F': IndirectObject(184, 0), '/K': IndirectObject(182, 0)}}, 'Security_Description_6': {'/FT': '/Tx', '/Parent': {'/Kids': [IndirectObject(669, 0), IndirectObject(708, 0), IndirectObject(746, 0), IndirectObject(716, 0), IndirectObject(159, 0), IndirectObject(157, 0), IndirectObject(135, 0), IndirectObject(146, 0), IndirectObject(667, 0), IndirectObject(671, 0), IndirectObject(691, 0), IndirectObject(697, 0), IndirectObject(693, 0), IndirectObject(715, 0), IndirectObject(706, 0), IndirectObject(714, 0), IndirectObject(717, 0), IndirectObject(718, 0), IndirectObject(724, 0), IndirectObject(725, 0), IndirectObject(726, 0), IndirectObject(729, 0), IndirectObject(730, 0), IndirectObject(695, 0), IndirectObject(83, 0), IndirectObject(699, 0), IndirectObject(120, 0), IndirectObject(152, 0), IndirectObject(156, 0), IndirectObject(148, 0), IndirectObject(727, 0), IndirectObject(728, 0), IndirectObject(82, 0), IndirectObject(665, 0), IndirectObject(674, 0), IndirectObject(701, 0), IndirectObject(709, 0), IndirectObject(719, 0), IndirectObject(735, 0), IndirectObject(736, 0), IndirectObject(741, 0), IndirectObject(679, 0), IndirectObject(686, 0), IndirectObject(92, 0), IndirectObject(85, 0), IndirectObject(87, 0), IndirectObject(89, 0), IndirectObject(672, 0), IndirectObject(118, 0), IndirectObject(119, 0), IndirectObject(104, 0), IndirectObject(109, 0), IndirectObject(113, 0), IndirectObject(114, 0), IndirectObject(105, 0), IndirectObject(115, 0), IndirectObject(117, 0), IndirectObject(111, 0), IndirectObject(106, 0), IndirectObject(107, 0), IndirectObject(108, 0), IndirectObject(110, 0), IndirectObject(124, 0), IndirectObject(129, 0), IndirectObject(121, 0), IndirectObject(127, 0), IndirectObject(122, 0), IndirectObject(134, 0), IndirectObject(132, 0), IndirectObject(126, 0), IndirectObject(123, 0), IndirectObject(128, 0), IndirectObject(130, 0), IndirectObject(131, 0), IndirectObject(136, 0), IndirectObject(133, 0), IndirectObject(684, 0)], '/T': 'fax'}, '/T': 'Security_Description_6', '/TU': 'Section 3: Security Description - Security 6', '/Ff': 8388608, '/AA': {'/F': IndirectObject(179, 0)}}, 'Symbol_or_Cusip_Number_6': {'/FT': '/Tx', '/Parent': {'/Kids': [IndirectObject(669, 0), IndirectObject(708, 0), IndirectObject(746, 0), IndirectObject(716, 0), IndirectObject(159, 0), IndirectObject(157, 0), IndirectObject(135, 0), IndirectObject(146, 0), IndirectObject(667, 0), IndirectObject(671, 0), IndirectObject(691, 0), IndirectObject(697, 0), IndirectObject(693, 0), IndirectObject(715, 0), IndirectObject(706, 0), IndirectObject(714, 0), IndirectObject(717, 0), IndirectObject(718, 0), IndirectObject(724, 0), IndirectObject(725, 0), IndirectObject(726, 0), IndirectObject(729, 0), IndirectObject(730, 0), IndirectObject(695, 0), IndirectObject(83, 0), IndirectObject(699, 0), IndirectObject(120, 0), IndirectObject(152, 0), IndirectObject(156, 0), IndirectObject(148, 0), IndirectObject(727, 0), IndirectObject(728, 0), IndirectObject(82, 0), IndirectObject(665, 0), IndirectObject(674, 0), IndirectObject(701, 0), IndirectObject(709, 0), IndirectObject(719, 0), IndirectObject(735, 0), IndirectObject(736, 0), IndirectObject(741, 0), IndirectObject(679, 0), IndirectObject(686, 0), IndirectObject(92, 0), IndirectObject(85, 0), IndirectObject(87, 0), IndirectObject(89, 0), IndirectObject(672, 0), IndirectObject(118, 0), IndirectObject(119, 0), IndirectObject(104, 0), IndirectObject(109, 0), IndirectObject(113, 0), IndirectObject(114, 0), IndirectObject(105, 0), IndirectObject(115, 0), IndirectObject(117, 0), IndirectObject(111, 0), IndirectObject(106, 0), IndirectObject(107, 0), IndirectObject(108, 0), IndirectObject(110, 0), IndirectObject(124, 0), IndirectObject(129, 0), IndirectObject(121, 0), IndirectObject(127, 0), IndirectObject(122, 0), IndirectObject(134, 0), IndirectObject(132, 0), IndirectObject(126, 0), IndirectObject(123, 0), IndirectObject(128, 0), IndirectObject(130, 0), IndirectObject(131, 0), IndirectObject(136, 0), IndirectObject(133, 0), IndirectObject(684, 0)], '/T': 'fax'}, '/T': 'Symbol_or_Cusip_Number_6', '/TU': 'Section 3: Symbol or CUSIP Number - Security 6', '/Ff': 8388608, '/AA': {'/F': IndirectObject(161, 0)}}, 'Max_Number_of_ Shares_6': {'/FT': '/Tx', '/Parent': {'/Kids': [IndirectObject(669, 0), IndirectObject(708, 0), IndirectObject(746, 0), IndirectObject(716, 0), IndirectObject(159, 0), IndirectObject(157, 0), IndirectObject(135, 0), IndirectObject(146, 0), IndirectObject(667, 0), IndirectObject(671, 0), IndirectObject(691, 0), IndirectObject(697, 0), IndirectObject(693, 0), IndirectObject(715, 0), IndirectObject(706, 0), IndirectObject(714, 0), IndirectObject(717, 0), IndirectObject(718, 0), IndirectObject(724, 0), IndirectObject(725, 0), IndirectObject(726, 0), IndirectObject(729, 0), IndirectObject(730, 0), IndirectObject(695, 0), IndirectObject(83, 0), IndirectObject(699, 0), IndirectObject(120, 0), IndirectObject(152, 0), IndirectObject(156, 0), IndirectObject(148, 0), IndirectObject(727, 0), IndirectObject(728, 0), IndirectObject(82, 0), IndirectObject(665, 0), IndirectObject(674, 0), IndirectObject(701, 0), IndirectObject(709, 0), IndirectObject(719, 0), IndirectObject(735, 0), IndirectObject(736, 0), IndirectObject(741, 0), IndirectObject(679, 0), IndirectObject(686, 0), IndirectObject(92, 0), IndirectObject(85, 0), IndirectObject(87, 0), IndirectObject(89, 0), IndirectObject(672, 0), IndirectObject(118, 0), IndirectObject(119, 0), IndirectObject(104, 0), IndirectObject(109, 0), IndirectObject(113, 0), IndirectObject(114, 0), IndirectObject(105, 0), IndirectObject(115, 0), IndirectObject(117, 0), IndirectObject(111, 0), IndirectObject(106, 0), IndirectObject(107, 0), IndirectObject(108, 0), IndirectObject(110, 0), IndirectObject(124, 0), IndirectObject(129, 0), IndirectObject(121, 0), IndirectObject(127, 0), IndirectObject(122, 0), IndirectObject(134, 0), IndirectObject(132, 0), IndirectObject(126, 0), IndirectObject(123, 0), IndirectObject(128, 0), IndirectObject(130, 0), IndirectObject(131, 0), IndirectObject(136, 0), IndirectObject(133, 0), IndirectObject(684, 0)], '/T': 'fax'}, '/T': 'Max_Number_of_ Shares_6', '/TU': \"Section 3 - For standing instructions, provide maximum market value based on prior business day's closing value – Security 6\", '/Ff': 12582912, '/AA': {'/F': IndirectObject(185, 0), '/K': IndirectObject(187, 0)}}, 'Number_of_ Shares_7': {'/FT': '/Tx', '/Parent': {'/Kids': [IndirectObject(669, 0), IndirectObject(708, 0), IndirectObject(746, 0), IndirectObject(716, 0), IndirectObject(159, 0), IndirectObject(157, 0), IndirectObject(135, 0), IndirectObject(146, 0), IndirectObject(667, 0), IndirectObject(671, 0), IndirectObject(691, 0), IndirectObject(697, 0), IndirectObject(693, 0), IndirectObject(715, 0), IndirectObject(706, 0), IndirectObject(714, 0), IndirectObject(717, 0), IndirectObject(718, 0), IndirectObject(724, 0), IndirectObject(725, 0), IndirectObject(726, 0), IndirectObject(729, 0), IndirectObject(730, 0), IndirectObject(695, 0), IndirectObject(83, 0), IndirectObject(699, 0), IndirectObject(120, 0), IndirectObject(152, 0), IndirectObject(156, 0), IndirectObject(148, 0), IndirectObject(727, 0), IndirectObject(728, 0), IndirectObject(82, 0), IndirectObject(665, 0), IndirectObject(674, 0), IndirectObject(701, 0), IndirectObject(709, 0), IndirectObject(719, 0), IndirectObject(735, 0), IndirectObject(736, 0), IndirectObject(741, 0), IndirectObject(679, 0), IndirectObject(686, 0), IndirectObject(92, 0), IndirectObject(85, 0), IndirectObject(87, 0), IndirectObject(89, 0), IndirectObject(672, 0), IndirectObject(118, 0), IndirectObject(119, 0), IndirectObject(104, 0), IndirectObject(109, 0), IndirectObject(113, 0), IndirectObject(114, 0), IndirectObject(105, 0), IndirectObject(115, 0), IndirectObject(117, 0), IndirectObject(111, 0), IndirectObject(106, 0), IndirectObject(107, 0), IndirectObject(108, 0), IndirectObject(110, 0), IndirectObject(124, 0), IndirectObject(129, 0), IndirectObject(121, 0), IndirectObject(127, 0), IndirectObject(122, 0), IndirectObject(134, 0), IndirectObject(132, 0), IndirectObject(126, 0), IndirectObject(123, 0), IndirectObject(128, 0), IndirectObject(130, 0), IndirectObject(131, 0), IndirectObject(136, 0), IndirectObject(133, 0), IndirectObject(684, 0)], '/T': 'fax'}, '/T': 'Number_of_ Shares_7', '/TU': 'Section 3 - Number of Shares/Contracts (or for standing instructions, list not to exceed quantity) - Security 7', '/Ff': 12582912, '/AA': {'/F': IndirectObject(191, 0), '/K': IndirectObject(162, 0)}}, 'Security_Description_7': {'/FT': '/Tx', '/Parent': {'/Kids': [IndirectObject(669, 0), IndirectObject(708, 0), IndirectObject(746, 0), IndirectObject(716, 0), IndirectObject(159, 0), IndirectObject(157, 0), IndirectObject(135, 0), IndirectObject(146, 0), IndirectObject(667, 0), IndirectObject(671, 0), IndirectObject(691, 0), IndirectObject(697, 0), IndirectObject(693, 0), IndirectObject(715, 0), IndirectObject(706, 0), IndirectObject(714, 0), IndirectObject(717, 0), IndirectObject(718, 0), IndirectObject(724, 0), IndirectObject(725, 0), IndirectObject(726, 0), IndirectObject(729, 0), IndirectObject(730, 0), IndirectObject(695, 0), IndirectObject(83, 0), IndirectObject(699, 0), IndirectObject(120, 0), IndirectObject(152, 0), IndirectObject(156, 0), IndirectObject(148, 0), IndirectObject(727, 0), IndirectObject(728, 0), IndirectObject(82, 0), IndirectObject(665, 0), IndirectObject(674, 0), IndirectObject(701, 0), IndirectObject(709, 0), IndirectObject(719, 0), IndirectObject(735, 0), IndirectObject(736, 0), IndirectObject(741, 0), IndirectObject(679, 0), IndirectObject(686, 0), IndirectObject(92, 0), IndirectObject(85, 0), IndirectObject(87, 0), IndirectObject(89, 0), IndirectObject(672, 0), IndirectObject(118, 0), IndirectObject(119, 0), IndirectObject(104, 0), IndirectObject(109, 0), IndirectObject(113, 0), IndirectObject(114, 0), IndirectObject(105, 0), IndirectObject(115, 0), IndirectObject(117, 0), IndirectObject(111, 0), IndirectObject(106, 0), IndirectObject(107, 0), IndirectObject(108, 0), IndirectObject(110, 0), IndirectObject(124, 0), IndirectObject(129, 0), IndirectObject(121, 0), IndirectObject(127, 0), IndirectObject(122, 0), IndirectObject(134, 0), IndirectObject(132, 0), IndirectObject(126, 0), IndirectObject(123, 0), IndirectObject(128, 0), IndirectObject(130, 0), IndirectObject(131, 0), IndirectObject(136, 0), IndirectObject(133, 0), IndirectObject(684, 0)], '/T': 'fax'}, '/T': 'Security_Description_7', '/TU': 'Section 3: Security Description - Security 7', '/Ff': 8388608, '/AA': {'/F': IndirectObject(183, 0)}}, 'Symbol_or_Cusip_Number_7': {'/FT': '/Tx', '/Parent': {'/Kids': [IndirectObject(669, 0), IndirectObject(708, 0), IndirectObject(746, 0), IndirectObject(716, 0), IndirectObject(159, 0), IndirectObject(157, 0), IndirectObject(135, 0), IndirectObject(146, 0), IndirectObject(667, 0), IndirectObject(671, 0), IndirectObject(691, 0), IndirectObject(697, 0), IndirectObject(693, 0), IndirectObject(715, 0), IndirectObject(706, 0), IndirectObject(714, 0), IndirectObject(717, 0), IndirectObject(718, 0), IndirectObject(724, 0), IndirectObject(725, 0), IndirectObject(726, 0), IndirectObject(729, 0), IndirectObject(730, 0), IndirectObject(695, 0), IndirectObject(83, 0), IndirectObject(699, 0), IndirectObject(120, 0), IndirectObject(152, 0), IndirectObject(156, 0), IndirectObject(148, 0), IndirectObject(727, 0), IndirectObject(728, 0), IndirectObject(82, 0), IndirectObject(665, 0), IndirectObject(674, 0), IndirectObject(701, 0), IndirectObject(709, 0), IndirectObject(719, 0), IndirectObject(735, 0), IndirectObject(736, 0), IndirectObject(741, 0), IndirectObject(679, 0), IndirectObject(686, 0), IndirectObject(92, 0), IndirectObject(85, 0), IndirectObject(87, 0), IndirectObject(89, 0), IndirectObject(672, 0), IndirectObject(118, 0), IndirectObject(119, 0), IndirectObject(104, 0), IndirectObject(109, 0), IndirectObject(113, 0), IndirectObject(114, 0), IndirectObject(105, 0), IndirectObject(115, 0), IndirectObject(117, 0), IndirectObject(111, 0), IndirectObject(106, 0), IndirectObject(107, 0), IndirectObject(108, 0), IndirectObject(110, 0), IndirectObject(124, 0), IndirectObject(129, 0), IndirectObject(121, 0), IndirectObject(127, 0), IndirectObject(122, 0), IndirectObject(134, 0), IndirectObject(132, 0), IndirectObject(126, 0), IndirectObject(123, 0), IndirectObject(128, 0), IndirectObject(130, 0), IndirectObject(131, 0), IndirectObject(136, 0), IndirectObject(133, 0), IndirectObject(684, 0)], '/T': 'fax'}, '/T': 'Symbol_or_Cusip_Number_7', '/TU': 'Section 3: Symbol or CUSIP Number - Security 7', '/Ff': 8388608, '/AA': {'/F': IndirectObject(163, 0)}}, 'Max_Number_of_ Shares_7': {'/FT': '/Tx', '/Parent': {'/Kids': [IndirectObject(669, 0), IndirectObject(708, 0), IndirectObject(746, 0), IndirectObject(716, 0), IndirectObject(159, 0), IndirectObject(157, 0), IndirectObject(135, 0), IndirectObject(146, 0), IndirectObject(667, 0), IndirectObject(671, 0), IndirectObject(691, 0), IndirectObject(697, 0), IndirectObject(693, 0), IndirectObject(715, 0), IndirectObject(706, 0), IndirectObject(714, 0), IndirectObject(717, 0), IndirectObject(718, 0), IndirectObject(724, 0), IndirectObject(725, 0), IndirectObject(726, 0), IndirectObject(729, 0), IndirectObject(730, 0), IndirectObject(695, 0), IndirectObject(83, 0), IndirectObject(699, 0), IndirectObject(120, 0), IndirectObject(152, 0), IndirectObject(156, 0), IndirectObject(148, 0), IndirectObject(727, 0), IndirectObject(728, 0), IndirectObject(82, 0), IndirectObject(665, 0), IndirectObject(674, 0), IndirectObject(701, 0), IndirectObject(709, 0), IndirectObject(719, 0), IndirectObject(735, 0), IndirectObject(736, 0), IndirectObject(741, 0), IndirectObject(679, 0), IndirectObject(686, 0), IndirectObject(92, 0), IndirectObject(85, 0), IndirectObject(87, 0), IndirectObject(89, 0), IndirectObject(672, 0), IndirectObject(118, 0), IndirectObject(119, 0), IndirectObject(104, 0), IndirectObject(109, 0), IndirectObject(113, 0), IndirectObject(114, 0), IndirectObject(105, 0), IndirectObject(115, 0), IndirectObject(117, 0), IndirectObject(111, 0), IndirectObject(106, 0), IndirectObject(107, 0), IndirectObject(108, 0), IndirectObject(110, 0), IndirectObject(124, 0), IndirectObject(129, 0), IndirectObject(121, 0), IndirectObject(127, 0), IndirectObject(122, 0), IndirectObject(134, 0), IndirectObject(132, 0), IndirectObject(126, 0), IndirectObject(123, 0), IndirectObject(128, 0), IndirectObject(130, 0), IndirectObject(131, 0), IndirectObject(136, 0), IndirectObject(133, 0), IndirectObject(684, 0)], '/T': 'fax'}, '/T': 'Max_Number_of_ Shares_7', '/TU': \"Section 3 - For standing instructions, provide maximum market value based on prior business day's closing value – Security 7\", '/Ff': 12582912, '/AA': {'/F': IndirectObject(192, 0), '/K': IndirectObject(168, 0)}}, 'Dollar_Transferred_2': {'/FT': '/Tx', '/Parent': {'/Kids': [IndirectObject(669, 0), IndirectObject(708, 0), IndirectObject(746, 0), IndirectObject(716, 0), IndirectObject(159, 0), IndirectObject(157, 0), IndirectObject(135, 0), IndirectObject(146, 0), IndirectObject(667, 0), IndirectObject(671, 0), IndirectObject(691, 0), IndirectObject(697, 0), IndirectObject(693, 0), IndirectObject(715, 0), IndirectObject(706, 0), IndirectObject(714, 0), IndirectObject(717, 0), IndirectObject(718, 0), IndirectObject(724, 0), IndirectObject(725, 0), IndirectObject(726, 0), IndirectObject(729, 0), IndirectObject(730, 0), IndirectObject(695, 0), IndirectObject(83, 0), IndirectObject(699, 0), IndirectObject(120, 0), IndirectObject(152, 0), IndirectObject(156, 0), IndirectObject(148, 0), IndirectObject(727, 0), IndirectObject(728, 0), IndirectObject(82, 0), IndirectObject(665, 0), IndirectObject(674, 0), IndirectObject(701, 0), IndirectObject(709, 0), IndirectObject(719, 0), IndirectObject(735, 0), IndirectObject(736, 0), IndirectObject(741, 0), IndirectObject(679, 0), IndirectObject(686, 0), IndirectObject(92, 0), IndirectObject(85, 0), IndirectObject(87, 0), IndirectObject(89, 0), IndirectObject(672, 0), IndirectObject(118, 0), IndirectObject(119, 0), IndirectObject(104, 0), IndirectObject(109, 0), IndirectObject(113, 0), IndirectObject(114, 0), IndirectObject(105, 0), IndirectObject(115, 0), IndirectObject(117, 0), IndirectObject(111, 0), IndirectObject(106, 0), IndirectObject(107, 0), IndirectObject(108, 0), IndirectObject(110, 0), IndirectObject(124, 0), IndirectObject(129, 0), IndirectObject(121, 0), IndirectObject(127, 0), IndirectObject(122, 0), IndirectObject(134, 0), IndirectObject(132, 0), IndirectObject(126, 0), IndirectObject(123, 0), IndirectObject(128, 0), IndirectObject(130, 0), IndirectObject(131, 0), IndirectObject(136, 0), IndirectObject(133, 0), IndirectObject(684, 0)], '/T': 'fax'}, '/T': 'Dollar_Transferred_2', '/TU': 'Not To Exceed - Transfer Amount', '/Ff': 8388608, '/AA': {'/C': IndirectObject(788, 0), '/F': IndirectObject(789, 0), '/K': IndirectObject(790, 0)}}, 'fax': {'/Kids': [IndirectObject(669, 0), IndirectObject(708, 0), IndirectObject(746, 0), IndirectObject(716, 0), IndirectObject(159, 0), IndirectObject(157, 0), IndirectObject(135, 0), IndirectObject(146, 0), IndirectObject(667, 0), IndirectObject(671, 0), IndirectObject(691, 0), IndirectObject(697, 0), IndirectObject(693, 0), IndirectObject(715, 0), IndirectObject(706, 0), IndirectObject(714, 0), IndirectObject(717, 0), IndirectObject(718, 0), IndirectObject(724, 0), IndirectObject(725, 0), IndirectObject(726, 0), IndirectObject(729, 0), IndirectObject(730, 0), IndirectObject(695, 0), IndirectObject(83, 0), IndirectObject(699, 0), IndirectObject(120, 0), IndirectObject(152, 0), IndirectObject(156, 0), IndirectObject(148, 0), IndirectObject(727, 0), IndirectObject(728, 0), IndirectObject(82, 0), IndirectObject(665, 0), IndirectObject(674, 0), IndirectObject(701, 0), IndirectObject(709, 0), IndirectObject(719, 0), IndirectObject(735, 0), IndirectObject(736, 0), IndirectObject(741, 0), IndirectObject(679, 0), IndirectObject(686, 0), IndirectObject(92, 0), IndirectObject(85, 0), IndirectObject(87, 0), IndirectObject(89, 0), IndirectObject(672, 0), IndirectObject(118, 0), IndirectObject(119, 0), IndirectObject(104, 0), IndirectObject(109, 0), IndirectObject(113, 0), IndirectObject(114, 0), IndirectObject(105, 0), IndirectObject(115, 0), IndirectObject(117, 0), IndirectObject(111, 0), IndirectObject(106, 0), IndirectObject(107, 0), IndirectObject(108, 0), IndirectObject(110, 0), IndirectObject(124, 0), IndirectObject(129, 0), IndirectObject(121, 0), IndirectObject(127, 0), IndirectObject(122, 0), IndirectObject(134, 0), IndirectObject(132, 0), IndirectObject(126, 0), IndirectObject(123, 0), IndirectObject(128, 0), IndirectObject(130, 0), IndirectObject(131, 0), IndirectObject(136, 0), IndirectObject(133, 0), IndirectObject(684, 0)], '/T': 'fax'}, 'FaxForm': {'/FT': '/Tx', '/T': 'FaxForm', '/TU': '     ', '/Ff': 1, '/V': 'To print a blank form, check here:', '/DV': 'To print a blank form, check here:'}, 'Checkbox': {'/FT': '/Btn', '/T': 'Checkbox', '/TU': 'Print blank form'}, 'btnPrint': {'/FT': '/Btn', '/T': 'btnPrint', '/TU': 'Print form', '/Ff': 65536, '/AA': {'/D': IndirectObject(775, 0)}}, 'btnClear': {'/FT': '/Btn', '/T': 'btnClear', '/TU': 'Clear Form', '/Ff': 65536, '/AA': {'/D': IndirectObject(776, 0)}}}\n"
     ]
    }
   ],
   "source": [
    "print(forms)"
   ]
  },
  {
   "cell_type": "code",
   "execution_count": 14,
   "metadata": {},
   "outputs": [
    {
     "data": {
      "text/plain": [
       "{'/FT': '/Tx',\n",
       " '/Parent': {'/Kids': [IndirectObject(669, 0),\n",
       "   IndirectObject(708, 0),\n",
       "   IndirectObject(746, 0),\n",
       "   IndirectObject(716, 0),\n",
       "   IndirectObject(159, 0),\n",
       "   IndirectObject(157, 0),\n",
       "   IndirectObject(135, 0),\n",
       "   IndirectObject(146, 0),\n",
       "   IndirectObject(667, 0),\n",
       "   IndirectObject(671, 0),\n",
       "   IndirectObject(691, 0),\n",
       "   IndirectObject(697, 0),\n",
       "   IndirectObject(693, 0),\n",
       "   IndirectObject(715, 0),\n",
       "   IndirectObject(706, 0),\n",
       "   IndirectObject(714, 0),\n",
       "   IndirectObject(717, 0),\n",
       "   IndirectObject(718, 0),\n",
       "   IndirectObject(724, 0),\n",
       "   IndirectObject(725, 0),\n",
       "   IndirectObject(726, 0),\n",
       "   IndirectObject(729, 0),\n",
       "   IndirectObject(730, 0),\n",
       "   IndirectObject(695, 0),\n",
       "   IndirectObject(83, 0),\n",
       "   IndirectObject(699, 0),\n",
       "   IndirectObject(120, 0),\n",
       "   IndirectObject(152, 0),\n",
       "   IndirectObject(156, 0),\n",
       "   IndirectObject(148, 0),\n",
       "   IndirectObject(727, 0),\n",
       "   IndirectObject(728, 0),\n",
       "   IndirectObject(82, 0),\n",
       "   IndirectObject(665, 0),\n",
       "   IndirectObject(674, 0),\n",
       "   IndirectObject(701, 0),\n",
       "   IndirectObject(709, 0),\n",
       "   IndirectObject(719, 0),\n",
       "   IndirectObject(735, 0),\n",
       "   IndirectObject(736, 0),\n",
       "   IndirectObject(741, 0),\n",
       "   IndirectObject(679, 0),\n",
       "   IndirectObject(686, 0),\n",
       "   IndirectObject(92, 0),\n",
       "   IndirectObject(85, 0),\n",
       "   IndirectObject(87, 0),\n",
       "   IndirectObject(89, 0),\n",
       "   IndirectObject(672, 0),\n",
       "   IndirectObject(118, 0),\n",
       "   IndirectObject(119, 0),\n",
       "   IndirectObject(104, 0),\n",
       "   IndirectObject(109, 0),\n",
       "   IndirectObject(113, 0),\n",
       "   IndirectObject(114, 0),\n",
       "   IndirectObject(105, 0),\n",
       "   IndirectObject(115, 0),\n",
       "   IndirectObject(117, 0),\n",
       "   IndirectObject(111, 0),\n",
       "   IndirectObject(106, 0),\n",
       "   IndirectObject(107, 0),\n",
       "   IndirectObject(108, 0),\n",
       "   IndirectObject(110, 0),\n",
       "   IndirectObject(124, 0),\n",
       "   IndirectObject(129, 0),\n",
       "   IndirectObject(121, 0),\n",
       "   IndirectObject(127, 0),\n",
       "   IndirectObject(122, 0),\n",
       "   IndirectObject(134, 0),\n",
       "   IndirectObject(132, 0),\n",
       "   IndirectObject(126, 0),\n",
       "   IndirectObject(123, 0),\n",
       "   IndirectObject(128, 0),\n",
       "   IndirectObject(130, 0),\n",
       "   IndirectObject(131, 0),\n",
       "   IndirectObject(136, 0),\n",
       "   IndirectObject(133, 0),\n",
       "   IndirectObject(684, 0)],\n",
       "  '/T': 'fax'},\n",
       " '/T': 'Account_Name',\n",
       " '/TU': 'Section 1 - Account Name(s) (e.g., John Doe, John and Mary Doe, the Doe Family Trust, etc.)',\n",
       " '/Ff': 8388608,\n",
       " '/AA': {'/F': {'/JS': b'SwitchBorder(color.yellow, color.transparent)\\rSwitchBorderStyle(border.s, border.i)',\n",
       "   '/S': '/JavaScript'}}}"
      ]
     },
     "execution_count": 14,
     "metadata": {},
     "output_type": "execute_result"
    }
   ],
   "source": [
    "forms[\"Account_Name\"]"
   ]
  },
  {
   "cell_type": "code",
   "execution_count": 15,
   "metadata": {},
   "outputs": [
    {
     "data": {
      "text/plain": [
       "{'/FT': '/Tx',\n",
       " '/Parent': {'/Kids': [IndirectObject(669, 0),\n",
       "   IndirectObject(708, 0),\n",
       "   IndirectObject(746, 0),\n",
       "   IndirectObject(716, 0),\n",
       "   IndirectObject(159, 0),\n",
       "   IndirectObject(157, 0),\n",
       "   IndirectObject(135, 0),\n",
       "   IndirectObject(146, 0),\n",
       "   IndirectObject(667, 0),\n",
       "   IndirectObject(671, 0),\n",
       "   IndirectObject(691, 0),\n",
       "   IndirectObject(697, 0),\n",
       "   IndirectObject(693, 0),\n",
       "   IndirectObject(715, 0),\n",
       "   IndirectObject(706, 0),\n",
       "   IndirectObject(714, 0),\n",
       "   IndirectObject(717, 0),\n",
       "   IndirectObject(718, 0),\n",
       "   IndirectObject(724, 0),\n",
       "   IndirectObject(725, 0),\n",
       "   IndirectObject(726, 0),\n",
       "   IndirectObject(729, 0),\n",
       "   IndirectObject(730, 0),\n",
       "   IndirectObject(695, 0),\n",
       "   IndirectObject(83, 0),\n",
       "   IndirectObject(699, 0),\n",
       "   IndirectObject(120, 0),\n",
       "   IndirectObject(152, 0),\n",
       "   IndirectObject(156, 0),\n",
       "   IndirectObject(148, 0),\n",
       "   IndirectObject(727, 0),\n",
       "   IndirectObject(728, 0),\n",
       "   IndirectObject(82, 0),\n",
       "   IndirectObject(665, 0),\n",
       "   IndirectObject(674, 0),\n",
       "   IndirectObject(701, 0),\n",
       "   IndirectObject(709, 0),\n",
       "   IndirectObject(719, 0),\n",
       "   IndirectObject(735, 0),\n",
       "   IndirectObject(736, 0),\n",
       "   IndirectObject(741, 0),\n",
       "   IndirectObject(679, 0),\n",
       "   IndirectObject(686, 0),\n",
       "   IndirectObject(92, 0),\n",
       "   IndirectObject(85, 0),\n",
       "   IndirectObject(87, 0),\n",
       "   IndirectObject(89, 0),\n",
       "   IndirectObject(672, 0),\n",
       "   IndirectObject(118, 0),\n",
       "   IndirectObject(119, 0),\n",
       "   IndirectObject(104, 0),\n",
       "   IndirectObject(109, 0),\n",
       "   IndirectObject(113, 0),\n",
       "   IndirectObject(114, 0),\n",
       "   IndirectObject(105, 0),\n",
       "   IndirectObject(115, 0),\n",
       "   IndirectObject(117, 0),\n",
       "   IndirectObject(111, 0),\n",
       "   IndirectObject(106, 0),\n",
       "   IndirectObject(107, 0),\n",
       "   IndirectObject(108, 0),\n",
       "   IndirectObject(110, 0),\n",
       "   IndirectObject(124, 0),\n",
       "   IndirectObject(129, 0),\n",
       "   IndirectObject(121, 0),\n",
       "   IndirectObject(127, 0),\n",
       "   IndirectObject(122, 0),\n",
       "   IndirectObject(134, 0),\n",
       "   IndirectObject(132, 0),\n",
       "   IndirectObject(126, 0),\n",
       "   IndirectObject(123, 0),\n",
       "   IndirectObject(128, 0),\n",
       "   IndirectObject(130, 0),\n",
       "   IndirectObject(131, 0),\n",
       "   IndirectObject(136, 0),\n",
       "   IndirectObject(133, 0),\n",
       "   IndirectObject(684, 0)],\n",
       "  '/T': 'fax'},\n",
       " '/T': 'Transaction_Type',\n",
       " '/TU': 'Account Type (e.g., Individual, Joint, Trust, etc.)',\n",
       " '/Ff': 8388608,\n",
       " '/AA': {'/C': {'/JS': b'SwitchBorder(color.yellow, color.transparent)\\rSwitchBorderStyle(border.s, border.i)\\r',\n",
       "   '/S': '/JavaScript'}}}"
      ]
     },
     "execution_count": 15,
     "metadata": {},
     "output_type": "execute_result"
    }
   ],
   "source": [
    "forms['Transaction_Type']"
   ]
  },
  {
   "cell_type": "code",
   "execution_count": 16,
   "metadata": {},
   "outputs": [
    {
     "data": {
      "text/plain": [
       "{'/FT': '/Tx',\n",
       " '/Parent': {'/Kids': [IndirectObject(669, 0),\n",
       "   IndirectObject(708, 0),\n",
       "   IndirectObject(746, 0),\n",
       "   IndirectObject(716, 0),\n",
       "   IndirectObject(159, 0),\n",
       "   IndirectObject(157, 0),\n",
       "   IndirectObject(135, 0),\n",
       "   IndirectObject(146, 0),\n",
       "   IndirectObject(667, 0),\n",
       "   IndirectObject(671, 0),\n",
       "   IndirectObject(691, 0),\n",
       "   IndirectObject(697, 0),\n",
       "   IndirectObject(693, 0),\n",
       "   IndirectObject(715, 0),\n",
       "   IndirectObject(706, 0),\n",
       "   IndirectObject(714, 0),\n",
       "   IndirectObject(717, 0),\n",
       "   IndirectObject(718, 0),\n",
       "   IndirectObject(724, 0),\n",
       "   IndirectObject(725, 0),\n",
       "   IndirectObject(726, 0),\n",
       "   IndirectObject(729, 0),\n",
       "   IndirectObject(730, 0),\n",
       "   IndirectObject(695, 0),\n",
       "   IndirectObject(83, 0),\n",
       "   IndirectObject(699, 0),\n",
       "   IndirectObject(120, 0),\n",
       "   IndirectObject(152, 0),\n",
       "   IndirectObject(156, 0),\n",
       "   IndirectObject(148, 0),\n",
       "   IndirectObject(727, 0),\n",
       "   IndirectObject(728, 0),\n",
       "   IndirectObject(82, 0),\n",
       "   IndirectObject(665, 0),\n",
       "   IndirectObject(674, 0),\n",
       "   IndirectObject(701, 0),\n",
       "   IndirectObject(709, 0),\n",
       "   IndirectObject(719, 0),\n",
       "   IndirectObject(735, 0),\n",
       "   IndirectObject(736, 0),\n",
       "   IndirectObject(741, 0),\n",
       "   IndirectObject(679, 0),\n",
       "   IndirectObject(686, 0),\n",
       "   IndirectObject(92, 0),\n",
       "   IndirectObject(85, 0),\n",
       "   IndirectObject(87, 0),\n",
       "   IndirectObject(89, 0),\n",
       "   IndirectObject(672, 0),\n",
       "   IndirectObject(118, 0),\n",
       "   IndirectObject(119, 0),\n",
       "   IndirectObject(104, 0),\n",
       "   IndirectObject(109, 0),\n",
       "   IndirectObject(113, 0),\n",
       "   IndirectObject(114, 0),\n",
       "   IndirectObject(105, 0),\n",
       "   IndirectObject(115, 0),\n",
       "   IndirectObject(117, 0),\n",
       "   IndirectObject(111, 0),\n",
       "   IndirectObject(106, 0),\n",
       "   IndirectObject(107, 0),\n",
       "   IndirectObject(108, 0),\n",
       "   IndirectObject(110, 0),\n",
       "   IndirectObject(124, 0),\n",
       "   IndirectObject(129, 0),\n",
       "   IndirectObject(121, 0),\n",
       "   IndirectObject(127, 0),\n",
       "   IndirectObject(122, 0),\n",
       "   IndirectObject(134, 0),\n",
       "   IndirectObject(132, 0),\n",
       "   IndirectObject(126, 0),\n",
       "   IndirectObject(123, 0),\n",
       "   IndirectObject(128, 0),\n",
       "   IndirectObject(130, 0),\n",
       "   IndirectObject(131, 0),\n",
       "   IndirectObject(136, 0),\n",
       "   IndirectObject(133, 0),\n",
       "   IndirectObject(684, 0)],\n",
       "  '/T': 'fax'},\n",
       " '/T': 'Account_Number',\n",
       " '/TU': 'Section 1 - Wells Fargo 8-Digit Brokerage Account Number',\n",
       " '/Ff': 12582912,\n",
       " '/AA': {'/C': {'/JS': b'SwitchBorder(color.yellow, color.transparent)\\r\\nSwitchBorderStyle(border.s, border.i)',\n",
       "   '/S': '/JavaScript'},\n",
       "  '/K': {'/JS': 'AFSpecial_KeystrokeEx(\"9999-9999\");', '/S': '/JavaScript'}}}"
      ]
     },
     "execution_count": 16,
     "metadata": {},
     "output_type": "execute_result"
    }
   ],
   "source": [
    "forms['Account_Number']"
   ]
  },
  {
   "cell_type": "code",
   "execution_count": 17,
   "metadata": {},
   "outputs": [],
   "source": [
    "byte = forms['Account_Number']['/AA']['/C']['/JS']"
   ]
  },
  {
   "cell_type": "code",
   "execution_count": 18,
   "metadata": {},
   "outputs": [
    {
     "data": {
      "text/plain": [
       "b'SwitchBorder(color.yellow, color.transparent)\\r\\nSwitchBorderStyle(border.s, border.i)'"
      ]
     },
     "execution_count": 18,
     "metadata": {},
     "output_type": "execute_result"
    }
   ],
   "source": [
    "byte"
   ]
  },
  {
   "cell_type": "code",
   "execution_count": 19,
   "metadata": {},
   "outputs": [],
   "source": [
    "text = '/r'"
   ]
  },
  {
   "cell_type": "code",
   "execution_count": 20,
   "metadata": {},
   "outputs": [],
   "source": [
    "string = str(byte, 'utf-8')"
   ]
  },
  {
   "cell_type": "code",
   "execution_count": 21,
   "metadata": {
    "scrolled": true
   },
   "outputs": [
    {
     "data": {
      "text/plain": [
       "'SwitchBorder(color.yellow, color.transparent)\\r\\nSwitchBorderStyle(border.s, border.i)'"
      ]
     },
     "execution_count": 21,
     "metadata": {},
     "output_type": "execute_result"
    }
   ],
   "source": [
    "string"
   ]
  },
  {
   "cell_type": "code",
   "execution_count": 22,
   "metadata": {},
   "outputs": [],
   "source": [
    "updated = string.replace('SwitchBorder(color.yellow, color.transparent)\\r\\nSwitchBorderStyle(border.s, border.i)', 'SwitchBorder(color.yellow, color.transparent)\\r\\nSwitchBorderStyle(border.s, border.i)/r')"
   ]
  },
  {
   "cell_type": "code",
   "execution_count": 23,
   "metadata": {},
   "outputs": [
    {
     "data": {
      "text/plain": [
       "'SwitchBorder(color.yellow, color.transparent)\\r\\nSwitchBorderStyle(border.s, border.i)/r'"
      ]
     },
     "execution_count": 23,
     "metadata": {},
     "output_type": "execute_result"
    }
   ],
   "source": [
    "updated"
   ]
  },
  {
   "cell_type": "code",
   "execution_count": 26,
   "metadata": {},
   "outputs": [],
   "source": [
    "updated_byte = str.encode(updated)"
   ]
  },
  {
   "cell_type": "code",
   "execution_count": 27,
   "metadata": {},
   "outputs": [
    {
     "ename": "ValueError",
     "evalue": "key must be PdfObject",
     "output_type": "error",
     "traceback": [
      "\u001b[1;31m---------------------------------------------------------------------------\u001b[0m",
      "\u001b[1;31mValueError\u001b[0m                                Traceback (most recent call last)",
      "\u001b[1;32m<ipython-input-27-fd98019cb225>\u001b[0m in \u001b[0;36m<module>\u001b[1;34m\u001b[0m\n\u001b[1;32m----> 1\u001b[1;33m \u001b[0mforms\u001b[0m\u001b[1;33m[\u001b[0m\u001b[1;34m'Account_Number'\u001b[0m\u001b[1;33m]\u001b[0m\u001b[1;33m[\u001b[0m\u001b[1;34m'/AA'\u001b[0m\u001b[1;33m]\u001b[0m\u001b[1;33m[\u001b[0m\u001b[1;34m'/C'\u001b[0m\u001b[1;33m]\u001b[0m\u001b[1;33m[\u001b[0m\u001b[1;34m'/JS'\u001b[0m\u001b[1;33m]\u001b[0m \u001b[1;33m=\u001b[0m \u001b[0mupdated_byte\u001b[0m\u001b[1;33m\u001b[0m\u001b[1;33m\u001b[0m\u001b[0m\n\u001b[0m",
      "\u001b[1;32m~\\Anaconda3\\lib\\site-packages\\PyPDF2\\generic.py\u001b[0m in \u001b[0;36m__setitem__\u001b[1;34m(self, key, value)\u001b[0m\n\u001b[0;32m    501\u001b[0m     \u001b[1;32mdef\u001b[0m \u001b[0m__setitem__\u001b[0m\u001b[1;33m(\u001b[0m\u001b[0mself\u001b[0m\u001b[1;33m,\u001b[0m \u001b[0mkey\u001b[0m\u001b[1;33m,\u001b[0m \u001b[0mvalue\u001b[0m\u001b[1;33m)\u001b[0m\u001b[1;33m:\u001b[0m\u001b[1;33m\u001b[0m\u001b[1;33m\u001b[0m\u001b[0m\n\u001b[0;32m    502\u001b[0m         \u001b[1;32mif\u001b[0m \u001b[1;32mnot\u001b[0m \u001b[0misinstance\u001b[0m\u001b[1;33m(\u001b[0m\u001b[0mkey\u001b[0m\u001b[1;33m,\u001b[0m \u001b[0mPdfObject\u001b[0m\u001b[1;33m)\u001b[0m\u001b[1;33m:\u001b[0m\u001b[1;33m\u001b[0m\u001b[1;33m\u001b[0m\u001b[0m\n\u001b[1;32m--> 503\u001b[1;33m             \u001b[1;32mraise\u001b[0m \u001b[0mValueError\u001b[0m\u001b[1;33m(\u001b[0m\u001b[1;34m\"key must be PdfObject\"\u001b[0m\u001b[1;33m)\u001b[0m\u001b[1;33m\u001b[0m\u001b[1;33m\u001b[0m\u001b[0m\n\u001b[0m\u001b[0;32m    504\u001b[0m         \u001b[1;32mif\u001b[0m \u001b[1;32mnot\u001b[0m \u001b[0misinstance\u001b[0m\u001b[1;33m(\u001b[0m\u001b[0mvalue\u001b[0m\u001b[1;33m,\u001b[0m \u001b[0mPdfObject\u001b[0m\u001b[1;33m)\u001b[0m\u001b[1;33m:\u001b[0m\u001b[1;33m\u001b[0m\u001b[1;33m\u001b[0m\u001b[0m\n\u001b[0;32m    505\u001b[0m             \u001b[1;32mraise\u001b[0m \u001b[0mValueError\u001b[0m\u001b[1;33m(\u001b[0m\u001b[1;34m\"value must be PdfObject\"\u001b[0m\u001b[1;33m)\u001b[0m\u001b[1;33m\u001b[0m\u001b[1;33m\u001b[0m\u001b[0m\n",
      "\u001b[1;31mValueError\u001b[0m: key must be PdfObject"
     ]
    }
   ],
   "source": [
    "forms['Account_Number']['/AA']['/C']['/JS'] = updated_byte"
   ]
  },
  {
   "cell_type": "code",
   "execution_count": 115,
   "metadata": {},
   "outputs": [
    {
     "ename": "AttributeError",
     "evalue": "'ByteStringObject' object has no attribute 'update'",
     "output_type": "error",
     "traceback": [
      "\u001b[1;31m---------------------------------------------------------------------------\u001b[0m",
      "\u001b[1;31mAttributeError\u001b[0m                            Traceback (most recent call last)",
      "\u001b[1;32m<ipython-input-115-7dc3b0da8de0>\u001b[0m in \u001b[0;36m<module>\u001b[1;34m\u001b[0m\n\u001b[1;32m----> 1\u001b[1;33m \u001b[0mforms\u001b[0m\u001b[1;33m[\u001b[0m\u001b[1;34m'Account_Number'\u001b[0m\u001b[1;33m]\u001b[0m\u001b[1;33m[\u001b[0m\u001b[1;34m'/AA'\u001b[0m\u001b[1;33m]\u001b[0m\u001b[1;33m[\u001b[0m\u001b[1;34m'/C'\u001b[0m\u001b[1;33m]\u001b[0m\u001b[1;33m[\u001b[0m\u001b[1;34m'/JS'\u001b[0m\u001b[1;33m]\u001b[0m\u001b[1;33m.\u001b[0m\u001b[0mupdate\u001b[0m\u001b[1;33m(\u001b[0m\u001b[0mupdated_byte\u001b[0m\u001b[1;33m)\u001b[0m\u001b[1;33m\u001b[0m\u001b[1;33m\u001b[0m\u001b[0m\n\u001b[0m",
      "\u001b[1;31mAttributeError\u001b[0m: 'ByteStringObject' object has no attribute 'update'"
     ]
    }
   ],
   "source": [
    "forms['Account_Number']['/AA']['/C']['/JS'].update(updated_byte)"
   ]
  },
  {
   "cell_type": "code",
   "execution_count": 105,
   "metadata": {},
   "outputs": [
    {
     "data": {
      "text/plain": [
       "{'/FT': '/Tx',\n",
       " '/Parent': {'/Kids': [IndirectObject(669, 0),\n",
       "   IndirectObject(708, 0),\n",
       "   IndirectObject(746, 0),\n",
       "   IndirectObject(716, 0),\n",
       "   IndirectObject(159, 0),\n",
       "   IndirectObject(157, 0),\n",
       "   IndirectObject(135, 0),\n",
       "   IndirectObject(146, 0),\n",
       "   IndirectObject(667, 0),\n",
       "   IndirectObject(671, 0),\n",
       "   IndirectObject(691, 0),\n",
       "   IndirectObject(697, 0),\n",
       "   IndirectObject(693, 0),\n",
       "   IndirectObject(715, 0),\n",
       "   IndirectObject(706, 0),\n",
       "   IndirectObject(714, 0),\n",
       "   IndirectObject(717, 0),\n",
       "   IndirectObject(718, 0),\n",
       "   IndirectObject(724, 0),\n",
       "   IndirectObject(725, 0),\n",
       "   IndirectObject(726, 0),\n",
       "   IndirectObject(729, 0),\n",
       "   IndirectObject(730, 0),\n",
       "   IndirectObject(695, 0),\n",
       "   IndirectObject(83, 0),\n",
       "   IndirectObject(699, 0),\n",
       "   IndirectObject(120, 0),\n",
       "   IndirectObject(152, 0),\n",
       "   IndirectObject(156, 0),\n",
       "   IndirectObject(148, 0),\n",
       "   IndirectObject(727, 0),\n",
       "   IndirectObject(728, 0),\n",
       "   IndirectObject(82, 0),\n",
       "   IndirectObject(665, 0),\n",
       "   IndirectObject(674, 0),\n",
       "   IndirectObject(701, 0),\n",
       "   IndirectObject(709, 0),\n",
       "   IndirectObject(719, 0),\n",
       "   IndirectObject(735, 0),\n",
       "   IndirectObject(736, 0),\n",
       "   IndirectObject(741, 0),\n",
       "   IndirectObject(679, 0),\n",
       "   IndirectObject(686, 0),\n",
       "   IndirectObject(92, 0),\n",
       "   IndirectObject(85, 0),\n",
       "   IndirectObject(87, 0),\n",
       "   IndirectObject(89, 0),\n",
       "   IndirectObject(672, 0),\n",
       "   IndirectObject(118, 0),\n",
       "   IndirectObject(119, 0),\n",
       "   IndirectObject(104, 0),\n",
       "   IndirectObject(109, 0),\n",
       "   IndirectObject(113, 0),\n",
       "   IndirectObject(114, 0),\n",
       "   IndirectObject(105, 0),\n",
       "   IndirectObject(115, 0),\n",
       "   IndirectObject(117, 0),\n",
       "   IndirectObject(111, 0),\n",
       "   IndirectObject(106, 0),\n",
       "   IndirectObject(107, 0),\n",
       "   IndirectObject(108, 0),\n",
       "   IndirectObject(110, 0),\n",
       "   IndirectObject(124, 0),\n",
       "   IndirectObject(129, 0),\n",
       "   IndirectObject(121, 0),\n",
       "   IndirectObject(127, 0),\n",
       "   IndirectObject(122, 0),\n",
       "   IndirectObject(134, 0),\n",
       "   IndirectObject(132, 0),\n",
       "   IndirectObject(126, 0),\n",
       "   IndirectObject(123, 0),\n",
       "   IndirectObject(128, 0),\n",
       "   IndirectObject(130, 0),\n",
       "   IndirectObject(131, 0),\n",
       "   IndirectObject(136, 0),\n",
       "   IndirectObject(133, 0),\n",
       "   IndirectObject(684, 0)],\n",
       "  '/T': 'fax'},\n",
       " '/T': 'Account_Number',\n",
       " '/TU': 'Section 1 - Wells Fargo 8-Digit Brokerage Account Number',\n",
       " '/Ff': 12582912,\n",
       " '/AA': {'/C': {'/JS': b'SwitchBorder(color.yellow, color.transparent)\\r\\nSwitchBorderStyle(border.s, border.i)',\n",
       "   '/S': '/JavaScript'},\n",
       "  '/K': {'/JS': 'AFSpecial_KeystrokeEx(\"9999-9999\");', '/S': '/JavaScript'}}}"
      ]
     },
     "execution_count": 105,
     "metadata": {},
     "output_type": "execute_result"
    }
   ],
   "source": [
    "forms['Account_Number']"
   ]
  },
  {
   "cell_type": "code",
   "execution_count": 17,
   "metadata": {},
   "outputs": [
    {
     "data": {
      "text/plain": [
       "{'/FT': '/Tx',\n",
       " '/Parent': {'/Kids': [IndirectObject(669, 0),\n",
       "   IndirectObject(708, 0),\n",
       "   IndirectObject(746, 0),\n",
       "   IndirectObject(716, 0),\n",
       "   IndirectObject(159, 0),\n",
       "   IndirectObject(157, 0),\n",
       "   IndirectObject(135, 0),\n",
       "   IndirectObject(146, 0),\n",
       "   IndirectObject(667, 0),\n",
       "   IndirectObject(671, 0),\n",
       "   IndirectObject(691, 0),\n",
       "   IndirectObject(697, 0),\n",
       "   IndirectObject(693, 0),\n",
       "   IndirectObject(715, 0),\n",
       "   IndirectObject(706, 0),\n",
       "   IndirectObject(714, 0),\n",
       "   IndirectObject(717, 0),\n",
       "   IndirectObject(718, 0),\n",
       "   IndirectObject(724, 0),\n",
       "   IndirectObject(725, 0),\n",
       "   IndirectObject(726, 0),\n",
       "   IndirectObject(729, 0),\n",
       "   IndirectObject(730, 0),\n",
       "   IndirectObject(695, 0),\n",
       "   IndirectObject(83, 0),\n",
       "   IndirectObject(699, 0),\n",
       "   IndirectObject(120, 0),\n",
       "   IndirectObject(152, 0),\n",
       "   IndirectObject(156, 0),\n",
       "   IndirectObject(148, 0),\n",
       "   IndirectObject(727, 0),\n",
       "   IndirectObject(728, 0),\n",
       "   IndirectObject(82, 0),\n",
       "   IndirectObject(665, 0),\n",
       "   IndirectObject(674, 0),\n",
       "   IndirectObject(701, 0),\n",
       "   IndirectObject(709, 0),\n",
       "   IndirectObject(719, 0),\n",
       "   IndirectObject(735, 0),\n",
       "   IndirectObject(736, 0),\n",
       "   IndirectObject(741, 0),\n",
       "   IndirectObject(679, 0),\n",
       "   IndirectObject(686, 0),\n",
       "   IndirectObject(92, 0),\n",
       "   IndirectObject(85, 0),\n",
       "   IndirectObject(87, 0),\n",
       "   IndirectObject(89, 0),\n",
       "   IndirectObject(672, 0),\n",
       "   IndirectObject(118, 0),\n",
       "   IndirectObject(119, 0),\n",
       "   IndirectObject(104, 0),\n",
       "   IndirectObject(109, 0),\n",
       "   IndirectObject(113, 0),\n",
       "   IndirectObject(114, 0),\n",
       "   IndirectObject(105, 0),\n",
       "   IndirectObject(115, 0),\n",
       "   IndirectObject(117, 0),\n",
       "   IndirectObject(111, 0),\n",
       "   IndirectObject(106, 0),\n",
       "   IndirectObject(107, 0),\n",
       "   IndirectObject(108, 0),\n",
       "   IndirectObject(110, 0),\n",
       "   IndirectObject(124, 0),\n",
       "   IndirectObject(129, 0),\n",
       "   IndirectObject(121, 0),\n",
       "   IndirectObject(127, 0),\n",
       "   IndirectObject(122, 0),\n",
       "   IndirectObject(134, 0),\n",
       "   IndirectObject(132, 0),\n",
       "   IndirectObject(126, 0),\n",
       "   IndirectObject(123, 0),\n",
       "   IndirectObject(128, 0),\n",
       "   IndirectObject(130, 0),\n",
       "   IndirectObject(131, 0),\n",
       "   IndirectObject(136, 0),\n",
       "   IndirectObject(133, 0),\n",
       "   IndirectObject(684, 0)],\n",
       "  '/T': 'fax'},\n",
       " '/T': 'Account_Num2',\n",
       " '/TU': 'Section 3 - Receiving Account Number',\n",
       " '/Ff': 8388608,\n",
       " '/AA': {'/F': {'/JS': b'SwitchBorder(color.yellow, color.transparent)\\rSwitchBorderStyle(border.s, border.i)\\r',\n",
       "   '/S': '/JavaScript'}}}"
      ]
     },
     "execution_count": 17,
     "metadata": {},
     "output_type": "execute_result"
    }
   ],
   "source": [
    "forms['Account_Num2']"
   ]
  },
  {
   "cell_type": "code",
   "execution_count": 18,
   "metadata": {},
   "outputs": [
    {
     "data": {
      "text/plain": [
       "{'/FT': '/Tx',\n",
       " '/Parent': {'/Kids': [IndirectObject(669, 0),\n",
       "   IndirectObject(708, 0),\n",
       "   IndirectObject(746, 0),\n",
       "   IndirectObject(716, 0),\n",
       "   IndirectObject(159, 0),\n",
       "   IndirectObject(157, 0),\n",
       "   IndirectObject(135, 0),\n",
       "   IndirectObject(146, 0),\n",
       "   IndirectObject(667, 0),\n",
       "   IndirectObject(671, 0),\n",
       "   IndirectObject(691, 0),\n",
       "   IndirectObject(697, 0),\n",
       "   IndirectObject(693, 0),\n",
       "   IndirectObject(715, 0),\n",
       "   IndirectObject(706, 0),\n",
       "   IndirectObject(714, 0),\n",
       "   IndirectObject(717, 0),\n",
       "   IndirectObject(718, 0),\n",
       "   IndirectObject(724, 0),\n",
       "   IndirectObject(725, 0),\n",
       "   IndirectObject(726, 0),\n",
       "   IndirectObject(729, 0),\n",
       "   IndirectObject(730, 0),\n",
       "   IndirectObject(695, 0),\n",
       "   IndirectObject(83, 0),\n",
       "   IndirectObject(699, 0),\n",
       "   IndirectObject(120, 0),\n",
       "   IndirectObject(152, 0),\n",
       "   IndirectObject(156, 0),\n",
       "   IndirectObject(148, 0),\n",
       "   IndirectObject(727, 0),\n",
       "   IndirectObject(728, 0),\n",
       "   IndirectObject(82, 0),\n",
       "   IndirectObject(665, 0),\n",
       "   IndirectObject(674, 0),\n",
       "   IndirectObject(701, 0),\n",
       "   IndirectObject(709, 0),\n",
       "   IndirectObject(719, 0),\n",
       "   IndirectObject(735, 0),\n",
       "   IndirectObject(736, 0),\n",
       "   IndirectObject(741, 0),\n",
       "   IndirectObject(679, 0),\n",
       "   IndirectObject(686, 0),\n",
       "   IndirectObject(92, 0),\n",
       "   IndirectObject(85, 0),\n",
       "   IndirectObject(87, 0),\n",
       "   IndirectObject(89, 0),\n",
       "   IndirectObject(672, 0),\n",
       "   IndirectObject(118, 0),\n",
       "   IndirectObject(119, 0),\n",
       "   IndirectObject(104, 0),\n",
       "   IndirectObject(109, 0),\n",
       "   IndirectObject(113, 0),\n",
       "   IndirectObject(114, 0),\n",
       "   IndirectObject(105, 0),\n",
       "   IndirectObject(115, 0),\n",
       "   IndirectObject(117, 0),\n",
       "   IndirectObject(111, 0),\n",
       "   IndirectObject(106, 0),\n",
       "   IndirectObject(107, 0),\n",
       "   IndirectObject(108, 0),\n",
       "   IndirectObject(110, 0),\n",
       "   IndirectObject(124, 0),\n",
       "   IndirectObject(129, 0),\n",
       "   IndirectObject(121, 0),\n",
       "   IndirectObject(127, 0),\n",
       "   IndirectObject(122, 0),\n",
       "   IndirectObject(134, 0),\n",
       "   IndirectObject(132, 0),\n",
       "   IndirectObject(126, 0),\n",
       "   IndirectObject(123, 0),\n",
       "   IndirectObject(128, 0),\n",
       "   IndirectObject(130, 0),\n",
       "   IndirectObject(131, 0),\n",
       "   IndirectObject(136, 0),\n",
       "   IndirectObject(133, 0),\n",
       "   IndirectObject(684, 0)],\n",
       "  '/T': 'fax'},\n",
       " '/T': 'Account_Num2',\n",
       " '/TU': 'Section 3 - Receiving Account Number',\n",
       " '/Ff': 8388608,\n",
       " '/AA': {'/F': {'/JS': b'SwitchBorder(color.yellow, color.transparent)\\rSwitchBorderStyle(border.s, border.i)\\r',\n",
       "   '/S': '/JavaScript'}}}"
      ]
     },
     "execution_count": 18,
     "metadata": {},
     "output_type": "execute_result"
    }
   ],
   "source": [
    "forms['Account_Num2']"
   ]
  },
  {
   "cell_type": "code",
   "execution_count": 20,
   "metadata": {},
   "outputs": [
    {
     "data": {
      "text/plain": [
       "{'/FT': '/Tx',\n",
       " '/Parent': {'/Kids': [IndirectObject(669, 0),\n",
       "   IndirectObject(708, 0),\n",
       "   IndirectObject(746, 0),\n",
       "   IndirectObject(716, 0),\n",
       "   IndirectObject(159, 0),\n",
       "   IndirectObject(157, 0),\n",
       "   IndirectObject(135, 0),\n",
       "   IndirectObject(146, 0),\n",
       "   IndirectObject(667, 0),\n",
       "   IndirectObject(671, 0),\n",
       "   IndirectObject(691, 0),\n",
       "   IndirectObject(697, 0),\n",
       "   IndirectObject(693, 0),\n",
       "   IndirectObject(715, 0),\n",
       "   IndirectObject(706, 0),\n",
       "   IndirectObject(714, 0),\n",
       "   IndirectObject(717, 0),\n",
       "   IndirectObject(718, 0),\n",
       "   IndirectObject(724, 0),\n",
       "   IndirectObject(725, 0),\n",
       "   IndirectObject(726, 0),\n",
       "   IndirectObject(729, 0),\n",
       "   IndirectObject(730, 0),\n",
       "   IndirectObject(695, 0),\n",
       "   IndirectObject(83, 0),\n",
       "   IndirectObject(699, 0),\n",
       "   IndirectObject(120, 0),\n",
       "   IndirectObject(152, 0),\n",
       "   IndirectObject(156, 0),\n",
       "   IndirectObject(148, 0),\n",
       "   IndirectObject(727, 0),\n",
       "   IndirectObject(728, 0),\n",
       "   IndirectObject(82, 0),\n",
       "   IndirectObject(665, 0),\n",
       "   IndirectObject(674, 0),\n",
       "   IndirectObject(701, 0),\n",
       "   IndirectObject(709, 0),\n",
       "   IndirectObject(719, 0),\n",
       "   IndirectObject(735, 0),\n",
       "   IndirectObject(736, 0),\n",
       "   IndirectObject(741, 0),\n",
       "   IndirectObject(679, 0),\n",
       "   IndirectObject(686, 0),\n",
       "   IndirectObject(92, 0),\n",
       "   IndirectObject(85, 0),\n",
       "   IndirectObject(87, 0),\n",
       "   IndirectObject(89, 0),\n",
       "   IndirectObject(672, 0),\n",
       "   IndirectObject(118, 0),\n",
       "   IndirectObject(119, 0),\n",
       "   IndirectObject(104, 0),\n",
       "   IndirectObject(109, 0),\n",
       "   IndirectObject(113, 0),\n",
       "   IndirectObject(114, 0),\n",
       "   IndirectObject(105, 0),\n",
       "   IndirectObject(115, 0),\n",
       "   IndirectObject(117, 0),\n",
       "   IndirectObject(111, 0),\n",
       "   IndirectObject(106, 0),\n",
       "   IndirectObject(107, 0),\n",
       "   IndirectObject(108, 0),\n",
       "   IndirectObject(110, 0),\n",
       "   IndirectObject(124, 0),\n",
       "   IndirectObject(129, 0),\n",
       "   IndirectObject(121, 0),\n",
       "   IndirectObject(127, 0),\n",
       "   IndirectObject(122, 0),\n",
       "   IndirectObject(134, 0),\n",
       "   IndirectObject(132, 0),\n",
       "   IndirectObject(126, 0),\n",
       "   IndirectObject(123, 0),\n",
       "   IndirectObject(128, 0),\n",
       "   IndirectObject(130, 0),\n",
       "   IndirectObject(131, 0),\n",
       "   IndirectObject(136, 0),\n",
       "   IndirectObject(133, 0),\n",
       "   IndirectObject(684, 0)],\n",
       "  '/T': 'fax'},\n",
       " '/T': 'Receiving_Account_Name',\n",
       " '/TU': 'Section 3 - Receiving Account Name',\n",
       " '/Ff': 8388608,\n",
       " '/AA': {'/F': {'/JS': b'SwitchBorder(color.yellow, color.transparent)\\rSwitchBorderStyle(border.s, border.i)\\r',\n",
       "   '/S': '/JavaScript'}}}"
      ]
     },
     "execution_count": 20,
     "metadata": {},
     "output_type": "execute_result"
    }
   ],
   "source": [
    "forms['Receiving_Account_Name']"
   ]
  },
  {
   "cell_type": "code",
   "execution_count": 21,
   "metadata": {},
   "outputs": [
    {
     "data": {
      "text/plain": [
       "{'/FT': '/Tx',\n",
       " '/Parent': {'/Kids': [IndirectObject(669, 0),\n",
       "   IndirectObject(708, 0),\n",
       "   IndirectObject(746, 0),\n",
       "   IndirectObject(716, 0),\n",
       "   IndirectObject(159, 0),\n",
       "   IndirectObject(157, 0),\n",
       "   IndirectObject(135, 0),\n",
       "   IndirectObject(146, 0),\n",
       "   IndirectObject(667, 0),\n",
       "   IndirectObject(671, 0),\n",
       "   IndirectObject(691, 0),\n",
       "   IndirectObject(697, 0),\n",
       "   IndirectObject(693, 0),\n",
       "   IndirectObject(715, 0),\n",
       "   IndirectObject(706, 0),\n",
       "   IndirectObject(714, 0),\n",
       "   IndirectObject(717, 0),\n",
       "   IndirectObject(718, 0),\n",
       "   IndirectObject(724, 0),\n",
       "   IndirectObject(725, 0),\n",
       "   IndirectObject(726, 0),\n",
       "   IndirectObject(729, 0),\n",
       "   IndirectObject(730, 0),\n",
       "   IndirectObject(695, 0),\n",
       "   IndirectObject(83, 0),\n",
       "   IndirectObject(699, 0),\n",
       "   IndirectObject(120, 0),\n",
       "   IndirectObject(152, 0),\n",
       "   IndirectObject(156, 0),\n",
       "   IndirectObject(148, 0),\n",
       "   IndirectObject(727, 0),\n",
       "   IndirectObject(728, 0),\n",
       "   IndirectObject(82, 0),\n",
       "   IndirectObject(665, 0),\n",
       "   IndirectObject(674, 0),\n",
       "   IndirectObject(701, 0),\n",
       "   IndirectObject(709, 0),\n",
       "   IndirectObject(719, 0),\n",
       "   IndirectObject(735, 0),\n",
       "   IndirectObject(736, 0),\n",
       "   IndirectObject(741, 0),\n",
       "   IndirectObject(679, 0),\n",
       "   IndirectObject(686, 0),\n",
       "   IndirectObject(92, 0),\n",
       "   IndirectObject(85, 0),\n",
       "   IndirectObject(87, 0),\n",
       "   IndirectObject(89, 0),\n",
       "   IndirectObject(672, 0),\n",
       "   IndirectObject(118, 0),\n",
       "   IndirectObject(119, 0),\n",
       "   IndirectObject(104, 0),\n",
       "   IndirectObject(109, 0),\n",
       "   IndirectObject(113, 0),\n",
       "   IndirectObject(114, 0),\n",
       "   IndirectObject(105, 0),\n",
       "   IndirectObject(115, 0),\n",
       "   IndirectObject(117, 0),\n",
       "   IndirectObject(111, 0),\n",
       "   IndirectObject(106, 0),\n",
       "   IndirectObject(107, 0),\n",
       "   IndirectObject(108, 0),\n",
       "   IndirectObject(110, 0),\n",
       "   IndirectObject(124, 0),\n",
       "   IndirectObject(129, 0),\n",
       "   IndirectObject(121, 0),\n",
       "   IndirectObject(127, 0),\n",
       "   IndirectObject(122, 0),\n",
       "   IndirectObject(134, 0),\n",
       "   IndirectObject(132, 0),\n",
       "   IndirectObject(126, 0),\n",
       "   IndirectObject(123, 0),\n",
       "   IndirectObject(128, 0),\n",
       "   IndirectObject(130, 0),\n",
       "   IndirectObject(131, 0),\n",
       "   IndirectObject(136, 0),\n",
       "   IndirectObject(133, 0),\n",
       "   IndirectObject(684, 0)],\n",
       "  '/T': 'fax'},\n",
       " '/T': 'Firm_Num',\n",
       " '/TU': 'Section 3 - Firm or DTC Number',\n",
       " '/Ff': 12582912,\n",
       " '/AA': {'/F': {'/JS': b'SwitchBorder(color.yellow, color.transparent)\\rSwitchBorderStyle(border.s, border.i)\\r',\n",
       "   '/S': '/JavaScript'}}}"
      ]
     },
     "execution_count": 21,
     "metadata": {},
     "output_type": "execute_result"
    }
   ],
   "source": [
    "forms['Firm_Num']"
   ]
  },
  {
   "cell_type": "code",
   "execution_count": 22,
   "metadata": {},
   "outputs": [
    {
     "data": {
      "text/plain": [
       "{'/FT': '/Tx',\n",
       " '/Parent': {'/Kids': [IndirectObject(669, 0),\n",
       "   IndirectObject(708, 0),\n",
       "   IndirectObject(746, 0),\n",
       "   IndirectObject(716, 0),\n",
       "   IndirectObject(159, 0),\n",
       "   IndirectObject(157, 0),\n",
       "   IndirectObject(135, 0),\n",
       "   IndirectObject(146, 0),\n",
       "   IndirectObject(667, 0),\n",
       "   IndirectObject(671, 0),\n",
       "   IndirectObject(691, 0),\n",
       "   IndirectObject(697, 0),\n",
       "   IndirectObject(693, 0),\n",
       "   IndirectObject(715, 0),\n",
       "   IndirectObject(706, 0),\n",
       "   IndirectObject(714, 0),\n",
       "   IndirectObject(717, 0),\n",
       "   IndirectObject(718, 0),\n",
       "   IndirectObject(724, 0),\n",
       "   IndirectObject(725, 0),\n",
       "   IndirectObject(726, 0),\n",
       "   IndirectObject(729, 0),\n",
       "   IndirectObject(730, 0),\n",
       "   IndirectObject(695, 0),\n",
       "   IndirectObject(83, 0),\n",
       "   IndirectObject(699, 0),\n",
       "   IndirectObject(120, 0),\n",
       "   IndirectObject(152, 0),\n",
       "   IndirectObject(156, 0),\n",
       "   IndirectObject(148, 0),\n",
       "   IndirectObject(727, 0),\n",
       "   IndirectObject(728, 0),\n",
       "   IndirectObject(82, 0),\n",
       "   IndirectObject(665, 0),\n",
       "   IndirectObject(674, 0),\n",
       "   IndirectObject(701, 0),\n",
       "   IndirectObject(709, 0),\n",
       "   IndirectObject(719, 0),\n",
       "   IndirectObject(735, 0),\n",
       "   IndirectObject(736, 0),\n",
       "   IndirectObject(741, 0),\n",
       "   IndirectObject(679, 0),\n",
       "   IndirectObject(686, 0),\n",
       "   IndirectObject(92, 0),\n",
       "   IndirectObject(85, 0),\n",
       "   IndirectObject(87, 0),\n",
       "   IndirectObject(89, 0),\n",
       "   IndirectObject(672, 0),\n",
       "   IndirectObject(118, 0),\n",
       "   IndirectObject(119, 0),\n",
       "   IndirectObject(104, 0),\n",
       "   IndirectObject(109, 0),\n",
       "   IndirectObject(113, 0),\n",
       "   IndirectObject(114, 0),\n",
       "   IndirectObject(105, 0),\n",
       "   IndirectObject(115, 0),\n",
       "   IndirectObject(117, 0),\n",
       "   IndirectObject(111, 0),\n",
       "   IndirectObject(106, 0),\n",
       "   IndirectObject(107, 0),\n",
       "   IndirectObject(108, 0),\n",
       "   IndirectObject(110, 0),\n",
       "   IndirectObject(124, 0),\n",
       "   IndirectObject(129, 0),\n",
       "   IndirectObject(121, 0),\n",
       "   IndirectObject(127, 0),\n",
       "   IndirectObject(122, 0),\n",
       "   IndirectObject(134, 0),\n",
       "   IndirectObject(132, 0),\n",
       "   IndirectObject(126, 0),\n",
       "   IndirectObject(123, 0),\n",
       "   IndirectObject(128, 0),\n",
       "   IndirectObject(130, 0),\n",
       "   IndirectObject(131, 0),\n",
       "   IndirectObject(136, 0),\n",
       "   IndirectObject(133, 0),\n",
       "   IndirectObject(684, 0)],\n",
       "  '/T': 'fax'},\n",
       " '/T': 'Delivery_Instructions',\n",
       " '/TU': 'Section 3 - Delivery Instructions',\n",
       " '/Ff': 8388608,\n",
       " '/AA': {'/F': {'/JS': b'SwitchBorder(color.yellow, color.transparent)\\rSwitchBorderStyle(border.s, border.i)\\r',\n",
       "   '/S': '/JavaScript'}}}"
      ]
     },
     "execution_count": 22,
     "metadata": {},
     "output_type": "execute_result"
    }
   ],
   "source": [
    "forms['Delivery_Instructions']"
   ]
  },
  {
   "cell_type": "code",
   "execution_count": 23,
   "metadata": {},
   "outputs": [
    {
     "data": {
      "text/plain": [
       "{'/FT': '/Tx',\n",
       " '/Parent': {'/Kids': [IndirectObject(669, 0),\n",
       "   IndirectObject(708, 0),\n",
       "   IndirectObject(746, 0),\n",
       "   IndirectObject(716, 0),\n",
       "   IndirectObject(159, 0),\n",
       "   IndirectObject(157, 0),\n",
       "   IndirectObject(135, 0),\n",
       "   IndirectObject(146, 0),\n",
       "   IndirectObject(667, 0),\n",
       "   IndirectObject(671, 0),\n",
       "   IndirectObject(691, 0),\n",
       "   IndirectObject(697, 0),\n",
       "   IndirectObject(693, 0),\n",
       "   IndirectObject(715, 0),\n",
       "   IndirectObject(706, 0),\n",
       "   IndirectObject(714, 0),\n",
       "   IndirectObject(717, 0),\n",
       "   IndirectObject(718, 0),\n",
       "   IndirectObject(724, 0),\n",
       "   IndirectObject(725, 0),\n",
       "   IndirectObject(726, 0),\n",
       "   IndirectObject(729, 0),\n",
       "   IndirectObject(730, 0),\n",
       "   IndirectObject(695, 0),\n",
       "   IndirectObject(83, 0),\n",
       "   IndirectObject(699, 0),\n",
       "   IndirectObject(120, 0),\n",
       "   IndirectObject(152, 0),\n",
       "   IndirectObject(156, 0),\n",
       "   IndirectObject(148, 0),\n",
       "   IndirectObject(727, 0),\n",
       "   IndirectObject(728, 0),\n",
       "   IndirectObject(82, 0),\n",
       "   IndirectObject(665, 0),\n",
       "   IndirectObject(674, 0),\n",
       "   IndirectObject(701, 0),\n",
       "   IndirectObject(709, 0),\n",
       "   IndirectObject(719, 0),\n",
       "   IndirectObject(735, 0),\n",
       "   IndirectObject(736, 0),\n",
       "   IndirectObject(741, 0),\n",
       "   IndirectObject(679, 0),\n",
       "   IndirectObject(686, 0),\n",
       "   IndirectObject(92, 0),\n",
       "   IndirectObject(85, 0),\n",
       "   IndirectObject(87, 0),\n",
       "   IndirectObject(89, 0),\n",
       "   IndirectObject(672, 0),\n",
       "   IndirectObject(118, 0),\n",
       "   IndirectObject(119, 0),\n",
       "   IndirectObject(104, 0),\n",
       "   IndirectObject(109, 0),\n",
       "   IndirectObject(113, 0),\n",
       "   IndirectObject(114, 0),\n",
       "   IndirectObject(105, 0),\n",
       "   IndirectObject(115, 0),\n",
       "   IndirectObject(117, 0),\n",
       "   IndirectObject(111, 0),\n",
       "   IndirectObject(106, 0),\n",
       "   IndirectObject(107, 0),\n",
       "   IndirectObject(108, 0),\n",
       "   IndirectObject(110, 0),\n",
       "   IndirectObject(124, 0),\n",
       "   IndirectObject(129, 0),\n",
       "   IndirectObject(121, 0),\n",
       "   IndirectObject(127, 0),\n",
       "   IndirectObject(122, 0),\n",
       "   IndirectObject(134, 0),\n",
       "   IndirectObject(132, 0),\n",
       "   IndirectObject(126, 0),\n",
       "   IndirectObject(123, 0),\n",
       "   IndirectObject(128, 0),\n",
       "   IndirectObject(130, 0),\n",
       "   IndirectObject(131, 0),\n",
       "   IndirectObject(136, 0),\n",
       "   IndirectObject(133, 0),\n",
       "   IndirectObject(684, 0)],\n",
       "  '/T': 'fax'},\n",
       " '/T': 'Account_Num1',\n",
       " '/TU': 'Section 3 - 8-Digit Account Number',\n",
       " '/Ff': 12582912,\n",
       " '/AA': {'/K': {'/JS': 'AFSpecial_KeystrokeEx(\"9999-9999\");',\n",
       "   '/S': '/JavaScript'},\n",
       "  '/V': {'/JS': b'SwitchBorder(color.yellow, color.transparent)\\r\\nSwitchBorderStyle(border.s, border.i)\\r\\n',\n",
       "   '/S': '/JavaScript'}}}"
      ]
     },
     "execution_count": 23,
     "metadata": {},
     "output_type": "execute_result"
    }
   ],
   "source": [
    "forms['Account_Num1']"
   ]
  },
  {
   "cell_type": "code",
   "execution_count": null,
   "metadata": {},
   "outputs": [],
   "source": []
  },
  {
   "cell_type": "code",
   "execution_count": null,
   "metadata": {},
   "outputs": [],
   "source": []
  },
  {
   "cell_type": "code",
   "execution_count": null,
   "metadata": {},
   "outputs": [],
   "source": []
  },
  {
   "cell_type": "code",
   "execution_count": 19,
   "metadata": {},
   "outputs": [],
   "source": [
    "from pdfrw import PdfReader"
   ]
  },
  {
   "cell_type": "code",
   "execution_count": null,
   "metadata": {},
   "outputs": [],
   "source": [
    "values = pdf.Root.values()"
   ]
  },
  {
   "cell_type": "code",
   "execution_count": null,
   "metadata": {},
   "outputs": [],
   "source": [
    "pdf = PdfReader('letter_of_authorization.pdf')\n",
    "print(pdf.Root.keys)"
   ]
  },
  {
   "cell_type": "code",
   "execution_count": null,
   "metadata": {},
   "outputs": [],
   "source": [
    "print(values)"
   ]
  },
  {
   "cell_type": "code",
   "execution_count": null,
   "metadata": {},
   "outputs": [],
   "source": [
    "value['']"
   ]
  },
  {
   "cell_type": "code",
   "execution_count": null,
   "metadata": {},
   "outputs": [],
   "source": []
  },
  {
   "cell_type": "code",
   "execution_count": null,
   "metadata": {},
   "outputs": [],
   "source": []
  },
  {
   "cell_type": "code",
   "execution_count": null,
   "metadata": {},
   "outputs": [],
   "source": []
  },
  {
   "cell_type": "code",
   "execution_count": null,
   "metadata": {},
   "outputs": [],
   "source": []
  },
  {
   "cell_type": "code",
   "execution_count": null,
   "metadata": {},
   "outputs": [],
   "source": []
  }
 ],
 "metadata": {
  "kernelspec": {
   "display_name": "Python 3",
   "language": "python",
   "name": "python3"
  },
  "language_info": {
   "codemirror_mode": {
    "name": "ipython",
    "version": 3
   },
   "file_extension": ".py",
   "mimetype": "text/x-python",
   "name": "python",
   "nbconvert_exporter": "python",
   "pygments_lexer": "ipython3",
   "version": "3.7.3"
  }
 },
 "nbformat": 4,
 "nbformat_minor": 2
}
