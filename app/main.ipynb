{
 "cells": [
  {
   "cell_type": "code",
   "execution_count": 437,
   "metadata": {},
   "outputs": [],
   "source": [
    "import os\n",
    "import pdfrw\n",
    "from pdfrw import PdfReader"
   ]
  },
  {
   "cell_type": "code",
   "execution_count": 438,
   "metadata": {},
   "outputs": [],
   "source": [
    "ANNOT_KEY = '/Annots'\n",
    "ANNOT_FIELD_KEY = '/T'\n",
    "SUBTYPE_KEY = '/Subtype'\n",
    "WIDGET_SUBTYPE_KEY = '/Widget'"
   ]
  },
  {
   "cell_type": "code",
   "execution_count": 439,
   "metadata": {},
   "outputs": [],
   "source": [
    "pdf = PdfReader('letter_of_authorization.pdf')"
   ]
  },
  {
   "cell_type": "code",
   "execution_count": 440,
   "metadata": {},
   "outputs": [],
   "source": [
    "annotations = pdf.pages[0][ANNOT_KEY]"
   ]
  },
  {
   "cell_type": "code",
   "execution_count": 441,
   "metadata": {},
   "outputs": [],
   "source": [
    "brokerage_number = '1111-1111' \n",
    "account_name = 'Nathan Otsuka'\n",
    "account_type = 'Individual'\n",
    "check_box = 'x'\n",
    "receiving_wells_account_number = \"2222-2222\"\n",
    "receiving_account_number = '3333-3333'\n",
    "receiving_firm_name = 'Robinhood' \n",
    "receiving_account_name = 'Nick Osterfelt'\n",
    "account_title = \"Family Portfolio\"\n",
    "delivery_instructions = \"Partial Transfer\"\n",
    "firm_dtc_number = \"6769\"\n",
    "purpose = \"recreation\"\n",
    "number_of_shares_1 = '1'\n",
    "security_name_1 = \"Hansebrands Inc.\"\n",
    "ticker_symbol_1= 'HBI'\n",
    "number_of_shares_2 = ''\n",
    "security_name_2 = ''\n",
    "ticker_symbol_2 = ''\n",
    "number_of_shares_3 = ''\n",
    "security_name_3 = ''\n",
    "ticker_symbol_3 = ''\n",
    "number_of_shares_4 = ''\n",
    "security_name_4 = ''\n",
    "ticker_symbol_4 = ''\n",
    "number_of_shares_5 = ''\n",
    "security_name_5 = ''\n",
    "ticker_symbol_5 = ''\n",
    "number_of_shares_6 = ''\n",
    "security_name_6 = ''\n",
    "ticker_symbol_6 = ''\n",
    "number_of_shares_7 = ''\n",
    "security_name_7 = ''\n",
    "ticker_symbol_7 = ''\n",
    "print_name ='Nathan Otsuka'\n",
    "date_signed = '12/24/2019' \n",
    "none = ''"
   ]
  },
  {
   "cell_type": "code",
   "execution_count": 442,
   "metadata": {},
   "outputs": [],
   "source": [
    "data_dict = {\n",
    "    'Account_Number': brokerage_number,\n",
    "    'Account_Name': account_name,\n",
    "    'Transaction_Type': account_type,\n",
    "    'Receiving_Account_Name': receiving_account_name,\n",
    "    'Account_Num2': receiving_account_number,\n",
    "    'Delivery_Instructions': delivery_instructions,\n",
    "    'Recipient_Name': receiving_firm_name,\n",
    "    'Account_Num1': receiving_wells_account_number,\n",
    "    'Firm_Num': firm_dtc_number,\n",
    "    'Account_Title_0': account_title,\n",
    "    'Purpose': purpose,\n",
    "    'Checkbox': check_box,\n",
    "    'Number_of_ Shares_1': number_of_shares_1,\n",
    "    'Security_Description_1': security_name_1,\n",
    "    'Symbol_or_Cusip_Number_1': ticker_symbol_1,\n",
    "    'Number_of_ Shares_2': number_of_shares_2,\n",
    "    'Security_Description_2': security_name_2,\n",
    "    'Symbol_or_Cusip_Number_2': ticker_symbol_2,\n",
    "    'Number_of_ Shares_3': number_of_shares_3,\n",
    "    'Security_Description_3': security_name_3,\n",
    "    'Symbol_or_Cusip_Number_3': ticker_symbol_3,\n",
    "    'Number_of_ Shares_4': number_of_shares_4,\n",
    "    'Security_Description_4': security_name_4,\n",
    "    'Symbol_or_Cusip_Number_4': ticker_symbol_4,\n",
    "    'Number_of_ Shares_5': number_of_shares_5,\n",
    "    'Security_Description_5': security_name_5,\n",
    "    'Symbol_or_Cusip_Number_5': ticker_symbol_5,\n",
    "    'Number_of_ Shares_6': number_of_shares_6,\n",
    "    'Security_Description_6': security_name_6,\n",
    "    'Symbol_or_Cusip_Number_6': ticker_symbol_6,\n",
    "    'Number_of_ Shares_7': number_of_shares_7,\n",
    "    'Security_Description_7':security_name_7,\n",
    "    'Symbol_or_Cusip_Number_7': ticker_symbol_7,\n",
    "    'Name_1': print_name,\n",
    "    'Date_4':date_signed,\n",
    "    'Select_TrRq-1': check_box,\n",
    "    'MoveAssets-1': none,\n",
    "    'MoveAssets-2': check_box,\n",
    "    'Section4_c': none,\n",
    "    'Section4_d': check_box\n",
    "}"
   ]
  },
  {
   "cell_type": "code",
   "execution_count": 443,
   "metadata": {},
   "outputs": [],
   "source": [
    "for annotation in annotations:\n",
    "    if annotation[SUBTYPE_KEY] == WIDGET_SUBTYPE_KEY:\n",
    "        if annotation[ANNOT_FIELD_KEY]:\n",
    "            key = annotation[ANNOT_FIELD_KEY][1:-1]\n",
    "            if key in data_dict.keys():\n",
    "                    annotation.update(\n",
    "                        pdfrw.PdfDict(V='{}'.format(data_dict[key]))\n",
    "                    )"
   ]
  },
  {
   "cell_type": "code",
   "execution_count": 444,
   "metadata": {},
   "outputs": [],
   "source": [
    "annotations1 = pdf.pages[1][ANNOT_KEY]"
   ]
  },
  {
   "cell_type": "code",
   "execution_count": 445,
   "metadata": {},
   "outputs": [],
   "source": [
    "for annotation in annotations1:\n",
    "    if annotation[SUBTYPE_KEY] == WIDGET_SUBTYPE_KEY:\n",
    "        if annotation[ANNOT_FIELD_KEY]:\n",
    "            key = annotation[ANNOT_FIELD_KEY][1:-1]\n",
    "            if key in data_dict.keys():\n",
    "                    annotation.update(\n",
    "                        pdfrw.PdfDict(V='{}'.format(data_dict[key]))\n",
    "                    )"
   ]
  },
  {
   "cell_type": "code",
   "execution_count": 446,
   "metadata": {},
   "outputs": [],
   "source": [
    "for annotation in annotations:\n",
    "    if annotation[SUBTYPE_KEY] == WIDGET_SUBTYPE_KEY:\n",
    "        if annotation[ANNOT_FIELD_KEY]:\n",
    "            key = annotation[ANNOT_FIELD_KEY][1:-1]\n",
    "            if key in data_dict.keys():\n",
    "                if data_dict[key] == check_box:\n",
    "                    annotation.update(pdfrw.PdfDict(AS=\"On\"))"
   ]
  },
  {
   "cell_type": "code",
   "execution_count": 447,
   "metadata": {},
   "outputs": [],
   "source": [
    "for annotation in annotations1:\n",
    "    if annotation[SUBTYPE_KEY] == WIDGET_SUBTYPE_KEY:\n",
    "        if annotation[ANNOT_FIELD_KEY]:\n",
    "            key = annotation[ANNOT_FIELD_KEY][1:-1]\n",
    "            if key in data_dict.keys():\n",
    "                if data_dict[key] == check_box:\n",
    "                    annotation.update(pdfrw.PdfDict(AS=\"On\"))"
   ]
  },
  {
   "cell_type": "code",
   "execution_count": 448,
   "metadata": {},
   "outputs": [],
   "source": [
    "pdf.Root.AcroForm.update(pdfrw.PdfDict(NeedAppearances=pdfrw.PdfObject('true')))"
   ]
  },
  {
   "cell_type": "code",
   "execution_count": 449,
   "metadata": {},
   "outputs": [],
   "source": [
    "pdfrw.PdfWriter().write('filled_out.pdf', pdf)"
   ]
  },
  {
   "cell_type": "code",
   "execution_count": null,
   "metadata": {},
   "outputs": [],
   "source": []
  },
  {
   "cell_type": "code",
   "execution_count": null,
   "metadata": {},
   "outputs": [],
   "source": []
  },
  {
   "cell_type": "code",
   "execution_count": null,
   "metadata": {},
   "outputs": [],
   "source": []
  },
  {
   "cell_type": "code",
   "execution_count": null,
   "metadata": {},
   "outputs": [],
   "source": []
  }
 ],
 "metadata": {
  "kernelspec": {
   "display_name": "Python 3",
   "language": "python",
   "name": "python3"
  },
  "language_info": {
   "codemirror_mode": {
    "name": "ipython",
    "version": 3
   },
   "file_extension": ".py",
   "mimetype": "text/x-python",
   "name": "python",
   "nbconvert_exporter": "python",
   "pygments_lexer": "ipython3",
   "version": "3.7.3"
  }
 },
 "nbformat": 4,
 "nbformat_minor": 2
}
