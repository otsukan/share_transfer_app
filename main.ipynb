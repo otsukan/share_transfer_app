{
 "cells": [
  {
   "cell_type": "code",
   "execution_count": 378,
   "metadata": {},
   "outputs": [],
   "source": [
    "from PyPDF2 import PdfFileWriter, PdfFileReader\n",
    "import io \n",
    "from reportlab.pdfgen import canvas\n",
    "from reportlab.lib.pagesizes import letter\n",
    "import pdfrw"
   ]
  },
  {
   "cell_type": "code",
   "execution_count": 434,
   "metadata": {},
   "outputs": [],
   "source": [
    "brokerage_number = '1111-1111                              1111111111111111111111111111111111111'\n",
    "account_type = 'Individual'\n",
    "account_name = 'Nathan Otsuka'\n",
    "check_box = 'x'\n",
    "to_wells_account_number = \"2222-2222\"\n",
    "receiving_account_number = '3333-3333'\n",
    "receiving_firm_name = 'Charles Swab' \n",
    "receiving_account_name = 'Nick O'\n",
    "account_title = \"Family Portfolio\"\n",
    "delivery_instructions = \"Electronically\"\n",
    "firm_dtc_number = \"0250\""
   ]
  },
  {
   "cell_type": "code",
   "execution_count": 461,
   "metadata": {},
   "outputs": [],
   "source": [
    "packet = io.BytesIO()"
   ]
  },
  {
   "cell_type": "code",
   "execution_count": 462,
   "metadata": {},
   "outputs": [],
   "source": [
    "can = canvas.Canvas(packet)"
   ]
  },
  {
   "cell_type": "code",
   "execution_count": 463,
   "metadata": {},
   "outputs": [],
   "source": [
    "can.drawString(100, 664, brokerage_number)\n",
    "can.drawString(320, 664, account_type)\n",
    "can.drawString(102, 638, account_name)\n",
    "can.drawString(377, 395, account_title)\n",
    "can.drawString(123, 395, to_wells_account_number)\n",
    "can.drawString(123, 355, receiving_account_number)\n",
    "can.drawString(104, 583, check_box)\n",
    "can.drawString(104, 375, check_box)\n",
    "can.drawString(123, 328, receiving_firm_name)\n",
    "can.drawString(550, 664, account_type)\n",
    "can.drawString(376, 355, receiving_account_name)\n",
    "can.drawString(270, 328, delivery_instructions)\n",
    "can.drawString(470, 328, firm_dtc_number)"
   ]
  },
  {
   "cell_type": "code",
   "execution_count": 464,
   "metadata": {},
   "outputs": [],
   "source": [
    "can.save()"
   ]
  },
  {
   "cell_type": "code",
   "execution_count": 465,
   "metadata": {},
   "outputs": [],
   "source": [
    "new_pdf = PdfFileReader(packet)"
   ]
  },
  {
   "cell_type": "code",
   "execution_count": 466,
   "metadata": {},
   "outputs": [],
   "source": [
    "existing_pdf = PdfFileReader(open(\"letter_of_authorization.pdf\", \"rb\"))"
   ]
  },
  {
   "cell_type": "code",
   "execution_count": 467,
   "metadata": {},
   "outputs": [],
   "source": [
    "output = PdfFileWriter()"
   ]
  },
  {
   "cell_type": "code",
   "execution_count": 468,
   "metadata": {},
   "outputs": [],
   "source": [
    "page = existing_pdf.getPage(0)"
   ]
  },
  {
   "cell_type": "code",
   "execution_count": 469,
   "metadata": {},
   "outputs": [],
   "source": [
    "page.mergePage(new_pdf.getPage(0))"
   ]
  },
  {
   "cell_type": "code",
   "execution_count": 470,
   "metadata": {},
   "outputs": [],
   "source": [
    "output.addPage(page)"
   ]
  },
  {
   "cell_type": "code",
   "execution_count": 471,
   "metadata": {},
   "outputs": [],
   "source": [
    "outputStream = open(\"destination.pdf\", \"wb\")"
   ]
  },
  {
   "cell_type": "code",
   "execution_count": 472,
   "metadata": {},
   "outputs": [],
   "source": [
    "output.write(outputStream)"
   ]
  },
  {
   "cell_type": "code",
   "execution_count": 473,
   "metadata": {},
   "outputs": [],
   "source": [
    "outputStream.close()"
   ]
  },
  {
   "cell_type": "code",
   "execution_count": null,
   "metadata": {},
   "outputs": [],
   "source": []
  },
  {
   "cell_type": "code",
   "execution_count": null,
   "metadata": {},
   "outputs": [],
   "source": []
  },
  {
   "cell_type": "code",
   "execution_count": null,
   "metadata": {},
   "outputs": [],
   "source": []
  }
 ],
 "metadata": {
  "kernelspec": {
   "display_name": "Python 3",
   "language": "python",
   "name": "python3"
  },
  "language_info": {
   "codemirror_mode": {
    "name": "ipython",
    "version": 3
   },
   "file_extension": ".py",
   "mimetype": "text/x-python",
   "name": "python",
   "nbconvert_exporter": "python",
   "pygments_lexer": "ipython3",
   "version": "3.7.3"
  }
 },
 "nbformat": 4,
 "nbformat_minor": 2
}
