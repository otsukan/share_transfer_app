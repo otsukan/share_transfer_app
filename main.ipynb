{
 "cells": [
  {
   "cell_type": "code",
   "execution_count": 78,
   "metadata": {},
   "outputs": [],
   "source": [
    "import os\n",
    "import pdfrw\n",
    "from pdfrw import PdfReader"
   ]
  },
  {
   "cell_type": "code",
   "execution_count": 79,
   "metadata": {},
   "outputs": [],
   "source": [
    "ANNOT_KEY = '/Annots'\n",
    "ANNOT_FIELD_KEY = '/T'\n",
    "ANNOT_VAL_KEY = '/V'\n",
    "ANNOT_RECT_KEY = '/Rect'\n",
    "SUBTYPE_KEY = '/Subtype'\n",
    "WIDGET_SUBTYPE_KEY = '/Widget'"
   ]
  },
  {
   "cell_type": "code",
   "execution_count": 80,
   "metadata": {},
   "outputs": [],
   "source": [
    "pdf = PdfReader('letter_of_authorization.pdf')"
   ]
  },
  {
   "cell_type": "code",
   "execution_count": 81,
   "metadata": {},
   "outputs": [],
   "source": [
    "annotations = pdf.pages[0][ANNOT_KEY]"
   ]
  },
  {
   "cell_type": "code",
   "execution_count": 82,
   "metadata": {},
   "outputs": [],
   "source": [
    "brokerage_number = '1111-1111' \n",
    "account_name = 'Nathan Otsuka'\n",
    "account_type = 'Individual'\n",
    "check_box = 'x'\n",
    "to_wells_account_number = \"2222-2222\"\n",
    "receiving_account_number = '3333-3333'\n",
    "receiving_firm_name = 'Acorn' \n",
    "receiving_account_name = 'Nick O'\n",
    "account_title = \"Family Portfolio\"\n",
    "delivery_instructions = \"Electronically\"\n",
    "firm_dtc_number = \"0250\"\n",
    "purpose = \"currency\""
   ]
  },
  {
   "cell_type": "code",
   "execution_count": 83,
   "metadata": {},
   "outputs": [],
   "source": [
    "data_dict = {\n",
    "    'Account_Number': brokerage_number,\n",
    "    'Account_Name': account_name,\n",
    "    'Transaction_Type': account_type,\n",
    "    'Receiving_Account_Name': receiving_account_name,\n",
    "    'Account_Num2': receiving_account_number,\n",
    "    'Delivery_Instructions': delivery_instructions,\n",
    "    'Recipient_Name': receiving_firm_name,\n",
    "    'Account_Num1': receiving_account_number,\n",
    "    'Firm_Num': firm_dtc_number,\n",
    "    'Account_Title_0': account_title,\n",
    "    'Purpose': purpose,\n",
    "    'Checkbox': check_box \n",
    "}"
   ]
  },
  {
   "cell_type": "code",
   "execution_count": 84,
   "metadata": {},
   "outputs": [],
   "source": [
    "for annotation in annotations:\n",
    "    if annotation[SUBTYPE_KEY] == WIDGET_SUBTYPE_KEY:\n",
    "        if annotation[ANNOT_FIELD_KEY]:\n",
    "            key = annotation[ANNOT_FIELD_KEY][1:-1]\n",
    "            if key in data_dict.keys():\n",
    "                annotation.update(\n",
    "                    pdfrw.PdfDict(V='{}'.format(data_dict[key]))\n",
    "                )"
   ]
  },
  {
   "cell_type": "code",
   "execution_count": 85,
   "metadata": {},
   "outputs": [],
   "source": [
    "pdf = pdfrw.PdfReader('letter_of_authorization.pdf')\n",
    "annotations = pdf.pages[0][ANNOT_KEY]"
   ]
  },
  {
   "cell_type": "code",
   "execution_count": 86,
   "metadata": {},
   "outputs": [
    {
     "name": "stdout",
     "output_type": "stream",
     "text": [
      "FaxForm\n",
      "Checkbox\n",
      "btnPrint\n",
      "btnClear\n",
      "CustomJSActions\n",
      "Acct_Num_1\n",
      "Account_Number\n",
      "Transaction_Type\n",
      "Account_Name\n",
      "Purpose\n",
      "Select_TrRq-1\n",
      "Select_TrRq-2\n",
      "Dollar_Transferred_2\n",
      "Select_TrRq-3\n",
      "Dollar_1\n",
      "Type\n",
      "Date_1\n",
      "Frequency\n",
      "Date_2\n",
      "MoveAssets-1\n",
      "Account_Num1\n",
      "Account_Title_0\n",
      "MoveAssets-2\n",
      "Account_Num2\n",
      "Receiving_Account_Name\n",
      "Recipient_Name\n",
      "Delivery_Instructions\n",
      "Firm_Num\n",
      "MoveAssets-3\n",
      "Alternate_Payee\n",
      "Street_Address\n",
      "City\n",
      "State\n",
      "ZipCode\n",
      "Country\n",
      "Select_Option_Memo\n",
      "OptionalMemoNote\n",
      "DeliveryMethod-1\n",
      "DeliveryMethod-2\n",
      "ServiceReqNum\n"
     ]
    }
   ],
   "source": [
    "for annotation in annotations:\n",
    "    if annotation[SUBTYPE_KEY] == WIDGET_SUBTYPE_KEY:\n",
    "        if annotation[ANNOT_FIELD_KEY]:\n",
    "            key = annotation[ANNOT_FIELD_KEY][1:-1]\n",
    "            print(key)\n",
    "            if key in data_dict.keys():\n",
    "                    annotation.update(\n",
    "                        pdfrw.PdfDict(V='{}'.format(data_dict[key]))\n",
    "                    )"
   ]
  },
  {
   "cell_type": "code",
   "execution_count": 87,
   "metadata": {},
   "outputs": [],
   "source": [
    "pdf.Root.AcroForm.update(pdfrw.PdfDict(NeedAppearances=pdfrw.PdfObject('true')))"
   ]
  },
  {
   "cell_type": "code",
   "execution_count": 88,
   "metadata": {},
   "outputs": [],
   "source": [
    "pdfrw.PdfWriter().write('another.pdf', pdf)"
   ]
  },
  {
   "cell_type": "code",
   "execution_count": null,
   "metadata": {},
   "outputs": [],
   "source": []
  },
  {
   "cell_type": "code",
   "execution_count": null,
   "metadata": {},
   "outputs": [],
   "source": []
  },
  {
   "cell_type": "code",
   "execution_count": null,
   "metadata": {},
   "outputs": [],
   "source": []
  },
  {
   "cell_type": "code",
   "execution_count": null,
   "metadata": {},
   "outputs": [],
   "source": []
  }
 ],
 "metadata": {
  "kernelspec": {
   "display_name": "Python 3",
   "language": "python",
   "name": "python3"
  },
  "language_info": {
   "codemirror_mode": {
    "name": "ipython",
    "version": 3
   },
   "file_extension": ".py",
   "mimetype": "text/x-python",
   "name": "python",
   "nbconvert_exporter": "python",
   "pygments_lexer": "ipython3",
   "version": "3.7.3"
  }
 },
 "nbformat": 4,
 "nbformat_minor": 2
}
