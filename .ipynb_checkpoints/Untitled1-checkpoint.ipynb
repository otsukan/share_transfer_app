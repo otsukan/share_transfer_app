{
 "cells": [
  {
   "cell_type": "code",
   "execution_count": 2,
   "metadata": {},
   "outputs": [],
   "source": [
    "from io import BytesIO\n",
    "import PyPDF2\n",
    "from PyPDF2.generic import BooleanObject, NameObject, IndirectObject, NumberObject"
   ]
  },
  {
   "cell_type": "code",
   "execution_count": 4,
   "metadata": {},
   "outputs": [],
   "source": [
    "def set_need_appearances_writer(writer):\n",
    "    # basically used to ensured there are not \n",
    "    # overlapping form fields, which makes printing hard\n",
    "    try:\n",
    "        catalog = writer._root_object\n",
    "        # get the AcroForm tree and add \"/NeedAppearances attribute\n",
    "        if \"/AcroForm\" not in catalog:\n",
    "            writer._root_object.update({\n",
    "                NameObject(\"/AcroForm\"): IndirectObject(len(writer._objects), 0, writer)})\n",
    "\n",
    "        need_appearances = NameObject(\"/NeedAppearances\")\n",
    "        writer._root_object[\"/AcroForm\"][need_appearances] = BooleanObject(True)\n",
    "\n",
    "\n",
    "    except Exception as e:\n",
    "        print('set_need_appearances_writer() catch : ', repr(e))\n",
    "\n",
    "    return writer  "
   ]
  },
  {
   "cell_type": "code",
   "execution_count": 10,
   "metadata": {},
   "outputs": [
    {
     "ename": "ValueError",
     "evalue": "dictionary update sequence element #0 has length 1; 2 is required",
     "output_type": "error",
     "traceback": [
      "\u001b[1;31m---------------------------------------------------------------------------\u001b[0m",
      "\u001b[1;31mValueError\u001b[0m                                Traceback (most recent call last)",
      "\u001b[1;32m<ipython-input-10-38f00f591183>\u001b[0m in \u001b[0;36m<module>\u001b[1;34m\u001b[0m\n\u001b[0;32m     13\u001b[0m         {NameObject(\"/NeedAppearances\"): BooleanObject(True)})\n\u001b[0;32m     14\u001b[0m \u001b[1;33m\u001b[0m\u001b[0m\n\u001b[1;32m---> 15\u001b[1;33m \u001b[0mdata_dict\u001b[0m \u001b[1;33m=\u001b[0m \u001b[0mdict\u001b[0m\u001b[1;33m(\u001b[0m\u001b[1;34m\"Account_number: 1111-1111\"\u001b[0m\u001b[1;33m)\u001b[0m \u001b[1;31m# this is a dict of your DB form values\u001b[0m\u001b[1;33m\u001b[0m\u001b[1;33m\u001b[0m\u001b[0m\n\u001b[0m\u001b[0;32m     16\u001b[0m \u001b[1;33m\u001b[0m\u001b[0m\n\u001b[0;32m     17\u001b[0m \u001b[0mpdf_writer\u001b[0m\u001b[1;33m.\u001b[0m\u001b[0maddPage\u001b[0m\u001b[1;33m(\u001b[0m\u001b[0mpdf_reader\u001b[0m\u001b[1;33m.\u001b[0m\u001b[0mgetPage\u001b[0m\u001b[1;33m(\u001b[0m\u001b[1;36m0\u001b[0m\u001b[1;33m)\u001b[0m\u001b[1;33m)\u001b[0m\u001b[1;33m\u001b[0m\u001b[1;33m\u001b[0m\u001b[0m\n",
      "\u001b[1;31mValueError\u001b[0m: dictionary update sequence element #0 has length 1; 2 is required"
     ]
    }
   ],
   "source": [
    "# open the pdf\n",
    "input_stream = open(\"letter_of_authorization.pdf\", \"rb\")\n",
    "pdf_reader = PyPDF2.PdfFileReader(input_stream, strict=False)\n",
    "if \"/AcroForm\" in pdf_reader.trailer[\"/Root\"]:\n",
    "    pdf_reader.trailer[\"/Root\"][\"/AcroForm\"].update(\n",
    "        {NameObject(\"/NeedAppearances\"): BooleanObject(True)})\n",
    "\n",
    "pdf_writer = PyPDF2.PdfFileWriter()\n",
    "set_need_appearances_writer(pdf_writer)\n",
    "if \"/AcroForm\" in pdf_writer._root_object:\n",
    "    # Acro form is form field, set needs appearances to fix printing issues\n",
    "    pdf_writer._root_object[\"/AcroForm\"].update(\n",
    "        {NameObject(\"/NeedAppearances\"): BooleanObject(True)})\n",
    "\n",
    "data_dict = dict(\"Account_number: 1111-1111\") # this is a dict of your DB form values\n",
    "\n",
    "pdf_writer.addPage(pdf_reader.getPage(0))\n",
    "page = pdf_writer.getPage(0)\n",
    "# update form fields\n",
    "pdf_writer.updatePageFormFieldValues(page, data_dict)\n",
    "for j in range(0, len(page['/Annots'])):\n",
    "    writer_annot = page['/Annots'][j].getObject()\n",
    "    for field in data_dict:\n",
    "        if writer_annot.get('/T') == field:\n",
    "            writer_annot.update({\n",
    "                NameObject(\"/Ff\"): NumberObject(1)    # make ReadOnly\n",
    "            })\n",
    "output_stream = BytesIO()\n",
    "pdf_writer.write(output_stream)"
   ]
  },
  {
   "cell_type": "code",
   "execution_count": null,
   "metadata": {},
   "outputs": [],
   "source": []
  }
 ],
 "metadata": {
  "kernelspec": {
   "display_name": "Python 3",
   "language": "python",
   "name": "python3"
  },
  "language_info": {
   "codemirror_mode": {
    "name": "ipython",
    "version": 3
   },
   "file_extension": ".py",
   "mimetype": "text/x-python",
   "name": "python",
   "nbconvert_exporter": "python",
   "pygments_lexer": "ipython3",
   "version": "3.7.3"
  }
 },
 "nbformat": 4,
 "nbformat_minor": 2
}
