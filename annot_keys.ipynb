{
 "cells": [
  {
   "cell_type": "code",
   "execution_count": 61,
   "metadata": {},
   "outputs": [],
   "source": [
    "import os\n",
    "import pdfrw\n",
    "from pdfrw import PdfReader\n",
    "from PyPDF2.generic import BooleanObject, NameObject, IndirectObject, NumberObject\n",
    "from PyPDF2 import PdfFileWriter, PdfFileReader"
   ]
  },
  {
   "cell_type": "code",
   "execution_count": 62,
   "metadata": {},
   "outputs": [],
   "source": [
    "ANNOT_KEY = '/Annots'\n",
    "ANNOT_FIELD_KEY = '/T'\n",
    "ANNOT_VAL_KEY = '/V'\n",
    "ANNOT_RECT_KEY = '/Rect'\n",
    "SUBTYPE_KEY = '/Subtype'\n",
    "WIDGET_SUBTYPE_KEY = '/Widget'"
   ]
  },
  {
   "cell_type": "code",
   "execution_count": 63,
   "metadata": {},
   "outputs": [],
   "source": [
    "pdf = PdfReader('letter_of_authorization.pdf')"
   ]
  },
  {
   "cell_type": "code",
   "execution_count": 64,
   "metadata": {},
   "outputs": [],
   "source": [
    "pdf = PdfFileReader(open('letter_of_authorization.pdf', 'rb'), strict=False)\n",
    "\n",
    "if \"/AcroForm\" in pdf.trailer[\"/Root\"]:\n",
    "    pdf.trailer[\"/Root\"][\"/AcroForm\"].update(\n",
    "        {NameObject(\"/NeedAppearances\"): BooleanObject(True)}\n",
    "    )\n",
    "pdf = PdfFileWriter()\n",
    "\n",
    "if \"/AcroForm\" in pdf._root_object:\n",
    "    pdf._root_object[\"/AcroForm\"].update(\n",
    "        {NameObject(\"/NeedAppearances\"): BooleanObject(True)}\n",
    "    )"
   ]
  },
  {
   "cell_type": "code",
   "execution_count": 65,
   "metadata": {},
   "outputs": [],
   "source": [
    "data_dict = {\n",
    "    'Account_Number': '1111-11111',\n",
    "    'Account_Name': 'Nathan Otsuka',\n",
    "    'Transaction_Type': 'Individual'\n",
    "}"
   ]
  },
  {
   "cell_type": "code",
   "execution_count": 66,
   "metadata": {},
   "outputs": [],
   "source": [
    "for annotation in annotations:\n",
    "    if annotation[SUBTYPE_KEY] == WIDGET_SUBTYPE_KEY:\n",
    "        if annotation[ANNOT_FIELD_KEY]:\n",
    "            key = annotation[ANNOT_FIELD_KEY][1:-1]\n",
    "            if key in data_dict.keys():\n",
    "                annotation.update(\n",
    "                    pdfrw.PdfDict(V='{}'.format(data_dict[key]))\n",
    "                )"
   ]
  },
  {
   "cell_type": "code",
   "execution_count": 67,
   "metadata": {},
   "outputs": [],
   "source": [
    "pdf = pdfrw.PdfReader('letter_of_authorization.pdf')\n",
    "annotations = pdf.pages[0][ANNOT_KEY]"
   ]
  },
  {
   "cell_type": "code",
   "execution_count": 68,
   "metadata": {},
   "outputs": [
    {
     "name": "stdout",
     "output_type": "stream",
     "text": [
      "FaxForm\n",
      "Checkbox\n",
      "btnPrint\n",
      "btnClear\n",
      "CustomJSActions\n",
      "Acct_Num_1\n",
      "Account_Number\n",
      "Transaction_Type\n",
      "Account_Name\n",
      "Purpose\n",
      "Select_TrRq-1\n",
      "Select_TrRq-2\n",
      "Dollar_Transferred_2\n",
      "Select_TrRq-3\n",
      "Dollar_1\n",
      "Type\n",
      "Date_1\n",
      "Frequency\n",
      "Date_2\n",
      "MoveAssets-1\n",
      "Account_Num1\n",
      "Account_Title_0\n",
      "MoveAssets-2\n",
      "Account_Num2\n",
      "Receiving_Account_Name\n",
      "Recipient_Name\n",
      "Delivery_Instructions\n",
      "Firm_Num\n",
      "MoveAssets-3\n",
      "Alternate_Payee\n",
      "Street_Address\n",
      "City\n",
      "State\n",
      "ZipCode\n",
      "Country\n",
      "Select_Option_Memo\n",
      "OptionalMemoNote\n",
      "DeliveryMethod-1\n",
      "DeliveryMethod-2\n",
      "ServiceReqNum\n"
     ]
    }
   ],
   "source": [
    "for annotation in annotations:\n",
    "    if annotation[SUBTYPE_KEY] == WIDGET_SUBTYPE_KEY:\n",
    "        if annotation[ANNOT_FIELD_KEY]:\n",
    "            key = annotation[ANNOT_FIELD_KEY][1:-1]\n",
    "            print(key)\n",
    "            if key in data_dict.keys():\n",
    "                    annotation.update(\n",
    "                        pdfrw.PdfDict(V='{}'.format(data_dict[key]))\n",
    "                    )"
   ]
  },
  {
   "cell_type": "code",
   "execution_count": null,
   "metadata": {},
   "outputs": [],
   "source": [
    " for j in range(0, len(page['/Annots'])):\n",
    "        writer_annot = page['/Annots'][j].getObject()\n",
    "        for field in fields:\n",
    "            if writer_annot.get('/T') == field:\n",
    "                writer_annot.update({\n",
    "                    NameObject(\"/V\"): NameObject(fields[field]),\n",
    "                    NameObject(\"/AS\"): NameObject(fields[field])\n",
    "                })"
   ]
  },
  {
   "cell_type": "code",
   "execution_count": null,
   "metadata": {},
   "outputs": [],
   "source": []
  },
  {
   "cell_type": "code",
   "execution_count": 69,
   "metadata": {},
   "outputs": [],
   "source": [
    "pdfrw.PdfWriter().write('another.pdf', pdf)"
   ]
  },
  {
   "cell_type": "code",
   "execution_count": null,
   "metadata": {},
   "outputs": [],
   "source": []
  }
 ],
 "metadata": {
  "kernelspec": {
   "display_name": "Python 3",
   "language": "python",
   "name": "python3"
  },
  "language_info": {
   "codemirror_mode": {
    "name": "ipython",
    "version": 3
   },
   "file_extension": ".py",
   "mimetype": "text/x-python",
   "name": "python",
   "nbconvert_exporter": "python",
   "pygments_lexer": "ipython3",
   "version": "3.7.3"
  }
 },
 "nbformat": 4,
 "nbformat_minor": 2
}
